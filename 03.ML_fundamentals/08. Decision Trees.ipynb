{
 "cells": [
  {
   "cell_type": "code",
   "execution_count": 1,
   "metadata": {},
   "outputs": [
    {
     "data": {
      "text/html": [
       "<style>\n",
       "\n",
       "div.cell { /* Tunes the space between cells */\n",
       "margin-top:1em;\n",
       "margin-bottom:1em;\n",
       "}\n",
       "\n",
       "div.text_cell_render h1 { /* Main titles bigger, centered */\n",
       "font-size: 2.2em;\n",
       "line-height:1.4em;\n",
       "text-align:center;\n",
       "}\n",
       "\n",
       "div.text_cell_render h2 { /*  Parts names nearer from text */\n",
       "margin-bottom: -0.4em;\n",
       "}\n",
       "\n",
       "\n",
       "div.text_cell_render { /* Customize text cells */\n",
       "font-family: 'Arial';\n",
       "font-size:1.5em;\n",
       "line-height:1.4em;\n",
       "padding-left:3em;\n",
       "padding-right:3em;\n",
       "}\n",
       "\n",
       ".MathJax {\n",
       "    font-size: 70%;\n",
       "}\n",
       "</style>\n"
      ],
      "text/plain": [
       "<IPython.core.display.HTML object>"
      ]
     },
     "execution_count": 1,
     "metadata": {},
     "output_type": "execute_result"
    }
   ],
   "source": [
    "from IPython.display import HTML\n",
    "css_file = './custom.css'\n",
    "HTML(open(css_file, \"r\").read())"
   ]
  },
  {
   "cell_type": "markdown",
   "metadata": {},
   "source": [
    "# Decision Trees\n",
    "\n",
    "© 2018 Daniel Voigt Godoy"
   ]
  },
  {
   "cell_type": "code",
   "execution_count": 6,
   "metadata": {},
   "outputs": [
    {
     "name": "stdout",
     "output_type": "stream",
     "text": [
      "Solving environment: done\n",
      "\n",
      "## Package Plan ##\n",
      "\n",
      "  environment location: /Users/falkvandermeirsch/miniconda3\n",
      "\n",
      "  added / updated specs: \n",
      "    - python-graphviz\n",
      "\n",
      "\n",
      "The following packages will be downloaded:\n",
      "\n",
      "    package                    |            build\n",
      "    ---------------------------|-----------------\n",
      "    harfbuzz-1.8.8             |       hb8d4a28_0         703 KB  anaconda\n",
      "    ca-certificates-2018.03.07 |                0         124 KB  anaconda\n",
      "    libxml2-2.9.8              |       hab757c2_1         1.9 MB  anaconda\n",
      "    fontconfig-2.13.0          |       h5d5b041_1         245 KB  anaconda\n",
      "    fribidi-1.0.5              |       h1de35cc_0          62 KB  anaconda\n",
      "    python-graphviz-0.8.4      |           py36_1          27 KB  anaconda\n",
      "    openssl-1.1.1              |       h1de35cc_0         4.6 MB  anaconda\n",
      "    certifi-2018.10.15         |           py36_0         138 KB  anaconda\n",
      "    libtiff-4.0.9              |       hcb84e12_2         544 KB  anaconda\n",
      "    graphviz-2.40.1            |       hefbbd9a_2         6.7 MB  anaconda\n",
      "    graphite2-1.3.12           |       h2098e52_2          82 KB  anaconda\n",
      "    pango-1.42.4               |       h060686c_0         523 KB  anaconda\n",
      "    pixman-0.34.0              |       hca0a616_3         597 KB  anaconda\n",
      "    cairo-1.14.12              |       hc4e6be7_4         1.2 MB  anaconda\n",
      "    ------------------------------------------------------------\n",
      "                                           Total:        17.4 MB\n",
      "\n",
      "The following NEW packages will be INSTALLED:\n",
      "\n",
      "    cairo:           1.14.12-hc4e6be7_4 anaconda\n",
      "    fontconfig:      2.13.0-h5d5b041_1  anaconda\n",
      "    fribidi:         1.0.5-h1de35cc_0   anaconda\n",
      "    graphite2:       1.3.12-h2098e52_2  anaconda\n",
      "    graphviz:        2.40.1-hefbbd9a_2  anaconda\n",
      "    harfbuzz:        1.8.8-hb8d4a28_0   anaconda\n",
      "    libtiff:         4.0.9-hcb84e12_2   anaconda\n",
      "    libxml2:         2.9.8-hab757c2_1   anaconda\n",
      "    pango:           1.42.4-h060686c_0  anaconda\n",
      "    pixman:          0.34.0-hca0a616_3  anaconda\n",
      "    python-graphviz: 0.8.4-py36_1       anaconda\n",
      "\n",
      "The following packages will be UPDATED:\n",
      "\n",
      "    ca-certificates: 2018.03.07-0                --> 2018.03.07-0      anaconda\n",
      "    openssl:         1.1.1a-h1de35cc_0           --> 1.1.1-h1de35cc_0  anaconda\n",
      "\n",
      "The following packages will be DOWNGRADED:\n",
      "\n",
      "    certifi:         2018.11.29-py36_0           --> 2018.10.15-py36_0 anaconda\n",
      "\n",
      "\n",
      "Downloading and Extracting Packages\n",
      "harfbuzz-1.8.8       | 703 KB    | ##################################### | 100% \n",
      "ca-certificates-2018 | 124 KB    | ##################################### | 100% \n",
      "libxml2-2.9.8        | 1.9 MB    | ##################################### | 100% \n",
      "fontconfig-2.13.0    | 245 KB    | ##################################### | 100% \n",
      "fribidi-1.0.5        | 62 KB     | ##################################### | 100% \n",
      "python-graphviz-0.8. | 27 KB     | ##################################### | 100% \n",
      "openssl-1.1.1        | 4.6 MB    | ##################################### | 100% \n",
      "certifi-2018.10.15   | 138 KB    | ##################################### | 100% \n",
      "libtiff-4.0.9        | 544 KB    | ##################################### | 100% \n",
      "graphviz-2.40.1      | 6.7 MB    | ##################################### | 100% \n",
      "graphite2-1.3.12     | 82 KB     | ##################################### | 100% \n",
      "pango-1.42.4         | 523 KB    | ##################################### | 100% \n",
      "pixman-0.34.0        | 597 KB    | ##################################### | 100% \n",
      "cairo-1.14.12        | 1.2 MB    | ##################################### | 100% \n",
      "Preparing transaction: done\n",
      "Verifying transaction: done\n",
      "Executing transaction: done\n"
     ]
    }
   ],
   "source": [
    "from intuitiveml.supervised.classification.DecisionTree import *\n",
    "from intuitiveml.utils import gen_button\n",
    "!conda install -c anaconda python-graphviz -y"
   ]
  },
  {
   "cell_type": "markdown",
   "metadata": {},
   "source": [
    "## 1. Definition\n",
    "\n",
    "From the Scikit-Learn [website](https://scikit-learn.org/stable/modules/tree.html):\n",
    "    \n",
    "    Decision Trees (DTs) are a non-parametric supervised learning method used for classification and regression. The goal is to create a model that predicts the value of a target variable by learning simple decision rules inferred from the data features.\n",
    "\n",
    "A bit more informally: A decision tree is a model that ***splits*** the ***feature space*** in such a way that ***samples similar to each other*** end up together. In other words, it tries to ***minimize the heterogeneity*** of samples that fall under a same set of rules (splits).\n",
    "\n",
    "We saw already that both ***entropy*** and ***gini impurity*** are ***zero*** whenever ***all samples belong to the same class***. So, we can use either one of those to make the best split of our data!\n",
    "\n",
    "### How to choose the splitting threshold?\n",
    "\n",
    "We can try splitting it in two at different thresholds, computing the ***entropy*** (or ***gini impurity***) for both subsets and averaging the results, weighted by the number of samples in each subset.\n",
    "\n",
    "Then we pick the threshold that yielded the least entropy.\n",
    "\n",
    "$$\n",
    "Entropy_{after} = \\frac{N_{left}}{N}Entropy_{left} + \\frac{N_{right}}{N}Entropy_{right}\n",
    "$$\n",
    "\n",
    "Easy, right?\n",
    "\n",
    "This is the basic idea behind the ***Classification And Regression Tree (CART)*** algorithm."
   ]
  },
  {
   "cell_type": "markdown",
   "metadata": {},
   "source": [
    "## 2. Experiment\n",
    "\n",
    "Time to try it yourself!\n",
    "\n",
    "You have 10 data points of two colors: red and green! These are your ***labels***.\n",
    "\n",
    "Each point is has a single numerical coordinate. This is your ***feature***.\n",
    "\n",
    "You want to start training your decision tree, so you need to choose ***where*** to make the first split.\n",
    "\n",
    "The slider control below allows you to change the splitting threshold (the star). Changing the threshold modifies the resulting distributions of both ***left*** and ***right*** subsets and the corresponding ***entropies***. The ***entropy after*** the split is shown at the title.\n",
    "\n",
    "Use the slider to play with different configurations and answer the ***questions*** below."
   ]
  },
  {
   "cell_type": "markdown",
   "metadata": {},
   "source": [
    "### 2.1 First Split"
   ]
  },
  {
   "cell_type": "code",
   "execution_count": 7,
   "metadata": {},
   "outputs": [],
   "source": [
    "x, y = data()\n",
    "mydt = plotDecision(x=x, y=y, idx_mid=0)"
   ]
  },
  {
   "cell_type": "code",
   "execution_count": 8,
   "metadata": {},
   "outputs": [
    {
     "data": {
      "application/vnd.jupyter.widget-view+json": {
       "model_id": "ccbe7d2c3a0e451e8046c66b23c1b31f",
       "version_major": 2,
       "version_minor": 0
      },
      "text/plain": [
       "VBox(children=(FigureWidget({\n",
       "    'data': [{'marker': {'color': 'black'},\n",
       "              'mode': 'lines',\n",
       "     …"
      ]
     },
     "metadata": {},
     "output_type": "display_data"
    }
   ],
   "source": [
    "vb0 = VBox(build_figure(mydt), layout={'align_items': 'center'})\n",
    "vb0"
   ]
  },
  {
   "cell_type": "markdown",
   "metadata": {},
   "source": [
    "#### Questions:\n",
    "\n",
    "1. The splitting thresholds are located at the midpoints. What would happen if they were located differently?\n",
    "2. What is the threshold that minimizes entropy?\n",
    "3. What if we multiply all values by a factor of 10? 100? What does it change?"
   ]
  },
  {
   "cell_type": "markdown",
   "metadata": {},
   "source": [
    "Split at 0.3\n",
    "Scaling has no influence"
   ]
  },
  {
   "cell_type": "markdown",
   "metadata": {},
   "source": [
    "#### First Split Result\n",
    "\n",
    "If you minimized the entropy correctly, this is what your split should looks like:"
   ]
  },
  {
   "cell_type": "code",
   "execution_count": 9,
   "metadata": {},
   "outputs": [
    {
     "data": {
      "application/vnd.jupyter.widget-view+json": {
       "model_id": "c4c6fa058d854905b067232ff06179a6",
       "version_major": 2,
       "version_minor": 0
      },
      "text/plain": [
       "Button(description='Show Tree 1', style=ButtonStyle())"
      ]
     },
     "metadata": {},
     "output_type": "display_data"
    },
    {
     "data": {
      "image/svg+xml": [
       "<?xml version=\"1.0\" encoding=\"UTF-8\" standalone=\"no\"?>\n",
       "<!DOCTYPE svg PUBLIC \"-//W3C//DTD SVG 1.1//EN\"\n",
       " \"http://www.w3.org/Graphics/SVG/1.1/DTD/svg11.dtd\">\n",
       "<!-- Generated by graphviz version 2.40.1 (20161225.0304)\n",
       " -->\n",
       "<!-- Title: Tree Pages: 1 -->\n",
       "<svg width=\"244pt\" height=\"195pt\"\n",
       " viewBox=\"0.00 0.00 243.50 195.00\" xmlns=\"http://www.w3.org/2000/svg\" xmlns:xlink=\"http://www.w3.org/1999/xlink\">\n",
       "<g id=\"graph0\" class=\"graph\" transform=\"scale(1 1) rotate(0) translate(4 191)\">\n",
       "<title>Tree</title>\n",
       "<polygon fill=\"#ffffff\" stroke=\"transparent\" points=\"-4,4 -4,-191 239.5,-191 239.5,4 -4,4\"/>\n",
       "<!-- 0 -->\n",
       "<g id=\"node1\" class=\"node\">\n",
       "<title>0</title>\n",
       "<path fill=\"#399de5\" fill-opacity=\"0.572549\" stroke=\"#000000\" d=\"M165,-187C165,-187 75,-187 75,-187 69,-187 63,-181 63,-175 63,-175 63,-116 63,-116 63,-110 69,-104 75,-104 75,-104 165,-104 165,-104 171,-104 177,-110 177,-116 177,-116 177,-175 177,-175 177,-181 171,-187 165,-187\"/>\n",
       "<text text-anchor=\"start\" x=\"97.5\" y=\"-171.8\" font-family=\"Helvetica,sans-Serif\" font-size=\"14.00\" fill=\"#000000\">X ≤ 0.3</text>\n",
       "<text text-anchor=\"start\" x=\"71\" y=\"-156.8\" font-family=\"Helvetica,sans-Serif\" font-size=\"14.00\" fill=\"#000000\">entropy = 0.881</text>\n",
       "<text text-anchor=\"start\" x=\"78\" y=\"-141.8\" font-family=\"Helvetica,sans-Serif\" font-size=\"14.00\" fill=\"#000000\">samples = 10</text>\n",
       "<text text-anchor=\"start\" x=\"79.5\" y=\"-126.8\" font-family=\"Helvetica,sans-Serif\" font-size=\"14.00\" fill=\"#000000\">value = [3, 7]</text>\n",
       "<text text-anchor=\"start\" x=\"76.5\" y=\"-111.8\" font-family=\"Helvetica,sans-Serif\" font-size=\"14.00\" fill=\"#000000\">class = Green</text>\n",
       "</g>\n",
       "<!-- 1 -->\n",
       "<g id=\"node2\" class=\"node\">\n",
       "<title>1</title>\n",
       "<path fill=\"#e58139\" fill-opacity=\"0.666667\" stroke=\"#000000\" d=\"M102,-68C102,-68 12,-68 12,-68 6,-68 0,-62 0,-56 0,-56 0,-12 0,-12 0,-6 6,0 12,0 12,0 102,0 102,0 108,0 114,-6 114,-12 114,-12 114,-56 114,-56 114,-62 108,-68 102,-68\"/>\n",
       "<text text-anchor=\"start\" x=\"8\" y=\"-52.8\" font-family=\"Helvetica,sans-Serif\" font-size=\"14.00\" fill=\"#000000\">entropy = 0.811</text>\n",
       "<text text-anchor=\"start\" x=\"19\" y=\"-37.8\" font-family=\"Helvetica,sans-Serif\" font-size=\"14.00\" fill=\"#000000\">samples = 4</text>\n",
       "<text text-anchor=\"start\" x=\"16.5\" y=\"-22.8\" font-family=\"Helvetica,sans-Serif\" font-size=\"14.00\" fill=\"#000000\">value = [3, 1]</text>\n",
       "<text text-anchor=\"start\" x=\"20\" y=\"-7.8\" font-family=\"Helvetica,sans-Serif\" font-size=\"14.00\" fill=\"#000000\">class = Red</text>\n",
       "</g>\n",
       "<!-- 0&#45;&gt;1 -->\n",
       "<g id=\"edge1\" class=\"edge\">\n",
       "<title>0&#45;&gt;1</title>\n",
       "<path fill=\"none\" stroke=\"#000000\" d=\"M96.5411,-103.9815C91.6078,-95.2504 86.3926,-86.0202 81.4248,-77.2281\"/>\n",
       "<polygon fill=\"#000000\" stroke=\"#000000\" points=\"84.3263,-75.2483 76.3597,-68.2637 78.2319,-78.6918 84.3263,-75.2483\"/>\n",
       "<text text-anchor=\"middle\" x=\"69.6651\" y=\"-88.6506\" font-family=\"Helvetica,sans-Serif\" font-size=\"14.00\" fill=\"#000000\">True</text>\n",
       "</g>\n",
       "<!-- 2 -->\n",
       "<g id=\"node3\" class=\"node\">\n",
       "<title>2</title>\n",
       "<path fill=\"#399de5\" stroke=\"#000000\" d=\"M223.5,-68C223.5,-68 144.5,-68 144.5,-68 138.5,-68 132.5,-62 132.5,-56 132.5,-56 132.5,-12 132.5,-12 132.5,-6 138.5,0 144.5,0 144.5,0 223.5,0 223.5,0 229.5,0 235.5,-6 235.5,-12 235.5,-12 235.5,-56 235.5,-56 235.5,-62 229.5,-68 223.5,-68\"/>\n",
       "<text text-anchor=\"start\" x=\"142.5\" y=\"-52.8\" font-family=\"Helvetica,sans-Serif\" font-size=\"14.00\" fill=\"#000000\">entropy = 0.0</text>\n",
       "<text text-anchor=\"start\" x=\"146\" y=\"-37.8\" font-family=\"Helvetica,sans-Serif\" font-size=\"14.00\" fill=\"#000000\">samples = 6</text>\n",
       "<text text-anchor=\"start\" x=\"143.5\" y=\"-22.8\" font-family=\"Helvetica,sans-Serif\" font-size=\"14.00\" fill=\"#000000\">value = [0, 6]</text>\n",
       "<text text-anchor=\"start\" x=\"140.5\" y=\"-7.8\" font-family=\"Helvetica,sans-Serif\" font-size=\"14.00\" fill=\"#000000\">class = Green</text>\n",
       "</g>\n",
       "<!-- 0&#45;&gt;2 -->\n",
       "<g id=\"edge2\" class=\"edge\">\n",
       "<title>0&#45;&gt;2</title>\n",
       "<path fill=\"none\" stroke=\"#000000\" d=\"M143.8312,-103.9815C148.8956,-95.1585 154.2525,-85.8258 159.3468,-76.9506\"/>\n",
       "<polygon fill=\"#000000\" stroke=\"#000000\" points=\"162.3903,-78.6789 164.333,-68.2637 156.3193,-75.1942 162.3903,-78.6789\"/>\n",
       "<text text-anchor=\"middle\" x=\"170.8643\" y=\"-88.6954\" font-family=\"Helvetica,sans-Serif\" font-size=\"14.00\" fill=\"#000000\">False</text>\n",
       "</g>\n",
       "</g>\n",
       "</svg>\n"
      ],
      "text/plain": [
       "<graphviz.files.Source at 0x1204f7240>"
      ]
     },
     "metadata": {},
     "output_type": "display_data"
    }
   ],
   "source": [
    "gen_button('Tree 1', mydt.plot_tree(1))"
   ]
  },
  {
   "cell_type": "markdown",
   "metadata": {},
   "source": [
    "### So, you grew your first tree!\n",
    "\n",
    "### Understanding a Decision Tree\n",
    "\n",
    "There are a few important characteristics of your tree to take notice:\n",
    "\n",
    "1. Performing ***one*** split means your Decision Tree has a ***depth*** of ***one***.\n",
    "2. Each resulting node at this point is a ***leaf***, as they don't have any other nodes under them. \n",
    "3. Each ***leaf node*** will have a given number of samples (N_left and N_right). These are the ***samples per leaf***.\n",
    "4. The difference between ***entropy before and after*** is your ***information gain***.\n",
    "\n",
    "#### Depth, Samples per Leaf and Information Gain are some of the criteria used to decide when to STOP growing a tree!\n",
    "\n",
    "### Understanding its Nodes\n",
    "\n",
    "Each node has two additional pieces of information (besides number of samples and entropy):\n",
    "- value\n",
    "- class\n",
    "\n",
    "***Value*** is a list containing the number of samples belonging to each class. For instance, take the node on left side of the first split. Its value reads [3, 1], meaning it has 3 red samples and 1 green sample. \n",
    "\n",
    "***IMPORTANT***: This information allows you to compute the ***probability*** of a sample being ***green*** (for that node), which is 1 / 4 in the example.\n",
    "\n",
    "***Class*** is the class to which the majority of samples in that node belong. For the same node, its class is ***red***, as it has 3 red samples and only 1 green sample."
   ]
  },
  {
   "cell_type": "markdown",
   "metadata": {},
   "source": [
    "### 2.2 Second Split"
   ]
  },
  {
   "cell_type": "markdown",
   "metadata": {},
   "source": [
    "Once you're happy with your choice of threshold on the first split, you can work your way through the ***second split***.\n",
    "\n",
    "If any of the resulting subsets in the first split has ***zero entropy***, your tree already ***succeeded in isolating a group of homogeneous samples***, so ***no more splitting*** on that branch is needed."
   ]
  },
  {
   "cell_type": "code",
   "execution_count": 15,
   "metadata": {},
   "outputs": [],
   "source": [
    "left1 = right1 = None\n",
    "def prefunc1():\n",
    "    global left1, right1\n",
    "    left1, right1 = mydt.left_split, mydt.right_split\n",
    "    fl1 = build_figure(left1, width=450)\n",
    "    fr1 = build_figure(right1, width=450)\n",
    "\n",
    "    vb1 = HBox((VBox(fl1, layout={'align_items': 'center'}),\n",
    "                VBox(fr1, layout={'align_items': 'center'})))\n",
    "    return vb1"
   ]
  },
  {
   "cell_type": "code",
   "execution_count": 16,
   "metadata": {},
   "outputs": [
    {
     "data": {
      "application/vnd.jupyter.widget-view+json": {
       "model_id": "a3a86275a0ad499cbc97ebac0875d21a",
       "version_major": 2,
       "version_minor": 0
      },
      "text/plain": [
       "Button(description='Show Second Split', style=ButtonStyle())"
      ]
     },
     "metadata": {},
     "output_type": "display_data"
    },
    {
     "data": {
      "application/vnd.jupyter.widget-view+json": {
       "model_id": "c8aed2669f514e09a4b682e67944bbb9",
       "version_major": 2,
       "version_minor": 0
      },
      "text/plain": [
       "HBox(children=(VBox(children=(FigureWidget({\n",
       "    'data': [{'marker': {'color': 'black'},\n",
       "              'mode':…"
      ]
     },
     "metadata": {},
     "output_type": "display_data"
    }
   ],
   "source": [
    "gen_button('Second Split', prefunc1)"
   ]
  },
  {
   "cell_type": "markdown",
   "metadata": {},
   "source": [
    "#### Questions:\n",
    "\n",
    "1. What is the threshold that minimizes entropy?\n",
    "2. Go back to the ***First Split*** and split it at ***-0.30*** threshold. Then click ***Hide*** and ***Show*** the second split to refresh it. Which threshold(s) minimize entropy? Is this better or worse?"
   ]
  },
  {
   "cell_type": "markdown",
   "metadata": {},
   "source": [
    "#### Second Split Result\n",
    "\n",
    "If you minimized the entropy at every depth correctly, this is what your splits should look like:"
   ]
  },
  {
   "cell_type": "code",
   "execution_count": 17,
   "metadata": {},
   "outputs": [
    {
     "data": {
      "application/vnd.jupyter.widget-view+json": {
       "model_id": "5d9f7c2ef69d49b28d7199a5ab630ad5",
       "version_major": 2,
       "version_minor": 0
      },
      "text/plain": [
       "Button(description='Show Tree 2', style=ButtonStyle())"
      ]
     },
     "metadata": {},
     "output_type": "display_data"
    },
    {
     "data": {
      "image/svg+xml": [
       "<?xml version=\"1.0\" encoding=\"UTF-8\" standalone=\"no\"?>\n",
       "<!DOCTYPE svg PUBLIC \"-//W3C//DTD SVG 1.1//EN\"\n",
       " \"http://www.w3.org/Graphics/SVG/1.1/DTD/svg11.dtd\">\n",
       "<!-- Generated by graphviz version 2.40.1 (20161225.0304)\n",
       " -->\n",
       "<!-- Title: Tree Pages: 1 -->\n",
       "<svg width=\"294pt\" height=\"314pt\"\n",
       " viewBox=\"0.00 0.00 294.00 314.00\" xmlns=\"http://www.w3.org/2000/svg\" xmlns:xlink=\"http://www.w3.org/1999/xlink\">\n",
       "<g id=\"graph0\" class=\"graph\" transform=\"scale(1 1) rotate(0) translate(4 310)\">\n",
       "<title>Tree</title>\n",
       "<polygon fill=\"#ffffff\" stroke=\"transparent\" points=\"-4,4 -4,-310 290,-310 290,4 -4,4\"/>\n",
       "<!-- 0 -->\n",
       "<g id=\"node1\" class=\"node\">\n",
       "<title>0</title>\n",
       "<path fill=\"#399de5\" fill-opacity=\"0.572549\" stroke=\"#000000\" d=\"M215.5,-306C215.5,-306 125.5,-306 125.5,-306 119.5,-306 113.5,-300 113.5,-294 113.5,-294 113.5,-235 113.5,-235 113.5,-229 119.5,-223 125.5,-223 125.5,-223 215.5,-223 215.5,-223 221.5,-223 227.5,-229 227.5,-235 227.5,-235 227.5,-294 227.5,-294 227.5,-300 221.5,-306 215.5,-306\"/>\n",
       "<text text-anchor=\"start\" x=\"148\" y=\"-290.8\" font-family=\"Helvetica,sans-Serif\" font-size=\"14.00\" fill=\"#000000\">X ≤ 0.3</text>\n",
       "<text text-anchor=\"start\" x=\"121.5\" y=\"-275.8\" font-family=\"Helvetica,sans-Serif\" font-size=\"14.00\" fill=\"#000000\">entropy = 0.881</text>\n",
       "<text text-anchor=\"start\" x=\"128.5\" y=\"-260.8\" font-family=\"Helvetica,sans-Serif\" font-size=\"14.00\" fill=\"#000000\">samples = 10</text>\n",
       "<text text-anchor=\"start\" x=\"130\" y=\"-245.8\" font-family=\"Helvetica,sans-Serif\" font-size=\"14.00\" fill=\"#000000\">value = [3, 7]</text>\n",
       "<text text-anchor=\"start\" x=\"127\" y=\"-230.8\" font-family=\"Helvetica,sans-Serif\" font-size=\"14.00\" fill=\"#000000\">class = Green</text>\n",
       "</g>\n",
       "<!-- 1 -->\n",
       "<g id=\"node2\" class=\"node\">\n",
       "<title>1</title>\n",
       "<path fill=\"#e58139\" fill-opacity=\"0.666667\" stroke=\"#000000\" d=\"M152.5,-187C152.5,-187 62.5,-187 62.5,-187 56.5,-187 50.5,-181 50.5,-175 50.5,-175 50.5,-116 50.5,-116 50.5,-110 56.5,-104 62.5,-104 62.5,-104 152.5,-104 152.5,-104 158.5,-104 164.5,-110 164.5,-116 164.5,-116 164.5,-175 164.5,-175 164.5,-181 158.5,-187 152.5,-187\"/>\n",
       "<text text-anchor=\"start\" x=\"83\" y=\"-171.8\" font-family=\"Helvetica,sans-Serif\" font-size=\"14.00\" fill=\"#000000\">X ≤ &#45;1.1</text>\n",
       "<text text-anchor=\"start\" x=\"58.5\" y=\"-156.8\" font-family=\"Helvetica,sans-Serif\" font-size=\"14.00\" fill=\"#000000\">entropy = 0.811</text>\n",
       "<text text-anchor=\"start\" x=\"69.5\" y=\"-141.8\" font-family=\"Helvetica,sans-Serif\" font-size=\"14.00\" fill=\"#000000\">samples = 4</text>\n",
       "<text text-anchor=\"start\" x=\"67\" y=\"-126.8\" font-family=\"Helvetica,sans-Serif\" font-size=\"14.00\" fill=\"#000000\">value = [3, 1]</text>\n",
       "<text text-anchor=\"start\" x=\"70.5\" y=\"-111.8\" font-family=\"Helvetica,sans-Serif\" font-size=\"14.00\" fill=\"#000000\">class = Red</text>\n",
       "</g>\n",
       "<!-- 0&#45;&gt;1 -->\n",
       "<g id=\"edge1\" class=\"edge\">\n",
       "<title>0&#45;&gt;1</title>\n",
       "<path fill=\"none\" stroke=\"#000000\" d=\"M148.4657,-222.8796C143.936,-214.3236 139.1185,-205.2238 134.4382,-196.3833\"/>\n",
       "<polygon fill=\"#000000\" stroke=\"#000000\" points=\"137.4006,-194.4983 129.6284,-187.2981 131.2141,-197.7736 137.4006,-194.4983\"/>\n",
       "<text text-anchor=\"middle\" x=\"122.2762\" y=\"-207.4925\" font-family=\"Helvetica,sans-Serif\" font-size=\"14.00\" fill=\"#000000\">True</text>\n",
       "</g>\n",
       "<!-- 4 -->\n",
       "<g id=\"node5\" class=\"node\">\n",
       "<title>4</title>\n",
       "<path fill=\"#399de5\" stroke=\"#000000\" d=\"M274,-179.5C274,-179.5 195,-179.5 195,-179.5 189,-179.5 183,-173.5 183,-167.5 183,-167.5 183,-123.5 183,-123.5 183,-117.5 189,-111.5 195,-111.5 195,-111.5 274,-111.5 274,-111.5 280,-111.5 286,-117.5 286,-123.5 286,-123.5 286,-167.5 286,-167.5 286,-173.5 280,-179.5 274,-179.5\"/>\n",
       "<text text-anchor=\"start\" x=\"193\" y=\"-164.3\" font-family=\"Helvetica,sans-Serif\" font-size=\"14.00\" fill=\"#000000\">entropy = 0.0</text>\n",
       "<text text-anchor=\"start\" x=\"196.5\" y=\"-149.3\" font-family=\"Helvetica,sans-Serif\" font-size=\"14.00\" fill=\"#000000\">samples = 6</text>\n",
       "<text text-anchor=\"start\" x=\"194\" y=\"-134.3\" font-family=\"Helvetica,sans-Serif\" font-size=\"14.00\" fill=\"#000000\">value = [0, 6]</text>\n",
       "<text text-anchor=\"start\" x=\"191\" y=\"-119.3\" font-family=\"Helvetica,sans-Serif\" font-size=\"14.00\" fill=\"#000000\">class = Green</text>\n",
       "</g>\n",
       "<!-- 0&#45;&gt;4 -->\n",
       "<g id=\"edge4\" class=\"edge\">\n",
       "<title>0&#45;&gt;4</title>\n",
       "<path fill=\"none\" stroke=\"#000000\" d=\"M192.8841,-222.8796C198.798,-211.8835 205.1949,-199.9893 211.158,-188.9015\"/>\n",
       "<polygon fill=\"#000000\" stroke=\"#000000\" points=\"214.3908,-190.2799 216.0449,-179.8149 208.2258,-186.9642 214.3908,-190.2799\"/>\n",
       "<text text-anchor=\"middle\" x=\"223.2406\" y=\"-200.057\" font-family=\"Helvetica,sans-Serif\" font-size=\"14.00\" fill=\"#000000\">False</text>\n",
       "</g>\n",
       "<!-- 2 -->\n",
       "<g id=\"node3\" class=\"node\">\n",
       "<title>2</title>\n",
       "<path fill=\"#e58139\" stroke=\"#000000\" d=\"M87,-68C87,-68 12,-68 12,-68 6,-68 0,-62 0,-56 0,-56 0,-12 0,-12 0,-6 6,0 12,0 12,0 87,0 87,0 93,0 99,-6 99,-12 99,-12 99,-56 99,-56 99,-62 93,-68 87,-68\"/>\n",
       "<text text-anchor=\"start\" x=\"8\" y=\"-52.8\" font-family=\"Helvetica,sans-Serif\" font-size=\"14.00\" fill=\"#000000\">entropy = 0.0</text>\n",
       "<text text-anchor=\"start\" x=\"11.5\" y=\"-37.8\" font-family=\"Helvetica,sans-Serif\" font-size=\"14.00\" fill=\"#000000\">samples = 2</text>\n",
       "<text text-anchor=\"start\" x=\"9\" y=\"-22.8\" font-family=\"Helvetica,sans-Serif\" font-size=\"14.00\" fill=\"#000000\">value = [2, 0]</text>\n",
       "<text text-anchor=\"start\" x=\"12.5\" y=\"-7.8\" font-family=\"Helvetica,sans-Serif\" font-size=\"14.00\" fill=\"#000000\">class = Red</text>\n",
       "</g>\n",
       "<!-- 1&#45;&gt;2 -->\n",
       "<g id=\"edge2\" class=\"edge\">\n",
       "<title>1&#45;&gt;2</title>\n",
       "<path fill=\"none\" stroke=\"#000000\" d=\"M85.9029,-103.9815C81.3612,-95.2504 76.5598,-86.0202 71.9863,-77.2281\"/>\n",
       "<polygon fill=\"#000000\" stroke=\"#000000\" points=\"75.0431,-75.52 67.3233,-68.2637 68.8331,-78.7504 75.0431,-75.52\"/>\n",
       "</g>\n",
       "<!-- 3 -->\n",
       "<g id=\"node4\" class=\"node\">\n",
       "<title>3</title>\n",
       "<path fill=\"transparent\" stroke=\"#000000\" d=\"M204,-68C204,-68 129,-68 129,-68 123,-68 117,-62 117,-56 117,-56 117,-12 117,-12 117,-6 123,0 129,0 129,0 204,0 204,0 210,0 216,-6 216,-12 216,-12 216,-56 216,-56 216,-62 210,-68 204,-68\"/>\n",
       "<text text-anchor=\"start\" x=\"125\" y=\"-52.8\" font-family=\"Helvetica,sans-Serif\" font-size=\"14.00\" fill=\"#000000\">entropy = 1.0</text>\n",
       "<text text-anchor=\"start\" x=\"128.5\" y=\"-37.8\" font-family=\"Helvetica,sans-Serif\" font-size=\"14.00\" fill=\"#000000\">samples = 2</text>\n",
       "<text text-anchor=\"start\" x=\"126\" y=\"-22.8\" font-family=\"Helvetica,sans-Serif\" font-size=\"14.00\" fill=\"#000000\">value = [1, 1]</text>\n",
       "<text text-anchor=\"start\" x=\"129.5\" y=\"-7.8\" font-family=\"Helvetica,sans-Serif\" font-size=\"14.00\" fill=\"#000000\">class = Red</text>\n",
       "</g>\n",
       "<!-- 1&#45;&gt;3 -->\n",
       "<g id=\"edge3\" class=\"edge\">\n",
       "<title>1&#45;&gt;3</title>\n",
       "<path fill=\"none\" stroke=\"#000000\" d=\"M129.4694,-103.9815C134.0895,-95.2504 138.9736,-86.0202 143.626,-77.2281\"/>\n",
       "<polygon fill=\"#000000\" stroke=\"#000000\" points=\"146.7859,-78.7395 148.3694,-68.2637 140.5987,-75.4655 146.7859,-78.7395\"/>\n",
       "</g>\n",
       "</g>\n",
       "</svg>\n"
      ],
      "text/plain": [
       "<graphviz.files.Source at 0x120eb6588>"
      ]
     },
     "metadata": {},
     "output_type": "display_data"
    }
   ],
   "source": [
    "gen_button('Tree 2', mydt.plot_tree(2))"
   ]
  },
  {
   "cell_type": "markdown",
   "metadata": {},
   "source": [
    "### 2.3 Third Split\n",
    "\n",
    "Before proceeding, go back to the ***first split*** and choose the threshold that minimizes its entropy. Then ***refresh*** (by clicking Hide/Show) the ***second split*** and choose its threshold as well.\n",
    "\n",
    "Once you're done with it, you can work your way through the ***third split***.\n",
    "\n",
    "NOTE: the ***third split*** operates on the ***leftmost branch of the tree*** only! If you chose the correct thresholds, its right branch from the top should have green samples only (check ***Tree 2***)."
   ]
  },
  {
   "cell_type": "code",
   "execution_count": 18,
   "metadata": {},
   "outputs": [],
   "source": [
    "left2 = right2 = None\n",
    "def prefunc2():\n",
    "    global left2, right2\n",
    "    left2, right2 = left1.left_split, left1.right_split\n",
    "    fl1l2 = build_figure(left2, width=450)\n",
    "    fl1r2 = build_figure(right2, width=450)\n",
    "\n",
    "    vb2 = HBox((VBox(fl1l2, layout={'align_items': 'center'}),\n",
    "                VBox(fl1r2, layout={'align_items': 'center'})))\n",
    "\n",
    "    return vb2"
   ]
  },
  {
   "cell_type": "code",
   "execution_count": 19,
   "metadata": {},
   "outputs": [
    {
     "data": {
      "application/vnd.jupyter.widget-view+json": {
       "model_id": "f579e0a791b04b27acc834a06cb3f7e4",
       "version_major": 2,
       "version_minor": 0
      },
      "text/plain": [
       "Button(description='Show Third Split', style=ButtonStyle())"
      ]
     },
     "metadata": {},
     "output_type": "display_data"
    },
    {
     "data": {
      "application/vnd.jupyter.widget-view+json": {
       "model_id": "ea5f82c7e05e46b097db146297c4bdac",
       "version_major": 2,
       "version_minor": 0
      },
      "text/plain": [
       "HBox(children=(VBox(children=(FigureWidget({\n",
       "    'data': [],\n",
       "    'layout': {'autosize': False,\n",
       "               …"
      ]
     },
     "metadata": {},
     "output_type": "display_data"
    }
   ],
   "source": [
    "gen_button('Third Split', prefunc2)"
   ]
  },
  {
   "cell_type": "markdown",
   "metadata": {},
   "source": [
    "#### Questions:\n",
    "\n",
    "1. What is the threshold that minimizes entropy?\n",
    "2. Can you grow your tree further? If yes, what's the next step? If no, why not?"
   ]
  },
  {
   "cell_type": "markdown",
   "metadata": {},
   "source": [
    "#### Third Split Result\n",
    "\n",
    "If you minimized the entropy at every depth correctly, this is what your splits should look like:"
   ]
  },
  {
   "cell_type": "code",
   "execution_count": 20,
   "metadata": {},
   "outputs": [
    {
     "data": {
      "application/vnd.jupyter.widget-view+json": {
       "model_id": "49eb596f7f2e4d358440521bfdb34b2a",
       "version_major": 2,
       "version_minor": 0
      },
      "text/plain": [
       "Button(description='Show Tree 3', style=ButtonStyle())"
      ]
     },
     "metadata": {},
     "output_type": "display_data"
    },
    {
     "data": {
      "image/svg+xml": [
       "<?xml version=\"1.0\" encoding=\"UTF-8\" standalone=\"no\"?>\n",
       "<!DOCTYPE svg PUBLIC \"-//W3C//DTD SVG 1.1//EN\"\n",
       " \"http://www.w3.org/Graphics/SVG/1.1/DTD/svg11.dtd\">\n",
       "<!-- Generated by graphviz version 2.40.1 (20161225.0304)\n",
       " -->\n",
       "<!-- Title: Tree Pages: 1 -->\n",
       "<svg width=\"294pt\" height=\"433pt\"\n",
       " viewBox=\"0.00 0.00 294.00 433.00\" xmlns=\"http://www.w3.org/2000/svg\" xmlns:xlink=\"http://www.w3.org/1999/xlink\">\n",
       "<g id=\"graph0\" class=\"graph\" transform=\"scale(1 1) rotate(0) translate(4 429)\">\n",
       "<title>Tree</title>\n",
       "<polygon fill=\"#ffffff\" stroke=\"transparent\" points=\"-4,4 -4,-429 290,-429 290,4 -4,4\"/>\n",
       "<!-- 0 -->\n",
       "<g id=\"node1\" class=\"node\">\n",
       "<title>0</title>\n",
       "<path fill=\"#399de5\" fill-opacity=\"0.572549\" stroke=\"#000000\" d=\"M215.5,-425C215.5,-425 125.5,-425 125.5,-425 119.5,-425 113.5,-419 113.5,-413 113.5,-413 113.5,-354 113.5,-354 113.5,-348 119.5,-342 125.5,-342 125.5,-342 215.5,-342 215.5,-342 221.5,-342 227.5,-348 227.5,-354 227.5,-354 227.5,-413 227.5,-413 227.5,-419 221.5,-425 215.5,-425\"/>\n",
       "<text text-anchor=\"start\" x=\"148\" y=\"-409.8\" font-family=\"Helvetica,sans-Serif\" font-size=\"14.00\" fill=\"#000000\">X ≤ 0.3</text>\n",
       "<text text-anchor=\"start\" x=\"121.5\" y=\"-394.8\" font-family=\"Helvetica,sans-Serif\" font-size=\"14.00\" fill=\"#000000\">entropy = 0.881</text>\n",
       "<text text-anchor=\"start\" x=\"128.5\" y=\"-379.8\" font-family=\"Helvetica,sans-Serif\" font-size=\"14.00\" fill=\"#000000\">samples = 10</text>\n",
       "<text text-anchor=\"start\" x=\"130\" y=\"-364.8\" font-family=\"Helvetica,sans-Serif\" font-size=\"14.00\" fill=\"#000000\">value = [3, 7]</text>\n",
       "<text text-anchor=\"start\" x=\"127\" y=\"-349.8\" font-family=\"Helvetica,sans-Serif\" font-size=\"14.00\" fill=\"#000000\">class = Green</text>\n",
       "</g>\n",
       "<!-- 1 -->\n",
       "<g id=\"node2\" class=\"node\">\n",
       "<title>1</title>\n",
       "<path fill=\"#e58139\" fill-opacity=\"0.666667\" stroke=\"#000000\" d=\"M152.5,-306C152.5,-306 62.5,-306 62.5,-306 56.5,-306 50.5,-300 50.5,-294 50.5,-294 50.5,-235 50.5,-235 50.5,-229 56.5,-223 62.5,-223 62.5,-223 152.5,-223 152.5,-223 158.5,-223 164.5,-229 164.5,-235 164.5,-235 164.5,-294 164.5,-294 164.5,-300 158.5,-306 152.5,-306\"/>\n",
       "<text text-anchor=\"start\" x=\"83\" y=\"-290.8\" font-family=\"Helvetica,sans-Serif\" font-size=\"14.00\" fill=\"#000000\">X ≤ &#45;1.1</text>\n",
       "<text text-anchor=\"start\" x=\"58.5\" y=\"-275.8\" font-family=\"Helvetica,sans-Serif\" font-size=\"14.00\" fill=\"#000000\">entropy = 0.811</text>\n",
       "<text text-anchor=\"start\" x=\"69.5\" y=\"-260.8\" font-family=\"Helvetica,sans-Serif\" font-size=\"14.00\" fill=\"#000000\">samples = 4</text>\n",
       "<text text-anchor=\"start\" x=\"67\" y=\"-245.8\" font-family=\"Helvetica,sans-Serif\" font-size=\"14.00\" fill=\"#000000\">value = [3, 1]</text>\n",
       "<text text-anchor=\"start\" x=\"70.5\" y=\"-230.8\" font-family=\"Helvetica,sans-Serif\" font-size=\"14.00\" fill=\"#000000\">class = Red</text>\n",
       "</g>\n",
       "<!-- 0&#45;&gt;1 -->\n",
       "<g id=\"edge1\" class=\"edge\">\n",
       "<title>0&#45;&gt;1</title>\n",
       "<path fill=\"none\" stroke=\"#000000\" d=\"M148.4657,-341.8796C143.936,-333.3236 139.1185,-324.2238 134.4382,-315.3833\"/>\n",
       "<polygon fill=\"#000000\" stroke=\"#000000\" points=\"137.4006,-313.4983 129.6284,-306.2981 131.2141,-316.7736 137.4006,-313.4983\"/>\n",
       "<text text-anchor=\"middle\" x=\"122.2762\" y=\"-326.4925\" font-family=\"Helvetica,sans-Serif\" font-size=\"14.00\" fill=\"#000000\">True</text>\n",
       "</g>\n",
       "<!-- 6 -->\n",
       "<g id=\"node7\" class=\"node\">\n",
       "<title>6</title>\n",
       "<path fill=\"#399de5\" stroke=\"#000000\" d=\"M274,-298.5C274,-298.5 195,-298.5 195,-298.5 189,-298.5 183,-292.5 183,-286.5 183,-286.5 183,-242.5 183,-242.5 183,-236.5 189,-230.5 195,-230.5 195,-230.5 274,-230.5 274,-230.5 280,-230.5 286,-236.5 286,-242.5 286,-242.5 286,-286.5 286,-286.5 286,-292.5 280,-298.5 274,-298.5\"/>\n",
       "<text text-anchor=\"start\" x=\"193\" y=\"-283.3\" font-family=\"Helvetica,sans-Serif\" font-size=\"14.00\" fill=\"#000000\">entropy = 0.0</text>\n",
       "<text text-anchor=\"start\" x=\"196.5\" y=\"-268.3\" font-family=\"Helvetica,sans-Serif\" font-size=\"14.00\" fill=\"#000000\">samples = 6</text>\n",
       "<text text-anchor=\"start\" x=\"194\" y=\"-253.3\" font-family=\"Helvetica,sans-Serif\" font-size=\"14.00\" fill=\"#000000\">value = [0, 6]</text>\n",
       "<text text-anchor=\"start\" x=\"191\" y=\"-238.3\" font-family=\"Helvetica,sans-Serif\" font-size=\"14.00\" fill=\"#000000\">class = Green</text>\n",
       "</g>\n",
       "<!-- 0&#45;&gt;6 -->\n",
       "<g id=\"edge6\" class=\"edge\">\n",
       "<title>0&#45;&gt;6</title>\n",
       "<path fill=\"none\" stroke=\"#000000\" d=\"M192.8841,-341.8796C198.798,-330.8835 205.1949,-318.9893 211.158,-307.9015\"/>\n",
       "<polygon fill=\"#000000\" stroke=\"#000000\" points=\"214.3908,-309.2799 216.0449,-298.8149 208.2258,-305.9642 214.3908,-309.2799\"/>\n",
       "<text text-anchor=\"middle\" x=\"223.2406\" y=\"-319.057\" font-family=\"Helvetica,sans-Serif\" font-size=\"14.00\" fill=\"#000000\">False</text>\n",
       "</g>\n",
       "<!-- 2 -->\n",
       "<g id=\"node3\" class=\"node\">\n",
       "<title>2</title>\n",
       "<path fill=\"#e58139\" stroke=\"#000000\" d=\"M87,-179.5C87,-179.5 12,-179.5 12,-179.5 6,-179.5 0,-173.5 0,-167.5 0,-167.5 0,-123.5 0,-123.5 0,-117.5 6,-111.5 12,-111.5 12,-111.5 87,-111.5 87,-111.5 93,-111.5 99,-117.5 99,-123.5 99,-123.5 99,-167.5 99,-167.5 99,-173.5 93,-179.5 87,-179.5\"/>\n",
       "<text text-anchor=\"start\" x=\"8\" y=\"-164.3\" font-family=\"Helvetica,sans-Serif\" font-size=\"14.00\" fill=\"#000000\">entropy = 0.0</text>\n",
       "<text text-anchor=\"start\" x=\"11.5\" y=\"-149.3\" font-family=\"Helvetica,sans-Serif\" font-size=\"14.00\" fill=\"#000000\">samples = 2</text>\n",
       "<text text-anchor=\"start\" x=\"9\" y=\"-134.3\" font-family=\"Helvetica,sans-Serif\" font-size=\"14.00\" fill=\"#000000\">value = [2, 0]</text>\n",
       "<text text-anchor=\"start\" x=\"12.5\" y=\"-119.3\" font-family=\"Helvetica,sans-Serif\" font-size=\"14.00\" fill=\"#000000\">class = Red</text>\n",
       "</g>\n",
       "<!-- 1&#45;&gt;2 -->\n",
       "<g id=\"edge2\" class=\"edge\">\n",
       "<title>1&#45;&gt;2</title>\n",
       "<path fill=\"none\" stroke=\"#000000\" d=\"M87.2144,-222.8796C81.855,-211.8835 76.0578,-199.9893 70.6537,-188.9015\"/>\n",
       "<polygon fill=\"#000000\" stroke=\"#000000\" points=\"73.7524,-187.2706 66.2249,-179.8149 67.46,-190.3375 73.7524,-187.2706\"/>\n",
       "</g>\n",
       "<!-- 3 -->\n",
       "<g id=\"node4\" class=\"node\">\n",
       "<title>3</title>\n",
       "<path fill=\"transparent\" stroke=\"#000000\" d=\"M204,-187C204,-187 129,-187 129,-187 123,-187 117,-181 117,-175 117,-175 117,-116 117,-116 117,-110 123,-104 129,-104 129,-104 204,-104 204,-104 210,-104 216,-110 216,-116 216,-116 216,-175 216,-175 216,-181 210,-187 204,-187\"/>\n",
       "<text text-anchor=\"start\" x=\"142\" y=\"-171.8\" font-family=\"Helvetica,sans-Serif\" font-size=\"14.00\" fill=\"#000000\">X ≤ &#45;0.3</text>\n",
       "<text text-anchor=\"start\" x=\"125\" y=\"-156.8\" font-family=\"Helvetica,sans-Serif\" font-size=\"14.00\" fill=\"#000000\">entropy = 1.0</text>\n",
       "<text text-anchor=\"start\" x=\"128.5\" y=\"-141.8\" font-family=\"Helvetica,sans-Serif\" font-size=\"14.00\" fill=\"#000000\">samples = 2</text>\n",
       "<text text-anchor=\"start\" x=\"126\" y=\"-126.8\" font-family=\"Helvetica,sans-Serif\" font-size=\"14.00\" fill=\"#000000\">value = [1, 1]</text>\n",
       "<text text-anchor=\"start\" x=\"129.5\" y=\"-111.8\" font-family=\"Helvetica,sans-Serif\" font-size=\"14.00\" fill=\"#000000\">class = Red</text>\n",
       "</g>\n",
       "<!-- 1&#45;&gt;3 -->\n",
       "<g id=\"edge3\" class=\"edge\">\n",
       "<title>1&#45;&gt;3</title>\n",
       "<path fill=\"none\" stroke=\"#000000\" d=\"M128.1353,-222.8796C132.3774,-214.3236 136.889,-205.2238 141.2721,-196.3833\"/>\n",
       "<polygon fill=\"#000000\" stroke=\"#000000\" points=\"144.4703,-197.8121 145.7766,-187.2981 138.1988,-194.7026 144.4703,-197.8121\"/>\n",
       "</g>\n",
       "<!-- 4 -->\n",
       "<g id=\"node5\" class=\"node\">\n",
       "<title>4</title>\n",
       "<path fill=\"#399de5\" stroke=\"#000000\" d=\"M146,-68C146,-68 67,-68 67,-68 61,-68 55,-62 55,-56 55,-56 55,-12 55,-12 55,-6 61,0 67,0 67,0 146,0 146,0 152,0 158,-6 158,-12 158,-12 158,-56 158,-56 158,-62 152,-68 146,-68\"/>\n",
       "<text text-anchor=\"start\" x=\"65\" y=\"-52.8\" font-family=\"Helvetica,sans-Serif\" font-size=\"14.00\" fill=\"#000000\">entropy = 0.0</text>\n",
       "<text text-anchor=\"start\" x=\"68.5\" y=\"-37.8\" font-family=\"Helvetica,sans-Serif\" font-size=\"14.00\" fill=\"#000000\">samples = 1</text>\n",
       "<text text-anchor=\"start\" x=\"66\" y=\"-22.8\" font-family=\"Helvetica,sans-Serif\" font-size=\"14.00\" fill=\"#000000\">value = [0, 1]</text>\n",
       "<text text-anchor=\"start\" x=\"63\" y=\"-7.8\" font-family=\"Helvetica,sans-Serif\" font-size=\"14.00\" fill=\"#000000\">class = Green</text>\n",
       "</g>\n",
       "<!-- 3&#45;&gt;4 -->\n",
       "<g id=\"edge4\" class=\"edge\">\n",
       "<title>3&#45;&gt;4</title>\n",
       "<path fill=\"none\" stroke=\"#000000\" d=\"M144.1582,-103.9815C139.4598,-95.2504 134.4929,-86.0202 129.7617,-77.2281\"/>\n",
       "<polygon fill=\"#000000\" stroke=\"#000000\" points=\"132.7586,-75.4111 124.9379,-68.2637 126.5944,-78.7282 132.7586,-75.4111\"/>\n",
       "</g>\n",
       "<!-- 5 -->\n",
       "<g id=\"node6\" class=\"node\">\n",
       "<title>5</title>\n",
       "<path fill=\"#e58139\" stroke=\"#000000\" d=\"M263,-68C263,-68 188,-68 188,-68 182,-68 176,-62 176,-56 176,-56 176,-12 176,-12 176,-6 182,0 188,0 188,0 263,0 263,0 269,0 275,-6 275,-12 275,-12 275,-56 275,-56 275,-62 269,-68 263,-68\"/>\n",
       "<text text-anchor=\"start\" x=\"184\" y=\"-52.8\" font-family=\"Helvetica,sans-Serif\" font-size=\"14.00\" fill=\"#000000\">entropy = 0.0</text>\n",
       "<text text-anchor=\"start\" x=\"187.5\" y=\"-37.8\" font-family=\"Helvetica,sans-Serif\" font-size=\"14.00\" fill=\"#000000\">samples = 1</text>\n",
       "<text text-anchor=\"start\" x=\"185\" y=\"-22.8\" font-family=\"Helvetica,sans-Serif\" font-size=\"14.00\" fill=\"#000000\">value = [1, 0]</text>\n",
       "<text text-anchor=\"start\" x=\"188.5\" y=\"-7.8\" font-family=\"Helvetica,sans-Serif\" font-size=\"14.00\" fill=\"#000000\">class = Red</text>\n",
       "</g>\n",
       "<!-- 3&#45;&gt;5 -->\n",
       "<g id=\"edge5\" class=\"edge\">\n",
       "<title>3&#45;&gt;5</title>\n",
       "<path fill=\"none\" stroke=\"#000000\" d=\"M188.4694,-103.9815C193.0895,-95.2504 197.9736,-86.0202 202.626,-77.2281\"/>\n",
       "<polygon fill=\"#000000\" stroke=\"#000000\" points=\"205.7859,-78.7395 207.3694,-68.2637 199.5987,-75.4655 205.7859,-78.7395\"/>\n",
       "</g>\n",
       "</g>\n",
       "</svg>\n"
      ],
      "text/plain": [
       "<graphviz.files.Source at 0x121850d68>"
      ]
     },
     "metadata": {},
     "output_type": "display_data"
    }
   ],
   "source": [
    "gen_button('Tree 3', mydt.plot_tree(3))"
   ]
  },
  {
   "cell_type": "markdown",
   "metadata": {},
   "source": [
    "#### More Questions:\n",
    "\n",
    "3. What is the depth of ***Tree 3***?\n",
    "4. How many ***leaf nodes*** does it have?\n",
    "5. What do all those ***leaf*** nodes have in common?"
   ]
  },
  {
   "cell_type": "markdown",
   "metadata": {},
   "source": [
    "## 3. Prediction"
   ]
  },
  {
   "cell_type": "markdown",
   "metadata": {},
   "source": [
    "Once you have built your Decision Tree, you can take any numerical coordinate (your ***feature***), ***follow the splits*** and arrive at a corresponding ***leaf node***.\n",
    "\n",
    "At the leaf node, you can check its ***class*** to get the predicted class straight away. Moreover, you can use its ***values*** to compute the probability associated with the predicted class (if you don't remember how to do it, revisit the ***Understanding its Nodes*** section above)."
   ]
  },
  {
   "cell_type": "markdown",
   "metadata": {},
   "source": [
    "#### Questions:\n",
    "\n",
    "1. What are the ***probabilities*** associated with the predicted class for each one of the ***4 leaf nodes*** on ***Tree 3***?\n",
    "2. What about the ***3 leaf nodes*** on ***Tree 2***?\n",
    "\n",
    "Once you answered those questions, click on the button below."
   ]
  },
  {
   "cell_type": "code",
   "execution_count": 21,
   "metadata": {},
   "outputs": [
    {
     "data": {
      "application/vnd.jupyter.widget-view+json": {
       "model_id": "90022542fd014c438d2cd42ca3da81d5",
       "version_major": 2,
       "version_minor": 0
      },
      "text/plain": [
       "Button(description='Show Probabilities', style=ButtonStyle())"
      ]
     },
     "metadata": {},
     "output_type": "display_data"
    },
    {
     "data": {
      "application/vnd.jupyter.widget-view+json": {
       "model_id": "e1858b23186549f0a66e334e4d841b38",
       "version_major": 2,
       "version_minor": 0
      },
      "text/plain": [
       "VBox(children=(FigureWidget({\n",
       "    'data': [{'marker': {'color': 'black'},\n",
       "              'mode': 'lines',\n",
       "     …"
      ]
     },
     "metadata": {},
     "output_type": "display_data"
    }
   ],
   "source": [
    "gen_button('Probabilities', VBox(build_figure_prob(mydt), layout={'align_items': 'center'}))"
   ]
  },
  {
   "cell_type": "markdown",
   "metadata": {},
   "source": [
    "#### More Questions:\n",
    "\n",
    "3. What happens if you choose a ***shallow*** tree (low depth)? What's the impact on predictions?  \n",
    "Predictions still have a lot of uncertainty, not a lot of information is gained.\n",
    "4. What about a ***deep*** tree (high depth)?  \n",
    "Predictions are more certain but might be overfitted\n",
    "5. What about an average depth?  \n",
    "Have to find the sweet spot\n",
    "6. Which one do you think will yield better predictions for unseen data? Why?  \n",
    "You have to find the good middle ground, via crossvalidation"
   ]
  },
  {
   "cell_type": "markdown",
   "metadata": {},
   "source": [
    "## 4. Scikit-Learn\n",
    "\n",
    "[Decision Trees](https://scikit-learn.org/stable/modules/tree.html)\n",
    "\n",
    "Please check Aurelién Geron's \"Hand-On Machine Learning with Scikit-Learn and Tensorflow\" notebook on Decision Trees [here](http://nbviewer.jupyter.org/github/ageron/handson-ml/blob/master/06_decision_trees.ipynb)\n",
    "\n",
    "See Scikit-Learn website for [tips on practical use](https://scikit-learn.org/stable/modules/tree.html#tips-on-practical-use)."
   ]
  },
  {
   "cell_type": "markdown",
   "metadata": {},
   "source": [
    "## 5. More Resources\n",
    "\n",
    "[InfoGraphic](https://github.com/Avik-Jain/100-Days-Of-ML-Code/blob/master/Info-graphs/Day%2023.jpg)\n",
    "\n",
    "[A visual introduction to machine learning](http://www.r2d3.us/visual-intro-to-machine-learning-part-1/)\n",
    "\n",
    "[Interactive Visualization of Decision Trees with Jupyter Widgets](https://towardsdatascience.com/interactive-visualization-of-decision-trees-with-jupyter-widgets-ca15dd312084)"
   ]
  },
  {
   "cell_type": "markdown",
   "metadata": {},
   "source": [
    "#### This material is copyright Daniel Voigt Godoy and made available under the Creative Commons Attribution (CC-BY) license ([link](https://creativecommons.org/licenses/by/4.0/)). \n",
    "\n",
    "#### Code is also made available under the MIT License ([link](https://opensource.org/licenses/MIT))."
   ]
  },
  {
   "cell_type": "code",
   "execution_count": 13,
   "metadata": {},
   "outputs": [
    {
     "data": {
      "text/html": [
       "<script>\n",
       "  function code_toggle() {\n",
       "    if (code_shown){\n",
       "      $('div.input').hide('500');\n",
       "      $('#toggleButton').val('Show Code')\n",
       "    } else {\n",
       "      $('div.input').show('500');\n",
       "      $('#toggleButton').val('Hide Code')\n",
       "    }\n",
       "    code_shown = !code_shown\n",
       "  }\n",
       "\n",
       "  $( document ).ready(function(){\n",
       "    code_shown=false;\n",
       "    $('div.input').hide()\n",
       "  });\n",
       "</script>\n",
       "<form action=\"javascript:code_toggle()\"><input type=\"submit\" id=\"toggleButton\" value=\"Show Code\"></form>"
      ],
      "text/plain": [
       "<IPython.core.display.HTML object>"
      ]
     },
     "execution_count": 13,
     "metadata": {},
     "output_type": "execute_result"
    }
   ],
   "source": [
    "from IPython.display import HTML\n",
    "HTML('''<script>\n",
    "  function code_toggle() {\n",
    "    if (code_shown){\n",
    "      $('div.input').hide('500');\n",
    "      $('#toggleButton').val('Show Code')\n",
    "    } else {\n",
    "      $('div.input').show('500');\n",
    "      $('#toggleButton').val('Hide Code')\n",
    "    }\n",
    "    code_shown = !code_shown\n",
    "  }\n",
    "\n",
    "  $( document ).ready(function(){\n",
    "    code_shown=false;\n",
    "    $('div.input').hide()\n",
    "  });\n",
    "</script>\n",
    "<form action=\"javascript:code_toggle()\"><input type=\"submit\" id=\"toggleButton\" value=\"Show Code\"></form>''')"
   ]
  },
  {
   "cell_type": "code",
   "execution_count": null,
   "metadata": {},
   "outputs": [],
   "source": []
  }
 ],
 "metadata": {
  "kernelspec": {
   "display_name": "Python 3",
   "language": "python",
   "name": "python3"
  },
  "language_info": {
   "codemirror_mode": {
    "name": "ipython",
    "version": 3
   },
   "file_extension": ".py",
   "mimetype": "text/x-python",
   "name": "python",
   "nbconvert_exporter": "python",
   "pygments_lexer": "ipython3",
   "version": "3.7.0"
  }
 },
 "nbformat": 4,
 "nbformat_minor": 2
}
