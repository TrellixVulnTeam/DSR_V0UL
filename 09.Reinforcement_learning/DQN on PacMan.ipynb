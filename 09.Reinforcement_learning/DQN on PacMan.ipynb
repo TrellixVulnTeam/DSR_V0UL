{
 "cells": [
  {
   "cell_type": "code",
   "execution_count": 1,
   "metadata": {},
   "outputs": [],
   "source": [
    "import gym\n",
    "import numpy as np\n",
    "import tensorflow as tf\n",
    "from tensorflow.contrib.layers import flatten, conv2d, fully_connected\n",
    "from collections import deque, Counter\n",
    "import random"
   ]
  },
  {
   "cell_type": "code",
   "execution_count": 2,
   "metadata": {},
   "outputs": [
    {
     "name": "stdout",
     "output_type": "stream",
     "text": [
      "Requirement already satisfied: gym[atari] in /Users/falkvandermeirsch/miniconda3/lib/python3.6/site-packages (0.7.0)\n",
      "Requirement already satisfied: pyglet>=1.2.0 in /Users/falkvandermeirsch/miniconda3/lib/python3.6/site-packages (from gym[atari]) (1.3.2)\n",
      "Requirement already satisfied: requests>=2.0 in /Users/falkvandermeirsch/miniconda3/lib/python3.6/site-packages (from gym[atari]) (2.21.0)\n",
      "Requirement already satisfied: six in /Users/falkvandermeirsch/miniconda3/lib/python3.6/site-packages (from gym[atari]) (1.12.0)\n",
      "Requirement already satisfied: numpy>=1.10.4 in /Users/falkvandermeirsch/miniconda3/lib/python3.6/site-packages (from gym[atari]) (1.15.4)\n",
      "Requirement already satisfied: Pillow; extra == \"atari\" in /Users/falkvandermeirsch/miniconda3/lib/python3.6/site-packages (from gym[atari]) (5.4.1)\n",
      "Requirement already satisfied: atari-py>=0.0.17; extra == \"atari\" in /Users/falkvandermeirsch/miniconda3/lib/python3.6/site-packages (from gym[atari]) (0.1.7)\n",
      "Requirement already satisfied: PyOpenGL; extra == \"atari\" in /Users/falkvandermeirsch/miniconda3/lib/python3.6/site-packages (from gym[atari]) (3.1.0)\n",
      "Requirement already satisfied: future in /Users/falkvandermeirsch/miniconda3/lib/python3.6/site-packages (from pyglet>=1.2.0->gym[atari]) (0.17.1)\n",
      "Requirement already satisfied: chardet<3.1.0,>=3.0.2 in /Users/falkvandermeirsch/miniconda3/lib/python3.6/site-packages (from requests>=2.0->gym[atari]) (3.0.4)\n",
      "Requirement already satisfied: certifi>=2017.4.17 in /Users/falkvandermeirsch/miniconda3/lib/python3.6/site-packages (from requests>=2.0->gym[atari]) (2018.11.29)\n",
      "Requirement already satisfied: urllib3<1.25,>=1.21.1 in /Users/falkvandermeirsch/miniconda3/lib/python3.6/site-packages (from requests>=2.0->gym[atari]) (1.24.1)\n",
      "Requirement already satisfied: idna<2.9,>=2.5 in /Users/falkvandermeirsch/miniconda3/lib/python3.6/site-packages (from requests>=2.0->gym[atari]) (2.8)\n"
     ]
    },
    {
     "name": "stderr",
     "output_type": "stream",
     "text": [
      "[2019-02-10 13:23:37,159] Making new env: MsPacman-v0\n",
      "/Users/falkvandermeirsch/miniconda3/lib/python3.6/site-packages/gym/envs/registration.py:18: PkgResourcesDeprecationWarning: Parameters to load are deprecated.  Call .resolve and .require separately.\n",
      "  result = entry_point.load(False)\n"
     ]
    }
   ],
   "source": [
    "! pip install gym[atari]\n",
    "env = gym.make('MsPacman-v0')"
   ]
  },
  {
   "cell_type": "code",
   "execution_count": 3,
   "metadata": {},
   "outputs": [
    {
     "data": {
      "text/plain": [
       "147.66666666666666"
      ]
     },
     "execution_count": 3,
     "metadata": {},
     "output_type": "execute_result"
    }
   ],
   "source": [
    "color = np.array([210, 160, 73]).mean()\n",
    "color"
   ]
  },
  {
   "cell_type": "code",
   "execution_count": 4,
   "metadata": {},
   "outputs": [],
   "source": [
    "color = np.array([210, 160, 73]).mean()\n",
    "\n",
    "def preprocess_observation(obs):\n",
    "    # crop and resize image\n",
    "    img = obs[1:176:2,::2]\n",
    "    \n",
    "    # convert image to greyscale\n",
    "    img = img.mean(axis=2)\n",
    "    \n",
    "    # improve the contrast\n",
    "    img[img == color] = 0\n",
    "    \n",
    "    # normalize the image\n",
    "    img = (img - 128) / 128\n",
    "    \n",
    "    return img.reshape(88,80,1)"
   ]
  },
  {
   "cell_type": "markdown",
   "metadata": {},
   "source": [
    "Building the Q-network"
   ]
  },
  {
   "cell_type": "code",
   "execution_count": 5,
   "metadata": {},
   "outputs": [],
   "source": [
    "tf.reset_default_graph()\n",
    "\n",
    "def q_network(env, X, name_scope):\n",
    "    # initializing the layers\n",
    "    initializer = tf.contrib.layers.variance_scaling_initializer()\n",
    "    \n",
    "    # define the network\n",
    "    with tf.variable_scope(name_scope) as scope:\n",
    "        layer_1 = conv2d(X, num_outputs=32, kernel_size=(8,8), stride=4, padding='SAME',\n",
    "                        weights_initializer=initializer)\n",
    "        \n",
    "        layer_2 = conv2d(layer_1, num_outputs=64, kernel_size=(4,4), stride=2, padding='SAME',\n",
    "                        weights_initializer=initializer)\n",
    "        \n",
    "        layer_3 = conv2d(layer_2, num_outputs=64, kernel_size=(3,3), stride=4, padding='SAME',\n",
    "                        weights_initializer=initializer)\n",
    "        \n",
    "        \n",
    "        flat = flatten(layer_3)\n",
    "        \n",
    "        # feed the layer to a fully connected network\n",
    "        fc = fully_connected(flat, num_outputs=128, weights_initializer=initializer)\n",
    "        \n",
    "        # output of the fully connected layer\n",
    "        output = fully_connected(fc, num_outputs=env.action_space.n, activation_fn=None,\n",
    "                                weights_initializer=initializer)\n",
    "        \n",
    "        # store the parameters of the network\n",
    "        vars = {v.name[len(scope.name):]: v for v in tf.get_collection(\n",
    "            key = tf.GraphKeys.TRAINABLE_VARIABLES, scope=scope.name)}\n",
    "        \n",
    "    return vars, output"
   ]
  },
  {
   "cell_type": "code",
   "execution_count": 6,
   "metadata": {},
   "outputs": [],
   "source": [
    "eps_min = 0.05\n",
    "eps_max = 1\n",
    "eps_decay_steps = 100_000\n",
    "\n",
    "def epsilon_greedy(env, action, step):\n",
    "    epsilon = max(eps_min, eps_max - (eps_max - eps_min) * step / eps_decay_steps)\n",
    "    if np.random.rand() < epsilon:\n",
    "        return np.random.randint(env.action_space.n)\n",
    "    else:\n",
    "        return action\n"
   ]
  },
  {
   "cell_type": "code",
   "execution_count": 7,
   "metadata": {},
   "outputs": [],
   "source": [
    "# create the replay buffer\n",
    "buffer_len = 20_000\n",
    "exp_buffer = deque(maxlen=buffer_len) \n",
    "# deque is a list that can easily add items at the end and remove from the start"
   ]
  },
  {
   "cell_type": "code",
   "execution_count": 8,
   "metadata": {},
   "outputs": [],
   "source": [
    "def sample_memories(batch_size):\n",
    "    perm_batch = np.random.permutation(len(exp_buffer))[:batch_size]\n",
    "    mem = np.array(exp_buffer)[perm_batch]\n",
    "    # state, action, next_state, reward, done\n",
    "    return mem[:,0], mem[:,1], mem[:,2], mem[:,3], mem[:,4]"
   ]
  },
  {
   "cell_type": "code",
   "execution_count": 9,
   "metadata": {},
   "outputs": [],
   "source": [
    "num_episodes = 1000\n",
    "batch_size = 32\n",
    "inupt_shape = (None, 88, 80, 1)\n",
    "learning_rate = 0.001\n",
    "gamma = 0.9\n",
    "\n",
    "global_step = 0\n",
    "copy_steps = 100\n",
    "train_steps = 4 # amount of steps that are added (and removed) from the buffer\n",
    "start_steps =  2000"
   ]
  },
  {
   "cell_type": "code",
   "execution_count": 10,
   "metadata": {},
   "outputs": [],
   "source": [
    "logdir = 'logs'\n",
    "tf.reset_default_graph()\n",
    "\n",
    "# define placeholder for input: the game state\n",
    "X = tf.placeholder(tf.float32, shape=inupt_shape)\n",
    "\n",
    "# define a boolean to kick off training\n",
    "in_training_mode = tf.placeholder(tf.bool)"
   ]
  },
  {
   "cell_type": "code",
   "execution_count": 11,
   "metadata": {},
   "outputs": [],
   "source": [
    "# we build the 2 networks\n",
    "mainQ, mainQ_outputs = q_network(env, X, 'mainQ')\n",
    "targetQ, targetQ_outputs = q_network(env, X, 'targetQ')"
   ]
  },
  {
   "cell_type": "code",
   "execution_count": 12,
   "metadata": {},
   "outputs": [
    {
     "name": "stderr",
     "output_type": "stream",
     "text": [
      "[2019-02-10 13:23:38,068] From <ipython-input-12-f39ea0cd470a>:5: calling reduce_sum (from tensorflow.python.ops.math_ops) with keep_dims is deprecated and will be removed in a future version.\n",
      "Instructions for updating:\n",
      "keep_dims is deprecated, use keepdims instead\n"
     ]
    }
   ],
   "source": [
    "# define a placeholder for our actions values\n",
    "X_action = tf.placeholder(tf.int32, shape=(None, ))\n",
    "Q_action = tf.reduce_sum(targetQ_outputs * tf.one_hot(X_action, \n",
    "                                                      env.action_space.n), \n",
    "                         axis=-1, keep_dims=True)\n"
   ]
  },
  {
   "cell_type": "code",
   "execution_count": 13,
   "metadata": {},
   "outputs": [],
   "source": [
    "# defining the copy op to copy the weights of mainQ to the target Q network\n",
    "copy_op = [tf.assign(main_name, targetQ[var_name]) \n",
    "           for var_name, main_name in mainQ.items()]\n",
    "copy_main_to_target = tf.group(*copy_op)"
   ]
  },
  {
   "cell_type": "code",
   "execution_count": 14,
   "metadata": {},
   "outputs": [],
   "source": [
    "# define a placeholder for the target\n",
    "y = tf.placeholder(tf.float32, shape=(None, 1))\n",
    "\n",
    "# compute the loss\n",
    "loss = tf.reduce_mean(tf.square(y - Q_action))\n",
    "\n",
    "# define the optimizer and the training_op\n",
    "optimizer = tf.train.AdamOptimizer(learning_rate)\n",
    "training_op = optimizer.minimize(loss)\n",
    "\n",
    "init = tf.global_variables_initializer()\n",
    "\n",
    "loss_summary = tf.summary.scalar('LOSS', loss)\n",
    "merge_summary = tf.summary.merge_all()\n",
    "file_writer = tf.summary.FileWriter(logdir, tf.get_default_graph())"
   ]
  },
  {
   "cell_type": "markdown",
   "metadata": {},
   "source": [
    "Running the tensorflow session to run the model"
   ]
  },
  {
   "cell_type": "code",
   "execution_count": 16,
   "metadata": {},
   "outputs": [
    {
     "name": "stdout",
     "output_type": "stream",
     "text": [
      "Epoch: 658 - Reward: 230.0\n",
      "Epoch: 663 - Reward: 280.0\n",
      "Epoch: 534 - Reward: 170.0\n",
      "Epoch: 759 - Reward: 240.0\n",
      "Epoch: 610 - Reward: 140.0\n",
      "Epoch: 777 - Reward: 260.0\n",
      "Epoch: 674 - Reward: 260.0\n",
      "Epoch: 733 - Reward: 350.0\n",
      "Epoch: 578 - Reward: 240.0\n",
      "Epoch: 706 - Reward: 270.0\n",
      "Epoch: 843 - Reward: 290.0\n",
      "Epoch: 670 - Reward: 190.0\n",
      "Epoch: 705 - Reward: 290.0\n",
      "Epoch: 1106 - Reward: 560.0\n",
      "Epoch: 828 - Reward: 450.0\n",
      "Epoch: 750 - Reward: 320.0\n",
      "Epoch: 544 - Reward: 230.0\n",
      "Epoch: 627 - Reward: 180.0\n",
      "Epoch: 594 - Reward: 150.0\n",
      "Epoch: 565 - Reward: 200.0\n",
      "Epoch: 525 - Reward: 280.0\n",
      "Epoch: 539 - Reward: 240.0\n",
      "Epoch: 593 - Reward: 160.0\n",
      "Epoch: 670 - Reward: 360.0\n",
      "Epoch: 705 - Reward: 250.0\n",
      "Epoch: 652 - Reward: 230.0\n",
      "Epoch: 826 - Reward: 360.0\n",
      "Epoch: 641 - Reward: 260.0\n",
      "Epoch: 796 - Reward: 320.0\n",
      "Epoch: 665 - Reward: 330.0\n",
      "Epoch: 494 - Reward: 230.0\n",
      "Epoch: 657 - Reward: 360.0\n",
      "Epoch: 566 - Reward: 200.0\n",
      "Epoch: 904 - Reward: 560.0\n",
      "Epoch: 587 - Reward: 200.0\n",
      "Epoch: 664 - Reward: 260.0\n",
      "Epoch: 620 - Reward: 300.0\n",
      "Epoch: 485 - Reward: 140.0\n",
      "Epoch: 542 - Reward: 240.0\n",
      "Epoch: 553 - Reward: 180.0\n",
      "Epoch: 662 - Reward: 220.0\n",
      "Epoch: 810 - Reward: 1020.0\n",
      "Epoch: 718 - Reward: 320.0\n",
      "Epoch: 767 - Reward: 370.0\n",
      "Epoch: 617 - Reward: 320.0\n",
      "Epoch: 511 - Reward: 160.0\n",
      "Epoch: 754 - Reward: 490.0\n",
      "Epoch: 445 - Reward: 210.0\n",
      "Epoch: 870 - Reward: 680.0\n",
      "Epoch: 649 - Reward: 330.0\n",
      "Epoch: 811 - Reward: 680.0\n",
      "Epoch: 917 - Reward: 1050.0\n",
      "Epoch: 1042 - Reward: 740.0\n",
      "Epoch: 821 - Reward: 420.0\n",
      "Epoch: 718 - Reward: 310.0\n",
      "Epoch: 899 - Reward: 370.0\n",
      "Epoch: 788 - Reward: 1730.0\n",
      "Epoch: 701 - Reward: 160.0\n",
      "Epoch: 847 - Reward: 660.0\n",
      "Epoch: 813 - Reward: 780.0\n",
      "Epoch: 423 - Reward: 150.0\n",
      "Epoch: 720 - Reward: 420.0\n",
      "Epoch: 624 - Reward: 260.0\n",
      "Epoch: 931 - Reward: 560.0\n",
      "Epoch: 545 - Reward: 130.0\n",
      "Epoch: 712 - Reward: 500.0\n",
      "Epoch: 558 - Reward: 260.0\n",
      "Epoch: 767 - Reward: 470.0\n",
      "Epoch: 1000 - Reward: 920.0\n",
      "Epoch: 676 - Reward: 580.0\n",
      "Epoch: 1472 - Reward: 1770.0\n",
      "Epoch: 816 - Reward: 510.0\n",
      "Epoch: 641 - Reward: 370.0\n",
      "Epoch: 933 - Reward: 790.0\n",
      "Epoch: 771 - Reward: 470.0\n",
      "Epoch: 874 - Reward: 730.0\n",
      "Epoch: 639 - Reward: 270.0\n",
      "Epoch: 763 - Reward: 470.0\n",
      "Epoch: 692 - Reward: 330.0\n",
      "Epoch: 575 - Reward: 270.0\n",
      "Epoch: 808 - Reward: 500.0\n",
      "Epoch: 1569 - Reward: 1930.0\n",
      "Epoch: 534 - Reward: 190.0\n",
      "Epoch: 805 - Reward: 310.0\n",
      "Epoch: 619 - Reward: 470.0\n",
      "Epoch: 555 - Reward: 310.0\n",
      "Epoch: 461 - Reward: 240.0\n",
      "Epoch: 622 - Reward: 400.0\n",
      "Epoch: 579 - Reward: 380.0\n",
      "Epoch: 427 - Reward: 210.0\n",
      "Epoch: 549 - Reward: 260.0\n",
      "Epoch: 838 - Reward: 530.0\n",
      "Epoch: 1167 - Reward: 910.0\n",
      "Epoch: 803 - Reward: 750.0\n",
      "Epoch: 1191 - Reward: 1080.0\n",
      "Epoch: 621 - Reward: 260.0\n",
      "Epoch: 976 - Reward: 510.0\n",
      "Epoch: 549 - Reward: 340.0\n",
      "Epoch: 668 - Reward: 460.0\n",
      "Epoch: 618 - Reward: 310.0\n",
      "Epoch: 1124 - Reward: 870.0\n",
      "Epoch: 716 - Reward: 450.0\n",
      "Epoch: 371 - Reward: 180.0\n",
      "Epoch: 659 - Reward: 410.0\n",
      "Epoch: 859 - Reward: 490.0\n",
      "Epoch: 812 - Reward: 770.0\n",
      "Epoch: 975 - Reward: 1310.0\n",
      "Epoch: 773 - Reward: 430.0\n",
      "Epoch: 1162 - Reward: 620.0\n",
      "Epoch: 1180 - Reward: 1120.0\n",
      "Epoch: 1148 - Reward: 1500.0\n",
      "Epoch: 635 - Reward: 530.0\n",
      "Epoch: 749 - Reward: 380.0\n",
      "Epoch: 939 - Reward: 1080.0\n",
      "Epoch: 766 - Reward: 620.0\n",
      "Epoch: 754 - Reward: 780.0\n",
      "Epoch: 610 - Reward: 360.0\n",
      "Epoch: 673 - Reward: 470.0\n",
      "Epoch: 987 - Reward: 1800.0\n",
      "Epoch: 950 - Reward: 1260.0\n",
      "Epoch: 1084 - Reward: 850.0\n",
      "Epoch: 938 - Reward: 700.0\n",
      "Epoch: 720 - Reward: 580.0\n",
      "Epoch: 485 - Reward: 250.0\n",
      "Epoch: 616 - Reward: 490.0\n",
      "Epoch: 754 - Reward: 470.0\n",
      "Epoch: 826 - Reward: 680.0\n",
      "Epoch: 1065 - Reward: 900.0\n",
      "Epoch: 876 - Reward: 400.0\n",
      "Epoch: 652 - Reward: 550.0\n"
     ]
    },
    {
     "ename": "KeyboardInterrupt",
     "evalue": "",
     "output_type": "error",
     "traceback": [
      "\u001b[0;31m---------------------------------------------------------------------------\u001b[0m",
      "\u001b[0;31mKeyboardInterrupt\u001b[0m                         Traceback (most recent call last)",
      "\u001b[0;32m<ipython-input-16-273d5c398e3a>\u001b[0m in \u001b[0;36m<module>\u001b[0;34m\u001b[0m\n\u001b[1;32m     60\u001b[0m                 train_loss, _ = sess.run([loss, training_op], \n\u001b[1;32m     61\u001b[0m                     feed_dict={X: o_obs, y: np.expand_dims(y_batch, axis=-1),\n\u001b[0;32m---> 62\u001b[0;31m                                X_action: o_act, in_training_mode: True})\n\u001b[0m\u001b[1;32m     63\u001b[0m                 \u001b[0mepisodic_loss\u001b[0m\u001b[0;34m.\u001b[0m\u001b[0mappend\u001b[0m\u001b[0;34m(\u001b[0m\u001b[0mtrain_loss\u001b[0m\u001b[0;34m)\u001b[0m\u001b[0;34m\u001b[0m\u001b[0;34m\u001b[0m\u001b[0m\n\u001b[1;32m     64\u001b[0m \u001b[0;34m\u001b[0m\u001b[0m\n",
      "\u001b[0;32m~/miniconda3/lib/python3.6/site-packages/tensorflow/python/client/session.py\u001b[0m in \u001b[0;36mrun\u001b[0;34m(self, fetches, feed_dict, options, run_metadata)\u001b[0m\n\u001b[1;32m    875\u001b[0m     \u001b[0;32mtry\u001b[0m\u001b[0;34m:\u001b[0m\u001b[0;34m\u001b[0m\u001b[0;34m\u001b[0m\u001b[0m\n\u001b[1;32m    876\u001b[0m       result = self._run(None, fetches, feed_dict, options_ptr,\n\u001b[0;32m--> 877\u001b[0;31m                          run_metadata_ptr)\n\u001b[0m\u001b[1;32m    878\u001b[0m       \u001b[0;32mif\u001b[0m \u001b[0mrun_metadata\u001b[0m\u001b[0;34m:\u001b[0m\u001b[0;34m\u001b[0m\u001b[0;34m\u001b[0m\u001b[0m\n\u001b[1;32m    879\u001b[0m         \u001b[0mproto_data\u001b[0m \u001b[0;34m=\u001b[0m \u001b[0mtf_session\u001b[0m\u001b[0;34m.\u001b[0m\u001b[0mTF_GetBuffer\u001b[0m\u001b[0;34m(\u001b[0m\u001b[0mrun_metadata_ptr\u001b[0m\u001b[0;34m)\u001b[0m\u001b[0;34m\u001b[0m\u001b[0;34m\u001b[0m\u001b[0m\n",
      "\u001b[0;32m~/miniconda3/lib/python3.6/site-packages/tensorflow/python/client/session.py\u001b[0m in \u001b[0;36m_run\u001b[0;34m(self, handle, fetches, feed_dict, options, run_metadata)\u001b[0m\n\u001b[1;32m   1098\u001b[0m     \u001b[0;32mif\u001b[0m \u001b[0mfinal_fetches\u001b[0m \u001b[0;32mor\u001b[0m \u001b[0mfinal_targets\u001b[0m \u001b[0;32mor\u001b[0m \u001b[0;34m(\u001b[0m\u001b[0mhandle\u001b[0m \u001b[0;32mand\u001b[0m \u001b[0mfeed_dict_tensor\u001b[0m\u001b[0;34m)\u001b[0m\u001b[0;34m:\u001b[0m\u001b[0;34m\u001b[0m\u001b[0;34m\u001b[0m\u001b[0m\n\u001b[1;32m   1099\u001b[0m       results = self._do_run(handle, final_targets, final_fetches,\n\u001b[0;32m-> 1100\u001b[0;31m                              feed_dict_tensor, options, run_metadata)\n\u001b[0m\u001b[1;32m   1101\u001b[0m     \u001b[0;32melse\u001b[0m\u001b[0;34m:\u001b[0m\u001b[0;34m\u001b[0m\u001b[0;34m\u001b[0m\u001b[0m\n\u001b[1;32m   1102\u001b[0m       \u001b[0mresults\u001b[0m \u001b[0;34m=\u001b[0m \u001b[0;34m[\u001b[0m\u001b[0;34m]\u001b[0m\u001b[0;34m\u001b[0m\u001b[0;34m\u001b[0m\u001b[0m\n",
      "\u001b[0;32m~/miniconda3/lib/python3.6/site-packages/tensorflow/python/client/session.py\u001b[0m in \u001b[0;36m_do_run\u001b[0;34m(self, handle, target_list, fetch_list, feed_dict, options, run_metadata)\u001b[0m\n\u001b[1;32m   1270\u001b[0m     \u001b[0;32mif\u001b[0m \u001b[0mhandle\u001b[0m \u001b[0;32mis\u001b[0m \u001b[0;32mNone\u001b[0m\u001b[0;34m:\u001b[0m\u001b[0;34m\u001b[0m\u001b[0;34m\u001b[0m\u001b[0m\n\u001b[1;32m   1271\u001b[0m       return self._do_call(_run_fn, feeds, fetches, targets, options,\n\u001b[0;32m-> 1272\u001b[0;31m                            run_metadata)\n\u001b[0m\u001b[1;32m   1273\u001b[0m     \u001b[0;32melse\u001b[0m\u001b[0;34m:\u001b[0m\u001b[0;34m\u001b[0m\u001b[0;34m\u001b[0m\u001b[0m\n\u001b[1;32m   1274\u001b[0m       \u001b[0;32mreturn\u001b[0m \u001b[0mself\u001b[0m\u001b[0;34m.\u001b[0m\u001b[0m_do_call\u001b[0m\u001b[0;34m(\u001b[0m\u001b[0m_prun_fn\u001b[0m\u001b[0;34m,\u001b[0m \u001b[0mhandle\u001b[0m\u001b[0;34m,\u001b[0m \u001b[0mfeeds\u001b[0m\u001b[0;34m,\u001b[0m \u001b[0mfetches\u001b[0m\u001b[0;34m)\u001b[0m\u001b[0;34m\u001b[0m\u001b[0;34m\u001b[0m\u001b[0m\n",
      "\u001b[0;32m~/miniconda3/lib/python3.6/site-packages/tensorflow/python/client/session.py\u001b[0m in \u001b[0;36m_do_call\u001b[0;34m(self, fn, *args)\u001b[0m\n\u001b[1;32m   1276\u001b[0m   \u001b[0;32mdef\u001b[0m \u001b[0m_do_call\u001b[0m\u001b[0;34m(\u001b[0m\u001b[0mself\u001b[0m\u001b[0;34m,\u001b[0m \u001b[0mfn\u001b[0m\u001b[0;34m,\u001b[0m \u001b[0;34m*\u001b[0m\u001b[0margs\u001b[0m\u001b[0;34m)\u001b[0m\u001b[0;34m:\u001b[0m\u001b[0;34m\u001b[0m\u001b[0;34m\u001b[0m\u001b[0m\n\u001b[1;32m   1277\u001b[0m     \u001b[0;32mtry\u001b[0m\u001b[0;34m:\u001b[0m\u001b[0;34m\u001b[0m\u001b[0;34m\u001b[0m\u001b[0m\n\u001b[0;32m-> 1278\u001b[0;31m       \u001b[0;32mreturn\u001b[0m \u001b[0mfn\u001b[0m\u001b[0;34m(\u001b[0m\u001b[0;34m*\u001b[0m\u001b[0margs\u001b[0m\u001b[0;34m)\u001b[0m\u001b[0;34m\u001b[0m\u001b[0;34m\u001b[0m\u001b[0m\n\u001b[0m\u001b[1;32m   1279\u001b[0m     \u001b[0;32mexcept\u001b[0m \u001b[0merrors\u001b[0m\u001b[0;34m.\u001b[0m\u001b[0mOpError\u001b[0m \u001b[0;32mas\u001b[0m \u001b[0me\u001b[0m\u001b[0;34m:\u001b[0m\u001b[0;34m\u001b[0m\u001b[0;34m\u001b[0m\u001b[0m\n\u001b[1;32m   1280\u001b[0m       \u001b[0mmessage\u001b[0m \u001b[0;34m=\u001b[0m \u001b[0mcompat\u001b[0m\u001b[0;34m.\u001b[0m\u001b[0mas_text\u001b[0m\u001b[0;34m(\u001b[0m\u001b[0me\u001b[0m\u001b[0;34m.\u001b[0m\u001b[0mmessage\u001b[0m\u001b[0;34m)\u001b[0m\u001b[0;34m\u001b[0m\u001b[0;34m\u001b[0m\u001b[0m\n",
      "\u001b[0;32m~/miniconda3/lib/python3.6/site-packages/tensorflow/python/client/session.py\u001b[0m in \u001b[0;36m_run_fn\u001b[0;34m(feed_dict, fetch_list, target_list, options, run_metadata)\u001b[0m\n\u001b[1;32m   1261\u001b[0m       \u001b[0mself\u001b[0m\u001b[0;34m.\u001b[0m\u001b[0m_extend_graph\u001b[0m\u001b[0;34m(\u001b[0m\u001b[0;34m)\u001b[0m\u001b[0;34m\u001b[0m\u001b[0;34m\u001b[0m\u001b[0m\n\u001b[1;32m   1262\u001b[0m       return self._call_tf_sessionrun(\n\u001b[0;32m-> 1263\u001b[0;31m           options, feed_dict, fetch_list, target_list, run_metadata)\n\u001b[0m\u001b[1;32m   1264\u001b[0m \u001b[0;34m\u001b[0m\u001b[0m\n\u001b[1;32m   1265\u001b[0m     \u001b[0;32mdef\u001b[0m \u001b[0m_prun_fn\u001b[0m\u001b[0;34m(\u001b[0m\u001b[0mhandle\u001b[0m\u001b[0;34m,\u001b[0m \u001b[0mfeed_dict\u001b[0m\u001b[0;34m,\u001b[0m \u001b[0mfetch_list\u001b[0m\u001b[0;34m)\u001b[0m\u001b[0;34m:\u001b[0m\u001b[0;34m\u001b[0m\u001b[0;34m\u001b[0m\u001b[0m\n",
      "\u001b[0;32m~/miniconda3/lib/python3.6/site-packages/tensorflow/python/client/session.py\u001b[0m in \u001b[0;36m_call_tf_sessionrun\u001b[0;34m(self, options, feed_dict, fetch_list, target_list, run_metadata)\u001b[0m\n\u001b[1;32m   1348\u001b[0m     return tf_session.TF_SessionRun_wrapper(\n\u001b[1;32m   1349\u001b[0m         \u001b[0mself\u001b[0m\u001b[0;34m.\u001b[0m\u001b[0m_session\u001b[0m\u001b[0;34m,\u001b[0m \u001b[0moptions\u001b[0m\u001b[0;34m,\u001b[0m \u001b[0mfeed_dict\u001b[0m\u001b[0;34m,\u001b[0m \u001b[0mfetch_list\u001b[0m\u001b[0;34m,\u001b[0m \u001b[0mtarget_list\u001b[0m\u001b[0;34m,\u001b[0m\u001b[0;34m\u001b[0m\u001b[0;34m\u001b[0m\u001b[0m\n\u001b[0;32m-> 1350\u001b[0;31m         run_metadata)\n\u001b[0m\u001b[1;32m   1351\u001b[0m \u001b[0;34m\u001b[0m\u001b[0m\n\u001b[1;32m   1352\u001b[0m   \u001b[0;32mdef\u001b[0m \u001b[0m_call_tf_sessionprun\u001b[0m\u001b[0;34m(\u001b[0m\u001b[0mself\u001b[0m\u001b[0;34m,\u001b[0m \u001b[0mhandle\u001b[0m\u001b[0;34m,\u001b[0m \u001b[0mfeed_dict\u001b[0m\u001b[0;34m,\u001b[0m \u001b[0mfetch_list\u001b[0m\u001b[0;34m)\u001b[0m\u001b[0;34m:\u001b[0m\u001b[0;34m\u001b[0m\u001b[0;34m\u001b[0m\u001b[0m\n",
      "\u001b[0;31mKeyboardInterrupt\u001b[0m: "
     ]
    }
   ],
   "source": [
    "with tf.Session() as sess:\n",
    "    init.run()\n",
    "    \n",
    "    # for each episode\n",
    "    for i in range(num_episodes):\n",
    "        done = False\n",
    "        obs = env.reset()\n",
    "        epoch = 0\n",
    "        episodic_reward = 0\n",
    "        episodic_loss = []\n",
    "        \n",
    "        # run episode until reaching terminal state\n",
    "        while not done:\n",
    "            # preprocess the observation\n",
    "            obs = preprocess_observation(obs)\n",
    "            \n",
    "            # feed game screen and get Q_values for each action\n",
    "            actions = mainQ_outputs.eval(feed_dict={X: [obs], in_training_mode: False})\n",
    "            \n",
    "            # get action that derives from Q_values\n",
    "            action = np.argmax(actions, axis=-1)\n",
    "            \n",
    "            # select the action using epsilon-greedy policy\n",
    "            action = epsilon_greedy(env, action, global_step)\n",
    "            \n",
    "            # perform action and move to next state\n",
    "            # observe next_obs and receive reward\n",
    "            next_obs, reward, done, _ = env.step(action)\n",
    "            \n",
    "            # store transition in replay buffer\n",
    "            exp_buffer.append([obs, action, preprocess_observation(next_obs), \n",
    "                               reward, done])\n",
    "            \n",
    "            # start training Q-nework after certain number of steps \n",
    "            # with samples from the experience replay buffer\n",
    "            if global_step > start_steps and global_step % train_steps == 0:\n",
    "                # sample batch of transitions\n",
    "                o_obs, o_act, o_next_obs, o_rew, o_done = sample_memories(batch_size)\n",
    "                \n",
    "                # list states\n",
    "                o_obs = [x for x in o_obs]\n",
    "                \n",
    "                # list next states\n",
    "                o_next_obs = [x for x in o_next_obs]\n",
    "                \n",
    "                # next_actions\n",
    "                next_act = targetQ_outputs.eval(feed_dict={X: o_next_obs, \n",
    "                                                         in_training_mode: False})\n",
    "                \n",
    "                # compute the target of Q_network\n",
    "                y_batch = o_rew + gamma * np.max(next_act, axis=-1) * (1 - o_done)\n",
    "                \n",
    "                # merge all summaries\n",
    "                mrg_summary = merge_summary.eval(\n",
    "                    feed_dict={X: o_obs, y: np.expand_dims(y_batch, axis=-1),\n",
    "                               X_action: o_act, in_training_mode: False})\n",
    "                file_writer.add_summary(mrg_summary, global_step)\n",
    "                \n",
    "                # train mainQ network\n",
    "                train_loss, _ = sess.run([loss, training_op], \n",
    "                    feed_dict={X: o_obs, y: np.expand_dims(y_batch, axis=-1),\n",
    "                               X_action: o_act, in_training_mode: True})\n",
    "                episodic_loss.append(train_loss)\n",
    "            \n",
    "            if (global_step + 1) % copy_steps == 0 and global_step > start_steps:\n",
    "                copy_main_to_target.run()\n",
    "                \n",
    "            obs = next_obs\n",
    "            epoch += 1\n",
    "            global_step += 1\n",
    "            episodic_reward += reward\n",
    "        \n",
    "        print(f'Epoch: {epoch} - Reward: {episodic_reward}')\n",
    "\n",
    "            "
   ]
  },
  {
   "cell_type": "code",
   "execution_count": null,
   "metadata": {},
   "outputs": [],
   "source": []
  },
  {
   "cell_type": "code",
   "execution_count": null,
   "metadata": {},
   "outputs": [],
   "source": []
  }
 ],
 "metadata": {
  "kernelspec": {
   "display_name": "Python 3",
   "language": "python",
   "name": "python3"
  },
  "language_info": {
   "codemirror_mode": {
    "name": "ipython",
    "version": 3
   },
   "file_extension": ".py",
   "mimetype": "text/x-python",
   "name": "python",
   "nbconvert_exporter": "python",
   "pygments_lexer": "ipython3",
   "version": "3.6.8"
  }
 },
 "nbformat": 4,
 "nbformat_minor": 2
}
