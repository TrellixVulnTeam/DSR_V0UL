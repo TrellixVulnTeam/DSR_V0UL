{
 "cells": [
  {
   "cell_type": "code",
   "execution_count": 1,
   "metadata": {},
   "outputs": [],
   "source": [
    "import gym\n",
    "import numpy as np"
   ]
  },
  {
   "cell_type": "code",
   "execution_count": 2,
   "metadata": {},
   "outputs": [
    {
     "name": "stderr",
     "output_type": "stream",
     "text": [
      "[2019-02-09 15:33:05,306] Making new env: FrozenLake-v0\n",
      "/Users/falkvandermeirsch/miniconda3/lib/python3.6/site-packages/gym/envs/registration.py:18: PkgResourcesDeprecationWarning: Parameters to load are deprecated.  Call .resolve and .require separately.\n",
      "  result = entry_point.load(False)\n"
     ]
    }
   ],
   "source": [
    "env=gym.make('FrozenLake-v0')"
   ]
  },
  {
   "cell_type": "code",
   "execution_count": 3,
   "metadata": {},
   "outputs": [
    {
     "name": "stdout",
     "output_type": "stream",
     "text": [
      "\u001b[41mS\u001b[0mFFF\n",
      "FHFH\n",
      "FFFH\n",
      "HFFG\n",
      "\n"
     ]
    },
    {
     "data": {
      "text/plain": [
       "<ipykernel.iostream.OutStream at 0x10ea33ac8>"
      ]
     },
     "execution_count": 3,
     "metadata": {},
     "output_type": "execute_result"
    }
   ],
   "source": [
    "env.render()"
   ]
  },
  {
   "cell_type": "code",
   "execution_count": 4,
   "metadata": {},
   "outputs": [
    {
     "name": "stdout",
     "output_type": "stream",
     "text": [
      "(1, 16)\n",
      "(1, 16)\n",
      "(2, 16)\n"
     ]
    },
    {
     "data": {
      "text/plain": [
       "array([[0., 0., 0., 0., 0., 0., 0., 0., 0., 0., 0., 0., 0., 0., 0., 0.],\n",
       "       [1., 1., 1., 1., 1., 1., 1., 1., 1., 1., 1., 1., 1., 1., 1., 1.],\n",
       "       [0., 0., 0., 0., 0., 0., 0., 0., 0., 0., 0., 0., 0., 0., 0., 0.]])"
      ]
     },
     "execution_count": 4,
     "metadata": {},
     "output_type": "execute_result"
    }
   ],
   "source": [
    "a = np.zeros((1, env.observation_space.n))\n",
    "b = np.ones((1, env.observation_space.n))\n",
    "print(a.shape)\n",
    "print(b.shape)\n",
    "c = np.concatenate((a, b), axis=0)\n",
    "print(c.shape)\n",
    "np.concatenate((c,a), axis=0)"
   ]
  },
  {
   "cell_type": "code",
   "execution_count": null,
   "metadata": {},
   "outputs": [],
   "source": []
  },
  {
   "cell_type": "code",
   "execution_count": 7,
   "metadata": {},
   "outputs": [],
   "source": [
    "def compute_value_function(env, policy, gamma):\n",
    "    # initialize value table\n",
    "    value_table = np.zeros((1, env.observation_space.n))\n",
    "    value_history = value_table\n",
    "    policy_history = np.expand_dims(policy, axis=0)\n",
    "    \n",
    "    # set a treshold\n",
    "    threshold = 1e-20\n",
    "    \n",
    "    while True:\n",
    "        # copy the value table\n",
    "        updated_value_table = np.copy(value_table)\n",
    "        \n",
    "        # for each state\n",
    "        \n",
    "        for state in range(env.observation_space.n):\n",
    "            # select action from the policy\n",
    "            action = policy[state]\n",
    "            \n",
    "            # update the value table\n",
    "            value_table[0][state] = sum(\n",
    "                (trans_prob * (reward_prob + gamma * updated_value_table[0][next_state])) \n",
    "                for trans_prob, next_state, reward_prob, _ in env.P[state][action])\n",
    "        \n",
    "        value_history = np.concatenate((value_history, value_table), axis=0)\n",
    "        policy_history = np.concatenate((policy_history, np.expand_dims(policy, axis=0)), axis=0)\n",
    "        \n",
    "        if np.sum(np.abs(updated_value_table[0] - value_table[0])) <= threshold:\n",
    "            break\n",
    "    \n",
    "    return value_table[0], value_history, policy_history\n",
    "            "
   ]
  },
  {
   "cell_type": "code",
   "execution_count": 8,
   "metadata": {},
   "outputs": [
    {
     "data": {
      "text/plain": [
       "(array([0., 0., 0., 0., 0., 0., 0., 0., 0., 0., 0., 0., 0., 0., 0., 0.]),\n",
       " array([[0., 0., 0., 0., 0., 0., 0., 0., 0., 0., 0., 0., 0., 0., 0., 0.],\n",
       "        [0., 0., 0., 0., 0., 0., 0., 0., 0., 0., 0., 0., 0., 0., 0., 0.]]),\n",
       " array([[0., 0., 0., 0., 0., 0., 0., 0., 0., 0., 0., 0., 0., 0., 0., 0.],\n",
       "        [0., 0., 0., 0., 0., 0., 0., 0., 0., 0., 0., 0., 0., 0., 0., 0.]]))"
      ]
     },
     "execution_count": 8,
     "metadata": {},
     "output_type": "execute_result"
    }
   ],
   "source": [
    "compute_value_function(env, np.zeros(env.observation_space.n), gamma=0.9)"
   ]
  },
  {
   "cell_type": "code",
   "execution_count": 9,
   "metadata": {},
   "outputs": [],
   "source": [
    "def extract_policy(env, value_table, gamma=1.0):\n",
    "    # initializing the policy table\n",
    "    policy=np.zeros(env.observation_space.n)\n",
    "\n",
    "    for state in range(env.observation_space.n):\n",
    "\n",
    "        # initializing the Q_table for each state\n",
    "        Q_table=np.zeros(env.action_space.n)\n",
    "\n",
    "        # compute Q Value for each actions of the state\n",
    "        #Q_value(state,action) <-sum over s' (p(s'|s,a)*(r(s'|s,a)+gamma*V(s')))\n",
    "        for action in range(env.action_space.n):\n",
    "            for next_s in env.P[state][action]:\n",
    "                trans_prob, next_state, reward_prob, _=next_s\n",
    "                # adding the next_state_rewards for the succesor state next_state to the Q_value\n",
    "                Q_table[action]+=(trans_prob*(reward_prob+gamma*value_table[next_state]))\n",
    "\n",
    "        #select the action that has the maximum Q-value for finding the optimal policy\n",
    "        policy[state]=np.argmax(Q_table)\n",
    "        #pi(state)<-argmax over actions (Q_table(state, action))\n",
    "\n",
    "    return policy\n"
   ]
  },
  {
   "cell_type": "code",
   "execution_count": 10,
   "metadata": {},
   "outputs": [],
   "source": [
    "policy_history = np.zeros((4,4))\n",
    "value_history = np.zeros((4,4))"
   ]
  },
  {
   "cell_type": "code",
   "execution_count": 11,
   "metadata": {},
   "outputs": [],
   "source": [
    "def policy_iteration(env, gamma):\n",
    "    # initialize policy\n",
    "    old_policy = np.zeros(env.observation_space.n)\n",
    "    n_iterations = 100_000\n",
    "    \n",
    "    history_values = np.zeros((1, env.observation_space.n))\n",
    "    history_policies = np.zeros((1, env.observation_space.n))\n",
    "    \n",
    "    for i in range(n_iterations):\n",
    "        # compute value function of the current policy\n",
    "        new_value_function, val_hist, pol_hist = compute_value_function(env, old_policy, gamma)\n",
    "        history_values = np.concatenate((history_values, val_hist), axis=0)\n",
    "        history_policies = np.concatenate((history_policies, pol_hist), axis=0)\n",
    "        \n",
    "        # extract old policy - policy improvement step\n",
    "        new_policy = extract_policy(env, new_value_function, gamma)\n",
    "        \n",
    "        # check whether we have reached convergence\n",
    "        if np.all(old_policy == new_policy):\n",
    "            print(f'Policy Iteration converged at step {i+1}')\n",
    "            break\n",
    "        \n",
    "        old_policy = new_policy\n",
    "    \n",
    "    return new_policy, history_values, history_policies\n",
    "        "
   ]
  },
  {
   "cell_type": "code",
   "execution_count": 16,
   "metadata": {},
   "outputs": [
    {
     "name": "stdout",
     "output_type": "stream",
     "text": [
      "Policy Iteration converged at step 6\n"
     ]
    }
   ],
   "source": [
    "policy, value_history, policies_history = policy_iteration(env, gamma=0.9)"
   ]
  },
  {
   "cell_type": "code",
   "execution_count": 23,
   "metadata": {},
   "outputs": [
    {
     "data": {
      "text/plain": [
       "array([0., 3., 2., 3., 0., 0., 0., 0., 3., 1., 0., 0., 0., 2., 1., 0.])"
      ]
     },
     "execution_count": 23,
     "metadata": {},
     "output_type": "execute_result"
    }
   ],
   "source": [
    "value_history.shape\n",
    "policies_history[500]"
   ]
  },
  {
   "cell_type": "code",
   "execution_count": 48,
   "metadata": {},
   "outputs": [],
   "source": [
    "d = {\n",
    "    0: \"←\",\n",
    "    1: \"↓\",\n",
    "    2: \"→\",\n",
    "    3: \"↑\",\n",
    "}\n",
    "\n",
    "arrows = np.chararray(policies_history.shape, unicode=True)\n",
    "for i, policy in enumerate(policies_history):\n",
    "    for j, action in enumerate(policy):\n",
    "        arrows[i][j] = d[action]\n"
   ]
  },
  {
   "cell_type": "code",
   "execution_count": null,
   "metadata": {},
   "outputs": [],
   "source": []
  },
  {
   "cell_type": "code",
   "execution_count": 49,
   "metadata": {},
   "outputs": [
    {
     "data": {
      "application/vnd.jupyter.widget-view+json": {
       "model_id": "cd2f197ba6364d79b3f95380c6a18272",
       "version_major": 2,
       "version_minor": 0
      },
      "text/plain": [
       "interactive(children=(IntSlider(value=500, description='i', max=1000), Output()), _dom_classes=('widget-intera…"
      ]
     },
     "metadata": {},
     "output_type": "display_data"
    }
   ],
   "source": [
    "from ipywidgets import interact\n",
    "import matplotlib.pyplot as plt\n",
    "from itertools import product\n",
    "\n",
    "@interact\n",
    "def view_image(i= (0,1000)):\n",
    "    plt.clf()\n",
    "    x = range(4)\n",
    "    y = range(4)\n",
    "    for a,b in product(x, y): \n",
    "        plt.text(a, b, f'{np.transpose(arrows[i].reshape(4,4))[a][b]}',)\n",
    "    plt.imshow(value_history[i].reshape(4,4), cmap='winter')\n",
    "    plt.show()"
   ]
  }
 ],
 "metadata": {
  "kernelspec": {
   "display_name": "Python 3",
   "language": "python",
   "name": "python3"
  },
  "language_info": {
   "codemirror_mode": {
    "name": "ipython",
    "version": 3
   },
   "file_extension": ".py",
   "mimetype": "text/x-python",
   "name": "python",
   "nbconvert_exporter": "python",
   "pygments_lexer": "ipython3",
   "version": "3.6.8"
  }
 },
 "nbformat": 4,
 "nbformat_minor": 2
}
