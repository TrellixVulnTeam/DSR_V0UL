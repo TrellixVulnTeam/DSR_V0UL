{
 "cells": [
  {
   "cell_type": "markdown",
   "metadata": {},
   "source": [
    "# Zero-shot learning for image classification "
   ]
  },
  {
   "cell_type": "markdown",
   "metadata": {},
   "source": [
    "original data and code can be found here https://www.mpi-inf.mpg.de/departments/computer-vision-and-multimodal-computing/research/zero-shot-learning/zero-shot-learning-the-good-the-bad-and-the-ugly/)\n",
    "[Akata, et al. CVPR2015]\n",
    "[Xian, et al. CVPR2017]"
   ]
  },
  {
   "cell_type": "markdown",
   "metadata": {},
   "source": [
    "Download prepared data of Animal with attributes from: \n",
    "https://drive.google.com/open?id=1ErU12Q2sHhB2Lb7NCQuan0K3qXP78RJj"
   ]
  },
  {
   "cell_type": "code",
   "execution_count": 1,
   "metadata": {},
   "outputs": [],
   "source": [
    "import numpy as np "
   ]
  },
  {
   "cell_type": "code",
   "execution_count": 2,
   "metadata": {},
   "outputs": [],
   "source": [
    "def l2_norm(x):\n",
    "    return x / (np.linalg.norm(x) + 10e-6)"
   ]
  },
  {
   "cell_type": "code",
   "execution_count": 3,
   "metadata": {},
   "outputs": [],
   "source": [
    "# load prepared data \n",
    "your_path_to_data_dict= 'data/data_dict.npz' # PATH TO DATA\n",
    "data_dict = np.load(your_path_to_data_dict,encoding = 'latin1')['data'].item()\n",
    "\n",
    "tr_theta_x = data_dict['tr_theta_x'] # training image features extracted from deep CNN\n",
    "tr_labels = data_dict['tr_labels'] # training image labels as indices matching class embeddings and names\n",
    "val_theta_x = data_dict['val_theta_x']# validation image features extracted from deep CNN\n",
    "val_labels = data_dict['val_labels'] # validation image labels as indices matching class embeddings and names\n",
    "test_theta_x = data_dict['test_theta_x'] # test image features extracted from deep CNN\n",
    "test_labels = data_dict['test_labels'] # test image labels as indices matching class embeddings and names\n",
    "\n",
    "class_embeddings = data_dict['phi_y'] # class attributes vectors provided by the original dataset AWA\n",
    "\n",
    "class_names = data_dict['class_name'] # class names in the same order as embeddings "
   ]
  },
  {
   "cell_type": "code",
   "execution_count": 4,
   "metadata": {
    "scrolled": true
   },
   "outputs": [
    {
     "data": {
      "text/plain": [
       "50"
      ]
     },
     "execution_count": 4,
     "metadata": {},
     "output_type": "execute_result"
    }
   ],
   "source": [
    "# print training, validation, and test class names\n",
    "# note that class_embeddings and class_names \n",
    "len(class_names)\n",
    "# add your implementation   "
   ]
  },
  {
   "cell_type": "code",
   "execution_count": 5,
   "metadata": {},
   "outputs": [
    {
     "name": "stdout",
     "output_type": "stream",
     "text": [
      "(20218, 2048)\n",
      "(9191, 2048)\n",
      "(9191,)\n",
      "(7913, 2048)\n",
      "(7913,)\n",
      "-----\n",
      "(50, 85)\n",
      "50\n"
     ]
    }
   ],
   "source": [
    "print(tr_theta_x.shape)\n",
    "print(val_theta_x.shape)\n",
    "print(val_labels.shape)\n",
    "print(test_theta_x.shape)\n",
    "print(test_labels.shape)\n",
    "print('-----')\n",
    "print(class_embeddings.shape)\n",
    "print(len(class_names))"
   ]
  },
  {
   "cell_type": "code",
   "execution_count": 6,
   "metadata": {},
   "outputs": [
    {
     "data": {
      "text/plain": [
       "array(['antelope', 'grizzly+bear', 'killer+whale', 'persian+cat',\n",
       "       'german+shepherd', 'siamese+cat', 'skunk', 'tiger', 'hippopotamus',\n",
       "       'spider+monkey', 'humpback+whale', 'elephant', 'fox', 'squirrel',\n",
       "       'rhinoceros', 'wolf', 'chihuahua', 'weasel', 'otter', 'buffalo',\n",
       "       'zebra', 'pig', 'lion', 'mouse', 'polar+bear', 'collie', 'cow'],\n",
       "      dtype='<U15')"
      ]
     },
     "execution_count": 6,
     "metadata": {},
     "output_type": "execute_result"
    }
   ],
   "source": [
    "np.array(class_names)[list(set(tr_labels))]"
   ]
  },
  {
   "cell_type": "code",
   "execution_count": 7,
   "metadata": {},
   "outputs": [
    {
     "data": {
      "text/plain": [
       "array(['beaver', 'dalmatian', 'giant+panda', 'deer', 'mole', 'leopard',\n",
       "       'moose', 'raccoon', 'gorilla', 'ox', 'chimpanzee', 'hamster',\n",
       "       'rabbit'], dtype='<U15')"
      ]
     },
     "execution_count": 7,
     "metadata": {},
     "output_type": "execute_result"
    }
   ],
   "source": [
    "np.array(class_names)[list(set(val_labels))]"
   ]
  },
  {
   "cell_type": "code",
   "execution_count": 8,
   "metadata": {},
   "outputs": [
    {
     "data": {
      "text/plain": [
       "array(['rat', 'horse', 'blue+whale', 'bobcat', 'walrus', 'dolphin',\n",
       "       'sheep', 'seal', 'bat', 'giraffe'], dtype='<U15')"
      ]
     },
     "execution_count": 8,
     "metadata": {},
     "output_type": "execute_result"
    }
   ],
   "source": [
    "np.array(class_names)[list(set(test_labels))]"
   ]
  },
  {
   "cell_type": "code",
   "execution_count": 9,
   "metadata": {},
   "outputs": [
    {
     "data": {
      "text/plain": [
       "(20218, 2048)"
      ]
     },
     "execution_count": 9,
     "metadata": {},
     "output_type": "execute_result"
    }
   ],
   "source": [
    "tr_theta_x.shape"
   ]
  },
  {
   "cell_type": "code",
   "execution_count": null,
   "metadata": {},
   "outputs": [],
   "source": []
  },
  {
   "cell_type": "code",
   "execution_count": 10,
   "metadata": {},
   "outputs": [],
   "source": [
    "def train(X,Y,LR,T,W=None):\n",
    "    N = X.shape[0]\n",
    "    Y_tr = np.unique(Y, axis=0)\n",
    "\n",
    "    if W is None:\n",
    "        W = np.ones((Y.shape[1], X.shape[1]))\n",
    "\n",
    "    for i in range(T): # T is number of epochs\n",
    "        running_loss = 0\n",
    "        \n",
    "        print('epoch: ', i)\n",
    "        np.random.seed(123)\n",
    "        X = np.random.permutation(X)\n",
    "        np.random.seed(123)\n",
    "        Y = np.random.permutation(Y)\n",
    "        \n",
    "        for i in range(N):\n",
    "            score_true = np.dot(l2_norm(np.dot(X[i], W.T)), Y[i])\n",
    "\n",
    "            loss_max = -1\n",
    "            y_max = -1\n",
    "            \n",
    "            for label in Y_tr:\n",
    "                score = np.dot(l2_norm(np.dot(X[i], W.T)), label)\n",
    "                loss = np.all(Y[i] != label) + score - score_true\n",
    "                if loss > loss_max:\n",
    "                    loss_max = loss\n",
    "                    y_max = label\n",
    "            if not np.all(y_max == Y[i]):\n",
    "                W = W + LR * np.expand_dims(X[i], 0) * np.expand_dims((Y[i] - y_max),1)\n",
    "                \n",
    "            running_loss += loss\n",
    "        \n",
    "        print(f'running loss: {running_loss}')\n",
    "            \n",
    "    return W"
   ]
  },
  {
   "cell_type": "code",
   "execution_count": 11,
   "metadata": {},
   "outputs": [],
   "source": [
    "def predict(x, test_class_indices, W):\n",
    "    \n",
    "    # add your implementation\n",
    "    \n",
    "    max_score = -1\n",
    "    y_max = -1\n",
    "    for i in test_class_indices:\n",
    "        score = np.dot(l2_norm(np.dot(x, W.T)), class_embeddings[i])\n",
    "        if score > max_score:\n",
    "            max_score = score\n",
    "            y_max = i\n",
    "    # foreach label in test_class_indices for i in test_class_indices: \n",
    "        # score =  𝛳(xi) * WT *𝜙(label) \n",
    "        # if score > max_score --> update max_score and ymax\n",
    "        \n",
    "    return y_max"
   ]
  },
  {
   "cell_type": "code",
   "execution_count": 12,
   "metadata": {},
   "outputs": [],
   "source": [
    "def evaluate(X,Y,W):\n",
    "    N = X.shape[0]\n",
    "    Y_test = np.unique(Y, axis=0)\n",
    "\n",
    "    correct_pred = 0\n",
    "    # foreach sample (xi, ytrue)\n",
    "    for i in range(N):\n",
    "        pred_label = predict(X[i], Y_test, W)\n",
    "        # pred_label = predict(xi,test_class_indices,W)\n",
    "        if pred_label == Y[i]:\n",
    "            correct_pred += 1\n",
    "        acc = correct_pred / N\n",
    "        # if pred_label == ytrue:\n",
    "            # correct_pred += 1\n",
    "    # acc = correct_pred / size of test set\n",
    "    \n",
    "    return acc"
   ]
  },
  {
   "cell_type": "code",
   "execution_count": 13,
   "metadata": {},
   "outputs": [
    {
     "name": "stdout",
     "output_type": "stream",
     "text": [
      "(20218, 85)\n",
      "epoch:  0\n",
      "running loss: -449.80546035214286\n",
      "epoch:  1\n",
      "running loss: -512.1371045217775\n",
      "epoch:  2\n",
      "running loss: -565.0919452457666\n",
      "epoch:  3\n",
      "running loss: -612.3440366521853\n",
      "epoch:  4\n",
      "running loss: -653.5339771141836\n",
      "epoch:  5\n",
      "running loss: -687.9722996319962\n",
      "epoch:  6\n",
      "running loss: -720.2364327874731\n",
      "epoch:  7\n",
      "running loss: -751.1044502277916\n",
      "epoch:  8\n",
      "running loss: -781.0078137510255\n",
      "epoch:  9\n",
      "running loss: -810.0876422995375\n"
     ]
    }
   ],
   "source": [
    "LR = 0.001\n",
    "T = 10\n",
    "Y = []\n",
    "for i, label in enumerate(tr_labels):\n",
    "    Y.append(class_embeddings[label])\n",
    "Y = np.array(Y)\n",
    "print(Y.shape)\n",
    "W = train(tr_theta_x, Y, LR, T)"
   ]
  },
  {
   "cell_type": "code",
   "execution_count": null,
   "metadata": {},
   "outputs": [],
   "source": [
    "evaluate(val_theta_x, val_labels, W)"
   ]
  },
  {
   "cell_type": "code",
   "execution_count": null,
   "metadata": {},
   "outputs": [],
   "source": []
  },
  {
   "cell_type": "code",
   "execution_count": null,
   "metadata": {},
   "outputs": [],
   "source": []
  },
  {
   "cell_type": "code",
   "execution_count": null,
   "metadata": {},
   "outputs": [],
   "source": []
  },
  {
   "cell_type": "code",
   "execution_count": null,
   "metadata": {},
   "outputs": [],
   "source": []
  }
 ],
 "metadata": {
  "kernelspec": {
   "display_name": "Python 3",
   "language": "python",
   "name": "python3"
  },
  "language_info": {
   "codemirror_mode": {
    "name": "ipython",
    "version": 3
   },
   "file_extension": ".py",
   "mimetype": "text/x-python",
   "name": "python",
   "nbconvert_exporter": "python",
   "pygments_lexer": "ipython3",
   "version": "3.6.8"
  }
 },
 "nbformat": 4,
 "nbformat_minor": 2
}
