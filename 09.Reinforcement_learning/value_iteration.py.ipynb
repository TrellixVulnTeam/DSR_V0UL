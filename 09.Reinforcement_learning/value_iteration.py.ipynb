{
 "cells": [
  {
   "cell_type": "code",
   "execution_count": 1,
   "metadata": {},
   "outputs": [
    {
     "name": "stdout",
     "output_type": "stream",
     "text": [
      "Requirement already satisfied: gym==0.7.0 in /Users/falkvandermeirsch/miniconda3/lib/python3.6/site-packages (0.7.0)\n",
      "Requirement already satisfied: six in /Users/falkvandermeirsch/miniconda3/lib/python3.6/site-packages (from gym==0.7.0) (1.12.0)\n",
      "Requirement already satisfied: numpy>=1.10.4 in /Users/falkvandermeirsch/miniconda3/lib/python3.6/site-packages (from gym==0.7.0) (1.15.4)\n",
      "Requirement already satisfied: requests>=2.0 in /Users/falkvandermeirsch/miniconda3/lib/python3.6/site-packages (from gym==0.7.0) (2.21.0)\n",
      "Requirement already satisfied: pyglet>=1.2.0 in /Users/falkvandermeirsch/miniconda3/lib/python3.6/site-packages (from gym==0.7.0) (1.3.2)\n",
      "Requirement already satisfied: certifi>=2017.4.17 in /Users/falkvandermeirsch/miniconda3/lib/python3.6/site-packages (from requests>=2.0->gym==0.7.0) (2018.11.29)\n",
      "Requirement already satisfied: chardet<3.1.0,>=3.0.2 in /Users/falkvandermeirsch/miniconda3/lib/python3.6/site-packages (from requests>=2.0->gym==0.7.0) (3.0.4)\n",
      "Requirement already satisfied: urllib3<1.25,>=1.21.1 in /Users/falkvandermeirsch/miniconda3/lib/python3.6/site-packages (from requests>=2.0->gym==0.7.0) (1.24.1)\n",
      "Requirement already satisfied: idna<2.9,>=2.5 in /Users/falkvandermeirsch/miniconda3/lib/python3.6/site-packages (from requests>=2.0->gym==0.7.0) (2.8)\n",
      "Requirement already satisfied: future in /Users/falkvandermeirsch/miniconda3/lib/python3.6/site-packages (from pyglet>=1.2.0->gym==0.7.0) (0.17.1)\n"
     ]
    }
   ],
   "source": [
    "! pip install gym==0.7.0"
   ]
  },
  {
   "cell_type": "code",
   "execution_count": 2,
   "metadata": {},
   "outputs": [],
   "source": [
    "import gym\n",
    "import numpy as np\n",
    "import ipywidgets as widgets\n",
    "from ipywidgets import interact, interact_manual"
   ]
  },
  {
   "cell_type": "code",
   "execution_count": 3,
   "metadata": {},
   "outputs": [],
   "source": [
    "from gym.envs.registration import register\n",
    "register(\n",
    "    id='FrozenLakeNotSlippery-v0',\n",
    "    entry_point='gym.envs.toy_text:FrozenLakeEnv',\n",
    "    kwargs={'map_name' : '4x4', 'is_slippery': False}\n",
    ")"
   ]
  },
  {
   "cell_type": "code",
   "execution_count": 4,
   "metadata": {},
   "outputs": [
    {
     "name": "stderr",
     "output_type": "stream",
     "text": [
      "[2019-02-09 10:53:56,354] Making new env: FrozenLake-v0\n",
      "/Users/falkvandermeirsch/miniconda3/lib/python3.6/site-packages/gym/envs/registration.py:18: PkgResourcesDeprecationWarning: Parameters to load are deprecated.  Call .resolve and .require separately.\n",
      "  result = entry_point.load(False)\n"
     ]
    }
   ],
   "source": [
    "env = gym.make('FrozenLake-v0')\n",
    "#env = gym.make('FrozenLakeNotSlippery-v0')"
   ]
  },
  {
   "cell_type": "code",
   "execution_count": 5,
   "metadata": {},
   "outputs": [
    {
     "data": {
      "text/plain": [
       "gym.envs.toy_text.frozen_lake.FrozenLakeEnv"
      ]
     },
     "execution_count": 5,
     "metadata": {},
     "output_type": "execute_result"
    }
   ],
   "source": [
    "type(env)"
   ]
  },
  {
   "cell_type": "code",
   "execution_count": 6,
   "metadata": {},
   "outputs": [
    {
     "name": "stdout",
     "output_type": "stream",
     "text": [
      "\u001b[41mS\u001b[0mFFF\n",
      "FHFH\n",
      "FFFH\n",
      "HFFG\n",
      "\n"
     ]
    },
    {
     "data": {
      "text/plain": [
       "<ipykernel.iostream.OutStream at 0x108956a58>"
      ]
     },
     "execution_count": 6,
     "metadata": {},
     "output_type": "execute_result"
    }
   ],
   "source": [
    "env.render()"
   ]
  },
  {
   "cell_type": "code",
   "execution_count": 7,
   "metadata": {},
   "outputs": [
    {
     "name": "stdout",
     "output_type": "stream",
     "text": [
      "16\n"
     ]
    }
   ],
   "source": [
    "print(env.observation_space.n)"
   ]
  },
  {
   "cell_type": "code",
   "execution_count": 8,
   "metadata": {},
   "outputs": [
    {
     "data": {
      "text/plain": [
       "4"
      ]
     },
     "execution_count": 8,
     "metadata": {},
     "output_type": "execute_result"
    }
   ],
   "source": [
    "env.action_space.n"
   ]
  },
  {
   "cell_type": "code",
   "execution_count": 9,
   "metadata": {},
   "outputs": [
    {
     "data": {
      "text/plain": [
       "{0: [(0.3333333333333333, 0, 0.0, False),\n",
       "  (0.3333333333333333, 0, 0.0, False),\n",
       "  (0.3333333333333333, 4, 0.0, False)],\n",
       " 1: [(0.3333333333333333, 0, 0.0, False),\n",
       "  (0.3333333333333333, 4, 0.0, False),\n",
       "  (0.3333333333333333, 1, 0.0, False)],\n",
       " 2: [(0.3333333333333333, 4, 0.0, False),\n",
       "  (0.3333333333333333, 1, 0.0, False),\n",
       "  (0.3333333333333333, 0, 0.0, False)],\n",
       " 3: [(0.3333333333333333, 1, 0.0, False),\n",
       "  (0.3333333333333333, 0, 0.0, False),\n",
       "  (0.3333333333333333, 0, 0.0, False)]}"
      ]
     },
     "execution_count": 9,
     "metadata": {},
     "output_type": "execute_result"
    }
   ],
   "source": [
    "env.P[0]"
   ]
  },
  {
   "cell_type": "code",
   "execution_count": 10,
   "metadata": {},
   "outputs": [],
   "source": [
    "def value_iteration(env, gamma=1.0):\n",
    "    # initialize value table with zeros\n",
    "    value_table = np.zeros(env.observation_space.n)\n",
    "    # setting number of iterations and treshold\n",
    "    num_iterations=100000\n",
    "    treshold = 1e-20\n",
    "    \n",
    "    value_history = np.zeros((num_iterations,env.observation_space.n))\n",
    "    \n",
    "    for i in range(num_iterations):\n",
    "        updated_value_table = np.copy(value_table)\n",
    "\n",
    "        for state in range(env.observation_space.n):\n",
    "            Q_value = []\n",
    "            for action in range(env.action_space.n):\n",
    "                next_states_rewards = []\n",
    "                for next_s in env.P[state][action]:\n",
    "                    trans_prob, next_state, reward_prob, _ = next_s\n",
    "                    next_states_rewards.append(\n",
    "                        trans_prob * (reward_prob + gamma * updated_value_table[next_state]))\n",
    "                Q_value.append(np.sum(next_states_rewards))\n",
    "\n",
    "            value_table[state] = max(Q_value)\n",
    "            value_history[i][state] = value_table[state]\n",
    "\n",
    "        if(np.sum(np.fabs(updated_value_table - value_table)) <= treshold):\n",
    "            print(f'Value iteration converging at iteration: {i + 1}')\n",
    "            break\n",
    "    \n",
    "    return value_table, value_history"
   ]
  },
  {
   "cell_type": "code",
   "execution_count": 11,
   "metadata": {},
   "outputs": [
    {
     "name": "stdout",
     "output_type": "stream",
     "text": [
      "Value iteration converging at iteration: 267\n",
      "[[0.0688909  0.06141457 0.07440976 0.05580732]\n",
      " [0.09185454 0.         0.11220821 0.        ]\n",
      " [0.14543635 0.24749695 0.29961759 0.        ]\n",
      " [0.         0.3799359  0.63902015 0.        ]]\n"
     ]
    }
   ],
   "source": [
    "optimal_value_function, value_history = value_iteration(env, gamma=0.9)\n",
    "print(optimal_value_function.reshape(4,4))"
   ]
  },
  {
   "cell_type": "code",
   "execution_count": 31,
   "metadata": {},
   "outputs": [
    {
     "data": {
      "application/vnd.jupyter.widget-view+json": {
       "model_id": "d9db16838aab4618a0c0753f0e097258",
       "version_major": 2,
       "version_minor": 0
      },
      "text/plain": [
       "interactive(children=(IntSlider(value=125, description='i', max=250), Output()), _dom_classes=('widget-interac…"
      ]
     },
     "metadata": {},
     "output_type": "display_data"
    }
   ],
   "source": [
    "from ipywidgets import interact\n",
    "import matplotlib.pyplot as plt\n",
    "from itertools import product\n",
    "\n",
    "@interact\n",
    "def view_image(i= (0,250)):\n",
    "    plt.clf()\n",
    "    x = range(4)\n",
    "    y = range(4)\n",
    "    for a,b in product(x, y): \n",
    "        plt.text(a, b, f'{np.transpose(value_history[i].reshape(4,4))[a][b]:.2f}',)\n",
    "    plt.imshow(value_history[i].reshape(4,4)+1e-10, cmap='winter')\n",
    "    plt.show()"
   ]
  },
  {
   "cell_type": "code",
   "execution_count": 14,
   "metadata": {},
   "outputs": [],
   "source": [
    "def extract_policy(env, value_table, gamma=1.0):\n",
    "    # initializing the policy table\n",
    "    policy = np.zeros(env.observation_space.n)\n",
    "    \n",
    "    for state in range(env.observation_space.n):\n",
    "        # initizalizing the Q_table for each state\n",
    "        Q_table = np.zeros(env.action_space.n)\n",
    "        \n",
    "        # compute Q value for each action of the state\n",
    "        for action in range(env.action_space.n):\n",
    "            for next_s in env.P[state][action]:\n",
    "                trans_prob, next_state, reward_prob, _ = next_s\n",
    "                Q_table[action] += (trans_prob \n",
    "                    * (reward_prob + gamma * value_table[next_state]))\n",
    "            \n",
    "        # select the action that has the maximum Q-value for finding the optimal policy\n",
    "        policy[state] = np.argmax(Q_table)\n",
    "            \n",
    "    return policy"
   ]
  },
  {
   "cell_type": "code",
   "execution_count": 15,
   "metadata": {},
   "outputs": [
    {
     "data": {
      "text/plain": [
       "array([0., 3., 0., 3., 0., 0., 0., 0., 3., 1., 0., 0., 0., 2., 1., 0.])"
      ]
     },
     "execution_count": 15,
     "metadata": {},
     "output_type": "execute_result"
    }
   ],
   "source": [
    "policy = extract_policy(env, optimal_value_function, gamma=0.9)\n",
    "policy"
   ]
  },
  {
   "cell_type": "code",
   "execution_count": 16,
   "metadata": {},
   "outputs": [
    {
     "data": {
      "text/plain": [
       "array([['←', '↑', '←', '↑'],\n",
       "       ['←', '←', '←', '←'],\n",
       "       ['↑', '↓', '←', '←'],\n",
       "       ['←', '→', '↓', '←']], dtype='<U1')"
      ]
     },
     "execution_count": 16,
     "metadata": {},
     "output_type": "execute_result"
    }
   ],
   "source": [
    "d = {\n",
    "    0: \"←\",\n",
    "    1: \"↓\",\n",
    "    2: \"→\",\n",
    "    3: \"↑\",\n",
    "}\n",
    "\n",
    "arrows = []\n",
    "for action in policy:\n",
    "    arrows.append(d[action])\n",
    "\n",
    "np.array(arrows).reshape(4,4)"
   ]
  },
  {
   "cell_type": "code",
   "execution_count": 17,
   "metadata": {},
   "outputs": [
    {
     "data": {
      "text/html": [
       "<div>\n",
       "<style scoped>\n",
       "    .dataframe tbody tr th:only-of-type {\n",
       "        vertical-align: middle;\n",
       "    }\n",
       "\n",
       "    .dataframe tbody tr th {\n",
       "        vertical-align: top;\n",
       "    }\n",
       "\n",
       "    .dataframe thead th {\n",
       "        text-align: right;\n",
       "    }\n",
       "</style>\n",
       "<table border=\"1\" class=\"dataframe\">\n",
       "  <thead>\n",
       "    <tr style=\"text-align: right;\">\n",
       "      <th></th>\n",
       "      <th>0</th>\n",
       "      <th>1</th>\n",
       "      <th>2</th>\n",
       "      <th>3</th>\n",
       "    </tr>\n",
       "  </thead>\n",
       "  <tbody>\n",
       "    <tr>\n",
       "      <th>0</th>\n",
       "      <td>←</td>\n",
       "      <td>↑</td>\n",
       "      <td>←</td>\n",
       "      <td>↑</td>\n",
       "    </tr>\n",
       "    <tr>\n",
       "      <th>1</th>\n",
       "      <td>←</td>\n",
       "      <td>←</td>\n",
       "      <td>←</td>\n",
       "      <td>←</td>\n",
       "    </tr>\n",
       "    <tr>\n",
       "      <th>2</th>\n",
       "      <td>↑</td>\n",
       "      <td>↓</td>\n",
       "      <td>←</td>\n",
       "      <td>←</td>\n",
       "    </tr>\n",
       "    <tr>\n",
       "      <th>3</th>\n",
       "      <td>←</td>\n",
       "      <td>→</td>\n",
       "      <td>↓</td>\n",
       "      <td>←</td>\n",
       "    </tr>\n",
       "  </tbody>\n",
       "</table>\n",
       "</div>"
      ],
      "text/plain": [
       "   0  1  2  3\n",
       "0  ←  ↑  ←  ↑\n",
       "1  ←  ←  ←  ←\n",
       "2  ↑  ↓  ←  ←\n",
       "3  ←  →  ↓  ←"
      ]
     },
     "execution_count": 17,
     "metadata": {},
     "output_type": "execute_result"
    }
   ],
   "source": [
    "import pandas as pd\n",
    "pd.DataFrame(np.array(arrows).reshape(4,4))"
   ]
  }
 ],
 "metadata": {
  "kernelspec": {
   "display_name": "Python 3",
   "language": "python",
   "name": "python3"
  },
  "language_info": {
   "codemirror_mode": {
    "name": "ipython",
    "version": 3
   },
   "file_extension": ".py",
   "mimetype": "text/x-python",
   "name": "python",
   "nbconvert_exporter": "python",
   "pygments_lexer": "ipython3",
   "version": "3.6.8"
  }
 },
 "nbformat": 4,
 "nbformat_minor": 2
}
