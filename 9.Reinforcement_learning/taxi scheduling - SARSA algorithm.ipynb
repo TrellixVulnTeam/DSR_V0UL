{
 "cells": [
  {
   "cell_type": "code",
   "execution_count": 1,
   "metadata": {},
   "outputs": [],
   "source": [
    "import random\n",
    "import numpy as np\n",
    "import gym\n"
   ]
  },
  {
   "cell_type": "code",
   "execution_count": 2,
   "metadata": {},
   "outputs": [
    {
     "name": "stderr",
     "output_type": "stream",
     "text": [
      "[2019-02-09 15:16:40,459] Making new env: Taxi-v1\n",
      "/Users/falkvandermeirsch/miniconda3/lib/python3.6/site-packages/gym/envs/registration.py:18: PkgResourcesDeprecationWarning: Parameters to load are deprecated.  Call .resolve and .require separately.\n",
      "  result = entry_point.load(False)\n"
     ]
    }
   ],
   "source": [
    "env = gym.make('Taxi-v1')"
   ]
  },
  {
   "cell_type": "code",
   "execution_count": 3,
   "metadata": {},
   "outputs": [
    {
     "name": "stdout",
     "output_type": "stream",
     "text": [
      "+---------+\n",
      "|R: | : :\u001b[34;1mG\u001b[0m|\n",
      "| : : : : |\n",
      "|\u001b[43m \u001b[0m: : : : |\n",
      "| | : | : |\n",
      "|\u001b[35mY\u001b[0m| : |B: |\n",
      "+---------+\n",
      "\n"
     ]
    }
   ],
   "source": [
    "env.render()"
   ]
  },
  {
   "cell_type": "code",
   "execution_count": 4,
   "metadata": {},
   "outputs": [],
   "source": [
    "# initialize the Q_table\n",
    "q = {}\n",
    "for s in range(env.observation_space.n):\n",
    "    for a in range(env.action_space.n):\n",
    "        q[(s,a)] = 0.0"
   ]
  },
  {
   "cell_type": "code",
   "execution_count": 5,
   "metadata": {},
   "outputs": [],
   "source": [
    "def epsilon_greedy(state, epsilon):\n",
    "    if random.uniform(0,1) < epsilon:\n",
    "        return env.action_space.sample()\n",
    "    else:\n",
    "        return max(list(range(env.action_space.n)), key = lambda x: q[(state, x)])"
   ]
  },
  {
   "cell_type": "code",
   "execution_count": 6,
   "metadata": {},
   "outputs": [
    {
     "data": {
      "text/plain": [
       "Discrete(6)"
      ]
     },
     "execution_count": 6,
     "metadata": {},
     "output_type": "execute_result"
    }
   ],
   "source": [
    "env.action_space"
   ]
  },
  {
   "cell_type": "markdown",
   "metadata": {},
   "source": [
    "parameters of the SARA algorithm"
   ]
  },
  {
   "cell_type": "code",
   "execution_count": 7,
   "metadata": {},
   "outputs": [],
   "source": [
    "alpha = 0.8\n",
    "gamma = 0.9\n",
    "epsilon = 0.05\n",
    "decay_steps = 1000\n",
    "decay_rate = 0.1"
   ]
  },
  {
   "cell_type": "markdown",
   "metadata": {},
   "source": [
    "SARSA algorithm"
   ]
  },
  {
   "cell_type": "code",
   "execution_count": 8,
   "metadata": {},
   "outputs": [
    {
     "name": "stdout",
     "output_type": "stream",
     "text": [
      "new epsilon: 0.045000000000000005\n",
      "episode 0: total reward: -294\n",
      "new epsilon: 0.04050000000000001\n",
      "episode 1000: total reward: 9\n",
      "new epsilon: 0.03645000000000001\n",
      "episode 2000: total reward: 18\n",
      "new epsilon: 0.03280500000000001\n",
      "episode 3000: total reward: 14\n",
      "new epsilon: 0.02952450000000001\n",
      "episode 4000: total reward: 14\n",
      "new epsilon: 0.02657205000000001\n",
      "episode 5000: total reward: -1\n",
      "new epsilon: 0.02391484500000001\n",
      "episode 6000: total reward: 8\n",
      "new epsilon: 0.021523360500000012\n",
      "episode 7000: total reward: 14\n",
      "new epsilon: 0.01937102445000001\n",
      "episode 8000: total reward: 17\n",
      "new epsilon: 0.01743392200500001\n",
      "episode 9000: total reward: 14\n",
      "new epsilon: 0.015690529804500006\n",
      "episode 10000: total reward: 6\n",
      "new epsilon: 0.014121476824050006\n",
      "episode 11000: total reward: 6\n",
      "new epsilon: 0.012709329141645007\n",
      "episode 12000: total reward: 6\n",
      "new epsilon: 0.011438396227480507\n",
      "episode 13000: total reward: 6\n",
      "new epsilon: 0.010294556604732457\n",
      "episode 14000: total reward: 4\n",
      "new epsilon: 0.00926510094425921\n",
      "episode 15000: total reward: 6\n",
      "new epsilon: 0.00833859084983329\n",
      "episode 16000: total reward: 5\n",
      "new epsilon: 0.007504731764849962\n",
      "episode 17000: total reward: 13\n",
      "new epsilon: 0.006754258588364966\n",
      "episode 18000: total reward: 6\n",
      "new epsilon: 0.00607883272952847\n",
      "episode 19000: total reward: 5\n",
      "new epsilon: 0.005470949456575623\n",
      "episode 20000: total reward: 18\n",
      "new epsilon: 0.0049238545109180605\n",
      "episode 21000: total reward: 7\n",
      "new epsilon: 0.004431469059826255\n",
      "episode 22000: total reward: 7\n",
      "new epsilon: 0.0039883221538436296\n",
      "episode 23000: total reward: 10\n",
      "new epsilon: 0.003589489938459267\n",
      "episode 24000: total reward: 9\n",
      "new epsilon: 0.0032305409446133403\n",
      "episode 25000: total reward: 15\n",
      "new epsilon: 0.0029074868501520064\n",
      "episode 26000: total reward: 9\n",
      "new epsilon: 0.0026167381651368057\n",
      "episode 27000: total reward: 6\n",
      "new epsilon: 0.002355064348623125\n",
      "episode 28000: total reward: 5\n",
      "new epsilon: 0.002119557913760813\n",
      "episode 29000: total reward: 11\n",
      "new epsilon: 0.0019076021223847317\n",
      "episode 30000: total reward: 17\n",
      "new epsilon: 0.0017168419101462585\n",
      "episode 31000: total reward: 15\n",
      "new epsilon: 0.0015451577191316326\n",
      "episode 32000: total reward: 7\n",
      "new epsilon: 0.0013906419472184694\n",
      "episode 33000: total reward: 5\n",
      "new epsilon: 0.0012515777524966226\n",
      "episode 34000: total reward: 12\n",
      "new epsilon: 0.0011264199772469603\n",
      "episode 35000: total reward: 3\n",
      "new epsilon: 0.0010137779795222643\n",
      "episode 36000: total reward: 9\n",
      "new epsilon: 0.0009124001815700379\n",
      "episode 37000: total reward: 4\n",
      "new epsilon: 0.0008211601634130341\n",
      "episode 38000: total reward: 16\n",
      "new epsilon: 0.0007390441470717307\n",
      "episode 39000: total reward: 7\n",
      "new epsilon: 0.0006651397323645576\n",
      "episode 40000: total reward: 14\n",
      "new epsilon: 0.0005986257591281018\n",
      "episode 41000: total reward: 19\n",
      "new epsilon: 0.0005387631832152916\n",
      "episode 42000: total reward: 3\n",
      "new epsilon: 0.0004848868648937625\n",
      "episode 43000: total reward: 5\n",
      "new epsilon: 0.0004363981784043862\n",
      "episode 44000: total reward: 13\n",
      "new epsilon: 0.0003927583605639476\n",
      "episode 45000: total reward: 4\n",
      "new epsilon: 0.00035348252450755286\n",
      "episode 46000: total reward: 7\n",
      "new epsilon: 0.0003181342720567976\n",
      "episode 47000: total reward: 8\n",
      "new epsilon: 0.00028632084485111784\n",
      "episode 48000: total reward: 12\n",
      "new epsilon: 0.00025768876036600606\n",
      "episode 49000: total reward: 1\n"
     ]
    }
   ],
   "source": [
    "reward_episodes = []\n",
    "for i in range(50_000):\n",
    "    # we store the cumulative reward r\n",
    "    r = 0\n",
    "    # initialize a state\n",
    "    state = env.reset()\n",
    "    \n",
    "    if i % decay_steps == 0:\n",
    "        epsilon = epsilon * (1 - decay_rate)\n",
    "        print(f'new epsilon: {epsilon}')\n",
    "    \n",
    "    # select action according to the epsilon_greedy policy\n",
    "    action = epsilon_greedy(state, epsilon)\n",
    "    \n",
    "    while True:\n",
    "        # one-step look-ahead\n",
    "        next_state, reward, done, _ = env.step(action)\n",
    "        \n",
    "        # again we select the next action using epsilon greedy policy\n",
    "        next_action = epsilon_greedy(next_state, epsilon)\n",
    "        \n",
    "        # update our Q_value with the SARSA update rule\n",
    "        q[(state, action)] += alpha * (reward + gamma * q[(next_state, next_action)] \n",
    "            - q[(state, action)])\n",
    "        \n",
    "        # finally we update our state and action with the next action and the next state\n",
    "        action = next_action\n",
    "        state = next_state\n",
    "        \n",
    "        # store the rewards\n",
    "        r += reward\n",
    "        \n",
    "        # we will break the loop when the agent is at the terminal state of the episode\n",
    "        if done: \n",
    "            break\n",
    "\n",
    "    if (i % 1000) == 0:\n",
    "        print(f'episode {i}: total reward: {r}')\n",
    "    reward_episodes.append(r)"
   ]
  },
  {
   "cell_type": "code",
   "execution_count": 9,
   "metadata": {},
   "outputs": [],
   "source": [
    "import matplotlib.pyplot as plt\n"
   ]
  },
  {
   "cell_type": "code",
   "execution_count": 16,
   "metadata": {},
   "outputs": [
    {
     "data": {
      "text/plain": [
       "[<matplotlib.lines.Line2D at 0x127210588>]"
      ]
     },
     "execution_count": 16,
     "metadata": {},
     "output_type": "execute_result"
    },
    {
     "data": {
      "image/png": "[encoded data removed]",
      "text/plain": [
       "<Figure size 864x576 with 1 Axes>"
      ]
     },
     "metadata": {
      "needs_background": "light"
     },
     "output_type": "display_data"
    }
   ],
   "source": [
    "fig = plt.figure(figsize=(12,8))\n",
    "plt.plot(reward_episodes)"
   ]
  },
  {
   "cell_type": "code",
   "execution_count": 11,
   "metadata": {},
   "outputs": [],
   "source": [
    "def moving_average(a, n=3) :\n",
    "    ret = np.cumsum(a, dtype=float)\n",
    "    ret[n:] = ret[n:] - ret[:-n]\n",
    "    return ret[n - 1:] / n"
   ]
  },
  {
   "cell_type": "code",
   "execution_count": 18,
   "metadata": {},
   "outputs": [
    {
     "data": {
      "text/plain": [
       "[<matplotlib.lines.Line2D at 0x127c57390>]"
      ]
     },
     "execution_count": 18,
     "metadata": {},
     "output_type": "execute_result"
    },
    {
     "data": {
      "image/png": "[encoded data removed]",
      "text/plain": [
       "<Figure size 864x576 with 1 Axes>"
      ]
     },
     "metadata": {
      "needs_background": "light"
     },
     "output_type": "display_data"
    }
   ],
   "source": [
    "rew_avg = moving_average(reward_episodes, n=5000)\n",
    "fig = plt.figure(figsize=(12,8))\n",
    "plt.plot(rew_avg)"
   ]
  }
 ],
 "metadata": {
  "kernelspec": {
   "display_name": "Python 3",
   "language": "python",
   "name": "python3"
  },
  "language_info": {
   "codemirror_mode": {
    "name": "ipython",
    "version": 3
   },
   "file_extension": ".py",
   "mimetype": "text/x-python",
   "name": "python",
   "nbconvert_exporter": "python",
   "pygments_lexer": "ipython3",
   "version": "3.6.8"
  }
 },
 "nbformat": 4,
 "nbformat_minor": 2
}
