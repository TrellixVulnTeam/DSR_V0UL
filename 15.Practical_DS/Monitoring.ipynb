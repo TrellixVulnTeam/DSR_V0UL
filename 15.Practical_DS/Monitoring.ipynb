{
 "cells": [
  {
   "cell_type": "code",
   "execution_count": 22,
   "metadata": {},
   "outputs": [],
   "source": [
    "import pandas as pd\n",
    "import json\n",
    "\n",
    "log = pd.read_csv('Practical-Aspects-of-DS-Day2.log', sep=';', names=['datetime', 'value'])"
   ]
  },
  {
   "cell_type": "code",
   "execution_count": 28,
   "metadata": {},
   "outputs": [
    {
     "name": "stdout",
     "output_type": "stream",
     "text": [
      "alert:  2018-04-07 10:43:57.184882\n",
      "alert:  2018-04-07 10:43:57.197487\n",
      "alert:  2018-04-07 10:43:57.210142\n",
      "alert:  2018-04-07 10:43:57.222791\n",
      "alert:  2018-04-07 10:43:57.235442\n",
      "alert:  2018-04-07 10:43:57.248154\n",
      "alert:  2018-04-07 10:43:57.260764\n",
      "alert:  2018-04-07 10:43:57.271528\n",
      "alert:  2018-04-07 10:43:57.284307\n",
      "alert:  2018-04-07 10:43:57.296796\n",
      "alert:  2018-04-07 10:43:57.309515\n",
      "alert:  2018-04-07 10:43:57.322099\n",
      "alert:  2018-04-07 10:43:57.333166\n",
      "alert:  2018-04-07 10:43:57.345992\n",
      "alert:  2018-04-07 10:43:57.358881\n",
      "alert:  2018-04-07 10:43:57.371659\n",
      "alert:  2018-04-07 10:43:57.383214\n",
      "alert:  2018-04-07 10:43:57.395998\n",
      "alert:  2018-04-07 10:43:57.408771\n",
      "alert:  2018-04-07 10:43:57.421533\n",
      "alert:  2018-04-07 10:43:57.434312\n",
      "alert:  2018-04-07 10:43:57.447093\n",
      "alert:  2018-04-07 10:43:57.459874\n",
      "alert:  2018-04-07 10:43:57.472807\n",
      "alert:  2018-04-07 10:43:57.483259\n",
      "alert:  2018-04-07 10:43:57.496023\n",
      "alert:  2018-04-07 10:43:57.508803\n",
      "alert:  2018-04-07 10:43:57.521589\n",
      "alert:  2018-04-07 10:43:57.534448\n",
      "alert:  2018-04-07 10:43:57.547335\n",
      "alert:  2018-04-07 10:43:57.560136\n",
      "alert:  2018-04-07 10:43:57.572576\n",
      "alert:  2018-04-07 10:43:57.583414\n",
      "alert:  2018-04-07 10:43:57.596168\n",
      "alert:  2018-04-07 10:43:57.608950\n",
      "alert:  2018-04-07 10:43:57.619970\n",
      "alert:  2018-04-07 10:43:57.632853\n",
      "alert:  2018-04-07 10:43:57.645615\n",
      "alert:  2018-04-07 10:43:57.658391\n",
      "alert:  2018-04-07 10:43:57.671213\n",
      "alert:  2018-04-07 10:43:57.684030\n",
      "alert:  2018-04-07 10:43:57.696790\n",
      "alert:  2018-04-07 10:43:57.709579\n",
      "alert:  2018-04-07 10:43:57.721210\n",
      "alert:  2018-04-07 10:43:57.733991\n",
      "alert:  2018-04-07 10:43:57.745063\n",
      "alert:  2018-04-07 10:43:57.757903\n",
      "alert:  2018-04-07 10:43:57.770731\n",
      "alert:  2018-04-07 10:43:57.783480\n",
      "alert:  2018-04-07 10:43:57.796270\n",
      "alert:  2018-04-07 10:43:57.809098\n",
      "alert:  2018-04-07 10:43:57.821409\n",
      "alert:  2018-04-07 10:43:57.834183\n",
      "alert:  2018-04-07 10:43:57.846964\n",
      "alert:  2018-04-07 10:43:57.859719\n",
      "alert:  2018-04-07 10:43:57.871450\n",
      "alert:  2018-04-07 10:43:57.884259\n",
      "alert:  2018-04-07 10:43:57.894640\n",
      "alert:  2018-04-07 10:43:57.907452\n",
      "alert:  2018-04-07 10:43:57.920217\n",
      "alert:  2018-04-07 10:43:57.932992\n",
      "alert:  2018-04-07 10:43:57.945773\n",
      "alert:  2018-04-07 10:43:57.958544\n",
      "alert:  2018-04-07 10:43:57.971175\n",
      "alert:  2018-04-07 10:43:57.983795\n"
     ]
    }
   ],
   "source": [
    "for i, row in log.iterrows():\n",
    "    if i > 100:\n",
    "        mean_l = log['value'].iloc[i-100:i].mean()\n",
    "        mean_s = log['value'].iloc[i-20:i].mean()\n",
    "        if abs(mean_l - mean_s) > 0.7 * mean_l:\n",
    "            print(\"alert: \", row['datetime'])"
   ]
  },
  {
   "cell_type": "code",
   "execution_count": 16,
   "metadata": {},
   "outputs": [],
   "source": [
    "from datetime import datetime\n",
    "log['datetime'] = log['datetime'].apply(lambda x: datetime.strptime(x, '%Y-%m-%d %H:%M:%S.%f'))"
   ]
  },
  {
   "cell_type": "code",
   "execution_count": 18,
   "metadata": {},
   "outputs": [
    {
     "data": {
      "image/png": "[encoded data removed]",
      "text/plain": [
       "<Figure size 432x288 with 1 Axes>"
      ]
     },
     "metadata": {
      "needs_background": "light"
     },
     "output_type": "display_data"
    }
   ],
   "source": [
    "import matplotlib.pyplot as plt\n",
    "plt.plot(log['datetime'], log['value'])\n",
    "plt.gcf().autofmt_xdate()\n",
    "plt.show()"
   ]
  },
  {
   "cell_type": "code",
   "execution_count": null,
   "metadata": {},
   "outputs": [],
   "source": []
  }
 ],
 "metadata": {
  "kernelspec": {
   "display_name": "Python 3",
   "language": "python",
   "name": "python3"
  },
  "language_info": {
   "codemirror_mode": {
    "name": "ipython",
    "version": 3
   },
   "file_extension": ".py",
   "mimetype": "text/x-python",
   "name": "python",
   "nbconvert_exporter": "python",
   "pygments_lexer": "ipython3",
   "version": "3.7.0"
  }
 },
 "nbformat": 4,
 "nbformat_minor": 2
}
