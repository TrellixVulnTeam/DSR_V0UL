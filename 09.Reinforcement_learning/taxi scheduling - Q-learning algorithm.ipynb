{
 "cells": [
  {
   "cell_type": "code",
   "execution_count": 1,
   "metadata": {},
   "outputs": [],
   "source": [
    "import random\n",
    "import numpy as np\n",
    "import gym\n"
   ]
  },
  {
   "cell_type": "code",
   "execution_count": 2,
   "metadata": {},
   "outputs": [
    {
     "name": "stderr",
     "output_type": "stream",
     "text": [
      "[2019-02-09 15:51:33,997] Making new env: Taxi-v1\n",
      "/Users/falkvandermeirsch/miniconda3/lib/python3.6/site-packages/gym/envs/registration.py:18: PkgResourcesDeprecationWarning: Parameters to load are deprecated.  Call .resolve and .require separately.\n",
      "  result = entry_point.load(False)\n"
     ]
    }
   ],
   "source": [
    "env = gym.make('Taxi-v1')"
   ]
  },
  {
   "cell_type": "code",
   "execution_count": 3,
   "metadata": {},
   "outputs": [
    {
     "name": "stdout",
     "output_type": "stream",
     "text": [
      "+---------+\n",
      "|R: | : :\u001b[34;1mG\u001b[0m|\n",
      "| : : : : |\n",
      "| : : : : |\n",
      "| |\u001b[43m \u001b[0m: | : |\n",
      "|Y| : |\u001b[35mB\u001b[0m: |\n",
      "+---------+\n",
      "\n"
     ]
    }
   ],
   "source": [
    "env.render()"
   ]
  },
  {
   "cell_type": "code",
   "execution_count": 4,
   "metadata": {},
   "outputs": [],
   "source": [
    "# initialize the Q_table\n",
    "q = {}\n",
    "for s in range(env.observation_space.n):\n",
    "    for a in range(env.action_space.n):\n",
    "        q[(s,a)] = 0.0"
   ]
  },
  {
   "cell_type": "code",
   "execution_count": 5,
   "metadata": {},
   "outputs": [],
   "source": [
    "def epsilon_greedy(state, epsilon):\n",
    "    if random.uniform(0,1) < epsilon:\n",
    "        return env.action_space.sample()\n",
    "    else:\n",
    "        return max(list(range(env.action_space.n)), key = lambda x: q[(state, x)])"
   ]
  },
  {
   "cell_type": "code",
   "execution_count": 6,
   "metadata": {},
   "outputs": [],
   "source": [
    "def update_q_table(prev_state, action, reward, next_state, alpha, gamma):\n",
    "    qa = max(q[(next_state, a)] for a in range(env.action_space.n))\n",
    "    q[(prev_state, action)] += alpha * (reward + gamma * qa - q[(prev_state, action)])\n"
   ]
  },
  {
   "cell_type": "code",
   "execution_count": 7,
   "metadata": {},
   "outputs": [],
   "source": [
    "alpha = 0.8\n",
    "gamma = 0.9\n",
    "epsilon = 0.05\n",
    "decay_steps = 1000\n",
    "decay_rate = 0.1\n",
    "n_iterations = 50_000"
   ]
  },
  {
   "cell_type": "markdown",
   "metadata": {},
   "source": [
    "Q-learning algorithm"
   ]
  },
  {
   "cell_type": "code",
   "execution_count": 10,
   "metadata": {},
   "outputs": [
    {
     "name": "stdout",
     "output_type": "stream",
     "text": [
      "episode 0 - reward: -1130\n",
      "episode 1000 - reward: 16\n",
      "episode 2000 - reward: 8\n",
      "episode 3000 - reward: 9\n",
      "episode 4000 - reward: 5\n",
      "episode 5000 - reward: 6\n",
      "episode 6000 - reward: 8\n",
      "episode 7000 - reward: 14\n",
      "episode 8000 - reward: 9\n",
      "episode 9000 - reward: 11\n",
      "episode 10000 - reward: 9\n",
      "episode 11000 - reward: 8\n",
      "episode 12000 - reward: 13\n",
      "episode 13000 - reward: 7\n",
      "episode 14000 - reward: 12\n",
      "episode 15000 - reward: 7\n",
      "episode 16000 - reward: 8\n",
      "episode 17000 - reward: 9\n",
      "episode 18000 - reward: 16\n",
      "episode 19000 - reward: 8\n",
      "episode 20000 - reward: 9\n",
      "episode 21000 - reward: 9\n",
      "episode 22000 - reward: 9\n",
      "episode 23000 - reward: 17\n",
      "episode 24000 - reward: 9\n",
      "episode 25000 - reward: 8\n",
      "episode 26000 - reward: 9\n",
      "episode 27000 - reward: 10\n",
      "episode 28000 - reward: 13\n",
      "episode 29000 - reward: 8\n",
      "episode 30000 - reward: 15\n",
      "episode 31000 - reward: 6\n",
      "episode 32000 - reward: 10\n",
      "episode 33000 - reward: 8\n",
      "episode 34000 - reward: 7\n",
      "episode 35000 - reward: 14\n",
      "episode 36000 - reward: 6\n",
      "episode 37000 - reward: 7\n",
      "episode 38000 - reward: 8\n",
      "episode 39000 - reward: 12\n",
      "episode 40000 - reward: 9\n",
      "episode 41000 - reward: 7\n",
      "episode 42000 - reward: 10\n",
      "episode 43000 - reward: 9\n",
      "episode 44000 - reward: 11\n",
      "episode 45000 - reward: 11\n",
      "episode 46000 - reward: 19\n",
      "episode 47000 - reward: 7\n",
      "episode 48000 - reward: 11\n",
      "episode 49000 - reward: 8\n"
     ]
    }
   ],
   "source": [
    "reward_episodes = []\n",
    "q = {}\n",
    "for s in range(env.observation_space.n):\n",
    "    for a in range(env.action_space.n):\n",
    "        q[(s,a)] = 0.0\n",
    "\n",
    "for i in range(n_iterations):\n",
    "    r = 0\n",
    "    prev_state = env.reset()\n",
    "    \n",
    "    while True:\n",
    "        #env.render()\n",
    "        \n",
    "        # decaying epsilon\n",
    "        if i % decay_steps == 0:\n",
    "            epsilon *= (1 - decay_rate)\n",
    "        \n",
    "        # in each state we perform the action according to the epsilon greedy policy\n",
    "        action = epsilon_greedy(prev_state, epsilon)\n",
    "        \n",
    "        # then we perform the transition to the next time step\n",
    "        next_state, reward, done, _ = env.step(action)\n",
    "        \n",
    "        # update the Q_value using the updated_q_function\n",
    "        # with the Q_learning rule\n",
    "        update_q_table(prev_state, action, reward, next_state, alpha, gamma)\n",
    "        \n",
    "        # finally we update the previous state as next state\n",
    "        prev_state = next_state\n",
    "        \n",
    "        # store all the rewards obtained\n",
    "        r += reward\n",
    "        \n",
    "        # breaking the loop if reaching the terminal state\n",
    "        if done:\n",
    "            break\n",
    "    \n",
    "    if i % 1000 == 0:\n",
    "        print(f'episode {i} - reward: {r}')\n",
    "    reward_episodes.append(r)\n",
    "\n",
    "env.close()"
   ]
  },
  {
   "cell_type": "code",
   "execution_count": 13,
   "metadata": {},
   "outputs": [
    {
     "data": {
      "text/plain": [
       "[<matplotlib.lines.Line2D at 0x1214db320>]"
      ]
     },
     "execution_count": 13,
     "metadata": {},
     "output_type": "execute_result"
    },
    {
     "data": {
      "image/png": "[encoded data removed]",
      "text/plain": [
       "<Figure size 864x576 with 1 Axes>"
      ]
     },
     "metadata": {
      "needs_background": "light"
     },
     "output_type": "display_data"
    }
   ],
   "source": [
    "import matplotlib.pyplot as plt\n",
    "\n",
    "fig = plt.figure(figsize=(12,8))\n",
    "plt.plot(reward_episodes)"
   ]
  },
  {
   "cell_type": "code",
   "execution_count": 12,
   "metadata": {},
   "outputs": [
    {
     "data": {
      "text/plain": [
       "[<matplotlib.lines.Line2D at 0x120fb7438>]"
      ]
     },
     "execution_count": 12,
     "metadata": {},
     "output_type": "execute_result"
    },
    {
     "data": {
      "image/png": "[encoded data removed]",
      "text/plain": [
       "<Figure size 864x576 with 1 Axes>"
      ]
     },
     "metadata": {
      "needs_background": "light"
     },
     "output_type": "display_data"
    }
   ],
   "source": [
    "def moving_average(a, n=3) :\n",
    "    ret = np.cumsum(a, dtype=float)\n",
    "    ret[n:] = ret[n:] - ret[:-n]\n",
    "    return ret[n - 1:] / n\n",
    "\n",
    "rew_avg = moving_average(reward_episodes, n=5000)\n",
    "fig = plt.figure(figsize=(12,8))\n",
    "plt.plot(rew_avg)"
   ]
  }
 ],
 "metadata": {
  "kernelspec": {
   "display_name": "Python 3",
   "language": "python",
   "name": "python3"
  },
  "language_info": {
   "codemirror_mode": {
    "name": "ipython",
    "version": 3
   },
   "file_extension": ".py",
   "mimetype": "text/x-python",
   "name": "python",
   "nbconvert_exporter": "python",
   "pygments_lexer": "ipython3",
   "version": "3.6.8"
  }
 },
 "nbformat": 4,
 "nbformat_minor": 2
}
