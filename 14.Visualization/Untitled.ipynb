{
 "cells": [
  {
   "cell_type": "code",
   "execution_count": 2,
   "metadata": {},
   "outputs": [],
   "source": [
    "import matplotlib.pyplot as plt"
   ]
  },
  {
   "cell_type": "code",
   "execution_count": 5,
   "metadata": {},
   "outputs": [
    {
     "data": {
      "text/html": [
       "<script type=\"text/javascript\">window.PlotlyConfig = {MathJaxConfig: 'local'};</script><script type=\"text/javascript\">if (window.MathJax) {MathJax.Hub.Config({SVG: {font: \"STIX-Web\"}});}</script><script>requirejs.config({paths: { 'plotly': ['https://cdn.plot.ly/plotly-latest.min']},});if(!window._Plotly) {require(['plotly'],function(plotly) {window._Plotly=plotly;});}</script>"
      ],
      "text/vnd.plotly.v1+html": [
       "<script type=\"text/javascript\">window.PlotlyConfig = {MathJaxConfig: 'local'};</script><script type=\"text/javascript\">if (window.MathJax) {MathJax.Hub.Config({SVG: {font: \"STIX-Web\"}});}</script><script>requirejs.config({paths: { 'plotly': ['https://cdn.plot.ly/plotly-latest.min']},});if(!window._Plotly) {require(['plotly'],function(plotly) {window._Plotly=plotly;});}</script>"
      ]
     },
     "metadata": {},
     "output_type": "display_data"
    }
   ],
   "source": [
    "import plotly as py\n",
    "import plotly.graph_objs as go\n",
    "import plotly.tools as tls\n",
    "\n",
    "py.offline.init_notebook_mode(connected=True) # not needed in jupyter lab, only in notebook"
   ]
  },
  {
   "cell_type": "code",
   "execution_count": 6,
   "metadata": {},
   "outputs": [
    {
     "data": {
      "text/plain": [
       "Text(0.5, 1.0, 'example')"
      ]
     },
     "execution_count": 6,
     "metadata": {},
     "output_type": "execute_result"
    },
    {
     "data": {
      "image/png": "[encoded data removed]",
      "text/plain": [
       "<Figure size 432x288 with 1 Axes>"
      ]
     },
     "metadata": {
      "needs_background": "light"
     },
     "output_type": "display_data"
    }
   ],
   "source": [
    "fig, ax = plt.subplots()\n",
    "ax.scatter([1,2,3,4,5], [5,3,4,2,5])\n",
    "ax.set_title('example')"
   ]
  },
  {
   "cell_type": "code",
   "execution_count": 8,
   "metadata": {},
   "outputs": [
    {
     "data": {
      "application/vnd.plotly.v1+json": {
       "config": {
        "linkText": "Export to plot.ly",
        "plotlyServerURL": "https://plot.ly",
        "showLink": false
       },
       "data": [
        {
         "marker": {
          "color": "rgba(31,119,180,1.0)",
          "line": {
           "color": "rgba(31,119,180,1.0)",
           "width": 1
          },
          "size": 6,
          "symbol": "circle"
         },
         "mode": "markers",
         "type": "scatter",
         "uid": "20132605-025b-4774-ab1a-817bb49537db",
         "x": [
          1,
          2,
          3,
          4,
          5
         ],
         "xaxis": "x",
         "y": [
          5,
          3,
          4,
          2,
          5
         ],
         "yaxis": "y"
        }
       ],
       "layout": {
        "autosize": false,
        "height": 288,
        "hovermode": "closest",
        "margin": {
         "b": 36,
         "l": 54,
         "pad": 0,
         "r": 43,
         "t": 34
        },
        "showlegend": false,
        "title": {
         "font": {
          "color": "#000000",
          "size": 12
         },
         "text": "example"
        },
        "width": 432,
        "xaxis": {
         "anchor": "y",
         "domain": [
          0,
          1
         ],
         "mirror": "ticks",
         "nticks": 11,
         "range": [
          0.7901433691756272,
          5.209856630824372
         ],
         "showgrid": false,
         "showline": true,
         "side": "bottom",
         "tickfont": {
          "size": 10
         },
         "ticks": "inside",
         "type": "linear",
         "zeroline": false
        },
        "yaxis": {
         "anchor": "x",
         "domain": [
          0,
          1
         ],
         "mirror": "ticks",
         "nticks": 9,
         "range": [
          1.8348233995584988,
          5.165176600441501
         ],
         "showgrid": false,
         "showline": true,
         "side": "left",
         "tickfont": {
          "size": 10
         },
         "ticks": "inside",
         "type": "linear",
         "zeroline": false
        }
       }
      },
      "text/html": [
       "<div id=\"ec76d525-55d8-41cf-b7cc-368600a6c8ad\" style=\"height: 288px; width: 432px;\" class=\"plotly-graph-div\"></div><script type=\"text/javascript\">require([\"plotly\"], function(Plotly) { window.PLOTLYENV=window.PLOTLYENV || {};window.PLOTLYENV.BASE_URL=\"https://plot.ly\";Plotly.newPlot(\"ec76d525-55d8-41cf-b7cc-368600a6c8ad\", [{\"marker\": {\"color\": \"rgba(31,119,180,1.0)\", \"line\": {\"color\": \"rgba(31,119,180,1.0)\", \"width\": 1.0}, \"size\": 6.0, \"symbol\": \"circle\"}, \"mode\": \"markers\", \"x\": [1.0, 2.0, 3.0, 4.0, 5.0], \"xaxis\": \"x\", \"y\": [5.0, 3.0, 4.0, 2.0, 5.0], \"yaxis\": \"y\", \"type\": \"scatter\", \"uid\": \"20132605-025b-4774-ab1a-817bb49537db\"}], {\"autosize\": false, \"height\": 288, \"hovermode\": \"closest\", \"width\": 432, \"margin\": {\"b\": 36, \"l\": 54, \"pad\": 0, \"r\": 43, \"t\": 34}, \"xaxis\": {\"anchor\": \"y\", \"domain\": [0.0, 1.0], \"mirror\": \"ticks\", \"nticks\": 11, \"range\": [0.7901433691756272, 5.209856630824372], \"showgrid\": false, \"showline\": true, \"side\": \"bottom\", \"tickfont\": {\"size\": 10.0}, \"ticks\": \"inside\", \"type\": \"linear\", \"zeroline\": false}, \"yaxis\": {\"anchor\": \"x\", \"domain\": [0.0, 1.0], \"mirror\": \"ticks\", \"nticks\": 9, \"range\": [1.8348233995584988, 5.165176600441501], \"showgrid\": false, \"showline\": true, \"side\": \"left\", \"tickfont\": {\"size\": 10.0}, \"ticks\": \"inside\", \"type\": \"linear\", \"zeroline\": false}, \"title\": {\"text\": \"example\", \"font\": {\"color\": \"#000000\", \"size\": 12.0}}, \"showlegend\": false}, {\"showLink\": false, \"linkText\": \"Export to plot.ly\", \"plotlyServerURL\": \"https://plot.ly\"})});</script>"
      ],
      "text/vnd.plotly.v1+html": [
       "<div id=\"ec76d525-55d8-41cf-b7cc-368600a6c8ad\" style=\"height: 288px; width: 432px;\" class=\"plotly-graph-div\"></div><script type=\"text/javascript\">require([\"plotly\"], function(Plotly) { window.PLOTLYENV=window.PLOTLYENV || {};window.PLOTLYENV.BASE_URL=\"https://plot.ly\";Plotly.newPlot(\"ec76d525-55d8-41cf-b7cc-368600a6c8ad\", [{\"marker\": {\"color\": \"rgba(31,119,180,1.0)\", \"line\": {\"color\": \"rgba(31,119,180,1.0)\", \"width\": 1.0}, \"size\": 6.0, \"symbol\": \"circle\"}, \"mode\": \"markers\", \"x\": [1.0, 2.0, 3.0, 4.0, 5.0], \"xaxis\": \"x\", \"y\": [5.0, 3.0, 4.0, 2.0, 5.0], \"yaxis\": \"y\", \"type\": \"scatter\", \"uid\": \"20132605-025b-4774-ab1a-817bb49537db\"}], {\"autosize\": false, \"height\": 288, \"hovermode\": \"closest\", \"width\": 432, \"margin\": {\"b\": 36, \"l\": 54, \"pad\": 0, \"r\": 43, \"t\": 34}, \"xaxis\": {\"anchor\": \"y\", \"domain\": [0.0, 1.0], \"mirror\": \"ticks\", \"nticks\": 11, \"range\": [0.7901433691756272, 5.209856630824372], \"showgrid\": false, \"showline\": true, \"side\": \"bottom\", \"tickfont\": {\"size\": 10.0}, \"ticks\": \"inside\", \"type\": \"linear\", \"zeroline\": false}, \"yaxis\": {\"anchor\": \"x\", \"domain\": [0.0, 1.0], \"mirror\": \"ticks\", \"nticks\": 9, \"range\": [1.8348233995584988, 5.165176600441501], \"showgrid\": false, \"showline\": true, \"side\": \"left\", \"tickfont\": {\"size\": 10.0}, \"ticks\": \"inside\", \"type\": \"linear\", \"zeroline\": false}, \"title\": {\"text\": \"example\", \"font\": {\"color\": \"#000000\", \"size\": 12.0}}, \"showlegend\": false}, {\"showLink\": false, \"linkText\": \"Export to plot.ly\", \"plotlyServerURL\": \"https://plot.ly\"})});</script>"
      ]
     },
     "metadata": {},
     "output_type": "display_data"
    }
   ],
   "source": [
    "py.offline.iplot(tls.mpl_to_plotly(fig))"
   ]
  },
  {
   "cell_type": "code",
   "execution_count": 13,
   "metadata": {},
   "outputs": [
    {
     "data": {
      "text/plain": [
       "Scatter({\n",
       "    'x': [1, 2, 3, 4, 5], 'y': [5, 3, 4, 2, 5]\n",
       "})"
      ]
     },
     "execution_count": 13,
     "metadata": {},
     "output_type": "execute_result"
    }
   ],
   "source": [
    "X, Y = [1,2,3,4,5], [5,3,4,2,5]\n",
    "go.Scatter(x=X, y=Y)"
   ]
  },
  {
   "cell_type": "code",
   "execution_count": 15,
   "metadata": {},
   "outputs": [
    {
     "data": {
      "application/vnd.plotly.v1+json": {
       "config": {
        "linkText": "Export to plot.ly",
        "plotlyServerURL": "https://plot.ly",
        "showLink": false
       },
       "data": [
        {
         "type": "scatter",
         "uid": "092bc621-99b3-44af-a73c-ab1009765e66",
         "x": [
          0,
          0.1282282715750936,
          0.2564565431501872,
          0.38468481472528077,
          0.5129130863003744,
          0.6411413578754679,
          0.7693696294505615,
          0.8975979010256552,
          1.0258261726007487,
          1.1540544441758422,
          1.2822827157509358,
          1.4105109873260295,
          1.538739258901123,
          1.6669675304762166,
          1.7951958020513104,
          1.9234240736264039,
          2.0516523452014974,
          2.179880616776591,
          2.3081088883516845,
          2.436337159926778,
          2.5645654315018716,
          2.6927937030769655,
          2.821021974652059,
          2.9492502462271526,
          3.077478517802246,
          3.2057067893773397,
          3.333935060952433,
          3.4621633325275267,
          3.5903916041026207,
          3.7186198756777142,
          3.8468481472528078,
          3.9750764188279013,
          4.103304690402995,
          4.231532961978089,
          4.359761233553182,
          4.487989505128276,
          4.616217776703369,
          4.744446048278463,
          4.872674319853556,
          5.00090259142865,
          5.129130863003743,
          5.257359134578837,
          5.385587406153931,
          5.513815677729024,
          5.642043949304118,
          5.770272220879211,
          5.898500492454305,
          6.026728764029398,
          6.154957035604492,
          6.283185307179586
         ],
         "y": [
          0,
          0.127877161684506,
          0.25365458390950735,
          0.3752670048793741,
          0.49071755200393785,
          0.5981105304912159,
          0.6956825506034864,
          0.7818314824680297,
          0.8551427630053461,
          0.9144126230158124,
          0.9586678530366606,
          0.9871817834144501,
          0.9994862162006879,
          0.9953791129491982,
          0.9749279121818236,
          0.9384684220497604,
          0.8865993063730001,
          0.8201722545969561,
          0.7402779970753157,
          0.6482283953077888,
          0.545534901210549,
          0.43388373911755823,
          0.3151082180236208,
          0.19115862870137254,
          0.06407021998071323,
          -0.06407021998071254,
          -0.19115862870137187,
          -0.3151082180236202,
          -0.433883739117558,
          -0.5455349012105485,
          -0.6482283953077882,
          -0.7402779970753153,
          -0.8201722545969556,
          -0.8865993063730001,
          -0.9384684220497602,
          -0.9749279121818235,
          -0.9953791129491981,
          -0.9994862162006879,
          -0.9871817834144503,
          -0.9586678530366608,
          -0.9144126230158128,
          -0.8551427630053465,
          -0.7818314824680299,
          -0.6956825506034869,
          -0.5981105304912162,
          -0.49071755200393863,
          -0.3752670048793746,
          -0.25365458390950835,
          -0.12787716168450664,
          -2.4492935982947064e-16
         ]
        },
        {
         "type": "scatter",
         "uid": "3f12ef9f-2a97-481b-8995-e0955f29e716",
         "x": [
          0,
          0.1282282715750936,
          0.2564565431501872,
          0.38468481472528077,
          0.5129130863003744,
          0.6411413578754679,
          0.7693696294505615,
          0.8975979010256552,
          1.0258261726007487,
          1.1540544441758422,
          1.2822827157509358,
          1.4105109873260295,
          1.538739258901123,
          1.6669675304762166,
          1.7951958020513104,
          1.9234240736264039,
          2.0516523452014974,
          2.179880616776591,
          2.3081088883516845,
          2.436337159926778,
          2.5645654315018716,
          2.6927937030769655,
          2.821021974652059,
          2.9492502462271526,
          3.077478517802246,
          3.2057067893773397,
          3.333935060952433,
          3.4621633325275267,
          3.5903916041026207,
          3.7186198756777142,
          3.8468481472528078,
          3.9750764188279013,
          4.103304690402995,
          4.231532961978089,
          4.359761233553182,
          4.487989505128276,
          4.616217776703369,
          4.744446048278463,
          4.872674319853556,
          5.00090259142865,
          5.129130863003743,
          5.257359134578837,
          5.385587406153931,
          5.513815677729024,
          5.642043949304118,
          5.770272220879211,
          5.898500492454305,
          6.026728764029398,
          6.154957035604492,
          6.283185307179586
         ],
         "y": [
          1,
          0.9917900138232462,
          0.9672948630390295,
          0.9269167573460217,
          0.8713187041233894,
          0.8014136218679567,
          0.7183493500977276,
          0.6234898018587336,
          0.5183925683105252,
          0.40478334312239395,
          0.28452758663103267,
          0.1595998950333793,
          0.03205157757165533,
          -0.09602302590768155,
          -0.22252093395631434,
          -0.3453650544213075,
          -0.4625382902408351,
          -0.5721166601221694,
          -0.6723008902613165,
          -0.7614459583691342,
          -0.8380881048918404,
          -0.900968867902419,
          -0.9490557470106686,
          -0.9815591569910653,
          -0.9979453927503363,
          -0.9979453927503363,
          -0.9815591569910654,
          -0.9490557470106689,
          -0.9009688679024191,
          -0.8380881048918407,
          -0.7614459583691346,
          -0.6723008902613171,
          -0.57211666012217,
          -0.4625382902408353,
          -0.34536505442130816,
          -0.2225209339563146,
          -0.09602302590768244,
          0.03205157757165487,
          0.1595998950333784,
          0.284527586631032,
          0.40478334312239295,
          0.5183925683105245,
          0.6234898018587334,
          0.7183493500977272,
          0.8014136218679564,
          0.871318704123389,
          0.9269167573460216,
          0.9672948630390292,
          0.991790013823246,
          1
         ]
        }
       ],
       "layout": {}
      },
      "text/html": [
       "<div id=\"135a6e33-f292-4b68-b493-5b197ebd92ec\" style=\"height: 525px; width: 100%;\" class=\"plotly-graph-div\"></div><script type=\"text/javascript\">require([\"plotly\"], function(Plotly) { window.PLOTLYENV=window.PLOTLYENV || {};window.PLOTLYENV.BASE_URL=\"https://plot.ly\";Plotly.newPlot(\"135a6e33-f292-4b68-b493-5b197ebd92ec\", [{\"x\": [0.0, 0.1282282715750936, 0.2564565431501872, 0.38468481472528077, 0.5129130863003744, 0.6411413578754679, 0.7693696294505615, 0.8975979010256552, 1.0258261726007487, 1.1540544441758422, 1.2822827157509358, 1.4105109873260295, 1.538739258901123, 1.6669675304762166, 1.7951958020513104, 1.9234240736264039, 2.0516523452014974, 2.179880616776591, 2.3081088883516845, 2.436337159926778, 2.5645654315018716, 2.6927937030769655, 2.821021974652059, 2.9492502462271526, 3.077478517802246, 3.2057067893773397, 3.333935060952433, 3.4621633325275267, 3.5903916041026207, 3.7186198756777142, 3.8468481472528078, 3.9750764188279013, 4.103304690402995, 4.231532961978089, 4.359761233553182, 4.487989505128276, 4.616217776703369, 4.744446048278463, 4.872674319853556, 5.00090259142865, 5.129130863003743, 5.257359134578837, 5.385587406153931, 5.513815677729024, 5.642043949304118, 5.770272220879211, 5.898500492454305, 6.026728764029398, 6.154957035604492, 6.283185307179586], \"y\": [0.0, 0.127877161684506, 0.25365458390950735, 0.3752670048793741, 0.49071755200393785, 0.5981105304912159, 0.6956825506034864, 0.7818314824680297, 0.8551427630053461, 0.9144126230158124, 0.9586678530366606, 0.9871817834144501, 0.9994862162006879, 0.9953791129491982, 0.9749279121818236, 0.9384684220497604, 0.8865993063730001, 0.8201722545969561, 0.7402779970753157, 0.6482283953077888, 0.545534901210549, 0.43388373911755823, 0.3151082180236208, 0.19115862870137254, 0.06407021998071323, -0.06407021998071254, -0.19115862870137187, -0.3151082180236202, -0.433883739117558, -0.5455349012105485, -0.6482283953077882, -0.7402779970753153, -0.8201722545969556, -0.8865993063730001, -0.9384684220497602, -0.9749279121818235, -0.9953791129491981, -0.9994862162006879, -0.9871817834144503, -0.9586678530366608, -0.9144126230158128, -0.8551427630053465, -0.7818314824680299, -0.6956825506034869, -0.5981105304912162, -0.49071755200393863, -0.3752670048793746, -0.25365458390950835, -0.12787716168450664, -2.4492935982947064e-16], \"type\": \"scatter\", \"uid\": \"092bc621-99b3-44af-a73c-ab1009765e66\"}, {\"x\": [0.0, 0.1282282715750936, 0.2564565431501872, 0.38468481472528077, 0.5129130863003744, 0.6411413578754679, 0.7693696294505615, 0.8975979010256552, 1.0258261726007487, 1.1540544441758422, 1.2822827157509358, 1.4105109873260295, 1.538739258901123, 1.6669675304762166, 1.7951958020513104, 1.9234240736264039, 2.0516523452014974, 2.179880616776591, 2.3081088883516845, 2.436337159926778, 2.5645654315018716, 2.6927937030769655, 2.821021974652059, 2.9492502462271526, 3.077478517802246, 3.2057067893773397, 3.333935060952433, 3.4621633325275267, 3.5903916041026207, 3.7186198756777142, 3.8468481472528078, 3.9750764188279013, 4.103304690402995, 4.231532961978089, 4.359761233553182, 4.487989505128276, 4.616217776703369, 4.744446048278463, 4.872674319853556, 5.00090259142865, 5.129130863003743, 5.257359134578837, 5.385587406153931, 5.513815677729024, 5.642043949304118, 5.770272220879211, 5.898500492454305, 6.026728764029398, 6.154957035604492, 6.283185307179586], \"y\": [1.0, 0.9917900138232462, 0.9672948630390295, 0.9269167573460217, 0.8713187041233894, 0.8014136218679567, 0.7183493500977276, 0.6234898018587336, 0.5183925683105252, 0.40478334312239395, 0.28452758663103267, 0.1595998950333793, 0.03205157757165533, -0.09602302590768155, -0.22252093395631434, -0.3453650544213075, -0.4625382902408351, -0.5721166601221694, -0.6723008902613165, -0.7614459583691342, -0.8380881048918404, -0.900968867902419, -0.9490557470106686, -0.9815591569910653, -0.9979453927503363, -0.9979453927503363, -0.9815591569910654, -0.9490557470106689, -0.9009688679024191, -0.8380881048918407, -0.7614459583691346, -0.6723008902613171, -0.57211666012217, -0.4625382902408353, -0.34536505442130816, -0.2225209339563146, -0.09602302590768244, 0.03205157757165487, 0.1595998950333784, 0.284527586631032, 0.40478334312239295, 0.5183925683105245, 0.6234898018587334, 0.7183493500977272, 0.8014136218679564, 0.871318704123389, 0.9269167573460216, 0.9672948630390292, 0.991790013823246, 1.0], \"type\": \"scatter\", \"uid\": \"3f12ef9f-2a97-481b-8995-e0955f29e716\"}], {}, {\"showLink\": false, \"linkText\": \"Export to plot.ly\", \"plotlyServerURL\": \"https://plot.ly\"})});</script><script type=\"text/javascript\">window.addEventListener(\"resize\", function(){window._Plotly.Plots.resize(document.getElementById(\"135a6e33-f292-4b68-b493-5b197ebd92ec\"));});</script>"
      ],
      "text/vnd.plotly.v1+html": [
       "<div id=\"135a6e33-f292-4b68-b493-5b197ebd92ec\" style=\"height: 525px; width: 100%;\" class=\"plotly-graph-div\"></div><script type=\"text/javascript\">require([\"plotly\"], function(Plotly) { window.PLOTLYENV=window.PLOTLYENV || {};window.PLOTLYENV.BASE_URL=\"https://plot.ly\";Plotly.newPlot(\"135a6e33-f292-4b68-b493-5b197ebd92ec\", [{\"x\": [0.0, 0.1282282715750936, 0.2564565431501872, 0.38468481472528077, 0.5129130863003744, 0.6411413578754679, 0.7693696294505615, 0.8975979010256552, 1.0258261726007487, 1.1540544441758422, 1.2822827157509358, 1.4105109873260295, 1.538739258901123, 1.6669675304762166, 1.7951958020513104, 1.9234240736264039, 2.0516523452014974, 2.179880616776591, 2.3081088883516845, 2.436337159926778, 2.5645654315018716, 2.6927937030769655, 2.821021974652059, 2.9492502462271526, 3.077478517802246, 3.2057067893773397, 3.333935060952433, 3.4621633325275267, 3.5903916041026207, 3.7186198756777142, 3.8468481472528078, 3.9750764188279013, 4.103304690402995, 4.231532961978089, 4.359761233553182, 4.487989505128276, 4.616217776703369, 4.744446048278463, 4.872674319853556, 5.00090259142865, 5.129130863003743, 5.257359134578837, 5.385587406153931, 5.513815677729024, 5.642043949304118, 5.770272220879211, 5.898500492454305, 6.026728764029398, 6.154957035604492, 6.283185307179586], \"y\": [0.0, 0.127877161684506, 0.25365458390950735, 0.3752670048793741, 0.49071755200393785, 0.5981105304912159, 0.6956825506034864, 0.7818314824680297, 0.8551427630053461, 0.9144126230158124, 0.9586678530366606, 0.9871817834144501, 0.9994862162006879, 0.9953791129491982, 0.9749279121818236, 0.9384684220497604, 0.8865993063730001, 0.8201722545969561, 0.7402779970753157, 0.6482283953077888, 0.545534901210549, 0.43388373911755823, 0.3151082180236208, 0.19115862870137254, 0.06407021998071323, -0.06407021998071254, -0.19115862870137187, -0.3151082180236202, -0.433883739117558, -0.5455349012105485, -0.6482283953077882, -0.7402779970753153, -0.8201722545969556, -0.8865993063730001, -0.9384684220497602, -0.9749279121818235, -0.9953791129491981, -0.9994862162006879, -0.9871817834144503, -0.9586678530366608, -0.9144126230158128, -0.8551427630053465, -0.7818314824680299, -0.6956825506034869, -0.5981105304912162, -0.49071755200393863, -0.3752670048793746, -0.25365458390950835, -0.12787716168450664, -2.4492935982947064e-16], \"type\": \"scatter\", \"uid\": \"092bc621-99b3-44af-a73c-ab1009765e66\"}, {\"x\": [0.0, 0.1282282715750936, 0.2564565431501872, 0.38468481472528077, 0.5129130863003744, 0.6411413578754679, 0.7693696294505615, 0.8975979010256552, 1.0258261726007487, 1.1540544441758422, 1.2822827157509358, 1.4105109873260295, 1.538739258901123, 1.6669675304762166, 1.7951958020513104, 1.9234240736264039, 2.0516523452014974, 2.179880616776591, 2.3081088883516845, 2.436337159926778, 2.5645654315018716, 2.6927937030769655, 2.821021974652059, 2.9492502462271526, 3.077478517802246, 3.2057067893773397, 3.333935060952433, 3.4621633325275267, 3.5903916041026207, 3.7186198756777142, 3.8468481472528078, 3.9750764188279013, 4.103304690402995, 4.231532961978089, 4.359761233553182, 4.487989505128276, 4.616217776703369, 4.744446048278463, 4.872674319853556, 5.00090259142865, 5.129130863003743, 5.257359134578837, 5.385587406153931, 5.513815677729024, 5.642043949304118, 5.770272220879211, 5.898500492454305, 6.026728764029398, 6.154957035604492, 6.283185307179586], \"y\": [1.0, 0.9917900138232462, 0.9672948630390295, 0.9269167573460217, 0.8713187041233894, 0.8014136218679567, 0.7183493500977276, 0.6234898018587336, 0.5183925683105252, 0.40478334312239395, 0.28452758663103267, 0.1595998950333793, 0.03205157757165533, -0.09602302590768155, -0.22252093395631434, -0.3453650544213075, -0.4625382902408351, -0.5721166601221694, -0.6723008902613165, -0.7614459583691342, -0.8380881048918404, -0.900968867902419, -0.9490557470106686, -0.9815591569910653, -0.9979453927503363, -0.9979453927503363, -0.9815591569910654, -0.9490557470106689, -0.9009688679024191, -0.8380881048918407, -0.7614459583691346, -0.6723008902613171, -0.57211666012217, -0.4625382902408353, -0.34536505442130816, -0.2225209339563146, -0.09602302590768244, 0.03205157757165487, 0.1595998950333784, 0.284527586631032, 0.40478334312239295, 0.5183925683105245, 0.6234898018587334, 0.7183493500977272, 0.8014136218679564, 0.871318704123389, 0.9269167573460216, 0.9672948630390292, 0.991790013823246, 1.0], \"type\": \"scatter\", \"uid\": \"3f12ef9f-2a97-481b-8995-e0955f29e716\"}], {}, {\"showLink\": false, \"linkText\": \"Export to plot.ly\", \"plotlyServerURL\": \"https://plot.ly\"})});</script><script type=\"text/javascript\">window.addEventListener(\"resize\", function(){window._Plotly.Plots.resize(document.getElementById(\"135a6e33-f292-4b68-b493-5b197ebd92ec\"));});</script>"
      ]
     },
     "metadata": {},
     "output_type": "display_data"
    }
   ],
   "source": [
    "import numpy as np\n",
    "import pandas as pd\n",
    "x = np.linspace(0, 2 * np.pi)\n",
    "\n",
    "trace0 = dict(type='scatter', x=x, y=np.sin(x))\n",
    "trace1 = dict(type='scatter', x=x, y=np.cos(x))\n",
    "\n",
    "fig = go.Figure(data=[trace0, trace1])\n",
    "\n",
    "py.offline.iplot(fig)"
   ]
  },
  {
   "cell_type": "code",
   "execution_count": 28,
   "metadata": {},
   "outputs": [
    {
     "data": {
      "application/vnd.plotly.v1+json": {
       "config": {
        "linkText": "Export to plot.ly",
        "plotlyServerURL": "https://plot.ly",
        "showLink": false
       },
       "data": [
        {
         "name": "cube",
         "type": "scatter",
         "uid": "926d16ba-4093-423c-a9f8-1f15d2aaddf6",
         "x": [
          0,
          0.20408163265306123,
          0.40816326530612246,
          0.6122448979591837,
          0.8163265306122449,
          1.0204081632653061,
          1.2244897959183674,
          1.4285714285714286,
          1.6326530612244898,
          1.836734693877551,
          2.0408163265306123,
          2.2448979591836737,
          2.4489795918367347,
          2.6530612244897958,
          2.857142857142857,
          3.0612244897959187,
          3.2653061224489797,
          3.4693877551020407,
          3.673469387755102,
          3.8775510204081636,
          4.081632653061225,
          4.285714285714286,
          4.4897959183673475,
          4.6938775510204085,
          4.8979591836734695,
          5.1020408163265305,
          5.3061224489795915,
          5.510204081632653,
          5.714285714285714,
          5.918367346938775,
          6.122448979591837,
          6.326530612244898,
          6.530612244897959,
          6.73469387755102,
          6.938775510204081,
          7.142857142857143,
          7.346938775510204,
          7.551020408163265,
          7.755102040816327,
          7.959183673469388,
          8.16326530612245,
          8.36734693877551,
          8.571428571428571,
          8.775510204081632,
          8.979591836734695,
          9.183673469387756,
          9.387755102040817,
          9.591836734693878,
          9.795918367346939,
          10
         ],
         "y": [
          0,
          0.008499859752314088,
          0.0679988780185127,
          0.22949621331248035,
          0.5439910241481016,
          1.062482469039261,
          1.8359697064998428,
          2.915451895043732,
          4.351928193184813,
          6.1963977594369695,
          8.499859752314087,
          11.313313330330054,
          14.687757651998743,
          18.674191875834044,
          23.323615160349856,
          28.687026664060053,
          34.815425545478504,
          41.7598109631191,
          49.571182075495756,
          58.30053804112234,
          67.9988780185127,
          78.71720116618076,
          90.50650664264043,
          103.41779360640551,
          117.50206121598994,
          132.8103086299076,
          149.39353500667235,
          167.3027395047982,
          186.58892128279885,
          207.30307949918824,
          229.49621331248042,
          253.21932188118902,
          278.52340436382804,
          305.4594599189113,
          334.0784877049528,
          364.43148688046654,
          396.56945660396605,
          430.54339603396545,
          466.4043043289787,
          504.2031806475194,
          543.9910241481016,
          585.8188339892391,
          629.7376093294461,
          675.798349327236,
          724.0520531411235,
          774.5497199296213,
          827.3423488512441,
          882.4809390645056,
          940.0164897279195,
          1000
         ]
        },
        {
         "name": "square",
         "type": "scatter",
         "uid": "14eb9ecb-8aaa-4cf2-a8b0-68c3ef1558ff",
         "x": [
          0,
          0.20408163265306123,
          0.40816326530612246,
          0.6122448979591837,
          0.8163265306122449,
          1.0204081632653061,
          1.2244897959183674,
          1.4285714285714286,
          1.6326530612244898,
          1.836734693877551,
          2.0408163265306123,
          2.2448979591836737,
          2.4489795918367347,
          2.6530612244897958,
          2.857142857142857,
          3.0612244897959187,
          3.2653061224489797,
          3.4693877551020407,
          3.673469387755102,
          3.8775510204081636,
          4.081632653061225,
          4.285714285714286,
          4.4897959183673475,
          4.6938775510204085,
          4.8979591836734695,
          5.1020408163265305,
          5.3061224489795915,
          5.510204081632653,
          5.714285714285714,
          5.918367346938775,
          6.122448979591837,
          6.326530612244898,
          6.530612244897959,
          6.73469387755102,
          6.938775510204081,
          7.142857142857143,
          7.346938775510204,
          7.551020408163265,
          7.755102040816327,
          7.959183673469388,
          8.16326530612245,
          8.36734693877551,
          8.571428571428571,
          8.775510204081632,
          8.979591836734695,
          9.183673469387756,
          9.387755102040817,
          9.591836734693878,
          9.795918367346939,
          10
         ],
         "y": [
          0,
          0.04164931278633903,
          0.16659725114535612,
          0.3748438150770512,
          0.6663890045814245,
          1.0412328196584757,
          1.499375260308205,
          2.0408163265306123,
          2.665556018325698,
          3.3735943356934612,
          4.164931278633903,
          5.039566847147023,
          5.99750104123282,
          7.038733860891295,
          8.16326530612245,
          9.371095376926283,
          10.662224073302792,
          12.036651395251978,
          13.494377342773845,
          15.035401915868391,
          16.65972511453561,
          18.36734693877551,
          20.158267388588094,
          22.03248646397335,
          23.99000416493128,
          26.03082049146189,
          28.15493544356518,
          30.362349021241155,
          32.6530612244898,
          35.027072053311116,
          37.48438150770513,
          40.02498958767181,
          42.648896293211166,
          45.356101624323195,
          48.14660558100791,
          51.02040816326531,
          53.97750937109538,
          57.017909204498125,
          60.141607663473565,
          63.348604748021664,
          66.63890045814244,
          70.0124947938359,
          73.46938775510203,
          77.00957934194085,
          80.63306955435237,
          84.33985839233654,
          88.1299458558934,
          92.00333194502292,
          95.96001665972511,
          100
         ]
        }
       ],
       "layout": {
        "height": 500,
        "title": {
         "text": "my first plotly plot"
        },
        "width": 600,
        "xaxis": {
         "title": {
          "text": "X"
         }
        },
        "yaxis": {
         "title": {
          "text": "Y"
         }
        }
       }
      },
      "text/html": [
       "<div id=\"5ad4c228-7f41-4681-b40d-b72da03351e1\" style=\"height: 500px; width: 600px;\" class=\"plotly-graph-div\"></div><script type=\"text/javascript\">require([\"plotly\"], function(Plotly) { window.PLOTLYENV=window.PLOTLYENV || {};window.PLOTLYENV.BASE_URL=\"https://plot.ly\";Plotly.newPlot(\"5ad4c228-7f41-4681-b40d-b72da03351e1\", [{\"name\": \"cube\", \"x\": [0.0, 0.20408163265306123, 0.40816326530612246, 0.6122448979591837, 0.8163265306122449, 1.0204081632653061, 1.2244897959183674, 1.4285714285714286, 1.6326530612244898, 1.836734693877551, 2.0408163265306123, 2.2448979591836737, 2.4489795918367347, 2.6530612244897958, 2.857142857142857, 3.0612244897959187, 3.2653061224489797, 3.4693877551020407, 3.673469387755102, 3.8775510204081636, 4.081632653061225, 4.285714285714286, 4.4897959183673475, 4.6938775510204085, 4.8979591836734695, 5.1020408163265305, 5.3061224489795915, 5.510204081632653, 5.714285714285714, 5.918367346938775, 6.122448979591837, 6.326530612244898, 6.530612244897959, 6.73469387755102, 6.938775510204081, 7.142857142857143, 7.346938775510204, 7.551020408163265, 7.755102040816327, 7.959183673469388, 8.16326530612245, 8.36734693877551, 8.571428571428571, 8.775510204081632, 8.979591836734695, 9.183673469387756, 9.387755102040817, 9.591836734693878, 9.795918367346939, 10.0], \"y\": [0.0, 0.008499859752314088, 0.0679988780185127, 0.22949621331248035, 0.5439910241481016, 1.062482469039261, 1.8359697064998428, 2.915451895043732, 4.351928193184813, 6.1963977594369695, 8.499859752314087, 11.313313330330054, 14.687757651998743, 18.674191875834044, 23.323615160349856, 28.687026664060053, 34.815425545478504, 41.7598109631191, 49.571182075495756, 58.30053804112234, 67.9988780185127, 78.71720116618076, 90.50650664264043, 103.41779360640551, 117.50206121598994, 132.8103086299076, 149.39353500667235, 167.3027395047982, 186.58892128279885, 207.30307949918824, 229.49621331248042, 253.21932188118902, 278.52340436382804, 305.4594599189113, 334.0784877049528, 364.43148688046654, 396.56945660396605, 430.54339603396545, 466.4043043289787, 504.2031806475194, 543.9910241481016, 585.8188339892391, 629.7376093294461, 675.798349327236, 724.0520531411235, 774.5497199296213, 827.3423488512441, 882.4809390645056, 940.0164897279195, 1000.0], \"type\": \"scatter\", \"uid\": \"926d16ba-4093-423c-a9f8-1f15d2aaddf6\"}, {\"name\": \"square\", \"x\": [0.0, 0.20408163265306123, 0.40816326530612246, 0.6122448979591837, 0.8163265306122449, 1.0204081632653061, 1.2244897959183674, 1.4285714285714286, 1.6326530612244898, 1.836734693877551, 2.0408163265306123, 2.2448979591836737, 2.4489795918367347, 2.6530612244897958, 2.857142857142857, 3.0612244897959187, 3.2653061224489797, 3.4693877551020407, 3.673469387755102, 3.8775510204081636, 4.081632653061225, 4.285714285714286, 4.4897959183673475, 4.6938775510204085, 4.8979591836734695, 5.1020408163265305, 5.3061224489795915, 5.510204081632653, 5.714285714285714, 5.918367346938775, 6.122448979591837, 6.326530612244898, 6.530612244897959, 6.73469387755102, 6.938775510204081, 7.142857142857143, 7.346938775510204, 7.551020408163265, 7.755102040816327, 7.959183673469388, 8.16326530612245, 8.36734693877551, 8.571428571428571, 8.775510204081632, 8.979591836734695, 9.183673469387756, 9.387755102040817, 9.591836734693878, 9.795918367346939, 10.0], \"y\": [0.0, 0.04164931278633903, 0.16659725114535612, 0.3748438150770512, 0.6663890045814245, 1.0412328196584757, 1.499375260308205, 2.0408163265306123, 2.665556018325698, 3.3735943356934612, 4.164931278633903, 5.039566847147023, 5.99750104123282, 7.038733860891295, 8.16326530612245, 9.371095376926283, 10.662224073302792, 12.036651395251978, 13.494377342773845, 15.035401915868391, 16.65972511453561, 18.36734693877551, 20.158267388588094, 22.03248646397335, 23.99000416493128, 26.03082049146189, 28.15493544356518, 30.362349021241155, 32.6530612244898, 35.027072053311116, 37.48438150770513, 40.02498958767181, 42.648896293211166, 45.356101624323195, 48.14660558100791, 51.02040816326531, 53.97750937109538, 57.017909204498125, 60.141607663473565, 63.348604748021664, 66.63890045814244, 70.0124947938359, 73.46938775510203, 77.00957934194085, 80.63306955435237, 84.33985839233654, 88.1299458558934, 92.00333194502292, 95.96001665972511, 100.0], \"type\": \"scatter\", \"uid\": \"14eb9ecb-8aaa-4cf2-a8b0-68c3ef1558ff\"}], {\"height\": 500, \"title\": {\"text\": \"my first plotly plot\"}, \"width\": 600, \"xaxis\": {\"title\": {\"text\": \"X\"}}, \"yaxis\": {\"title\": {\"text\": \"Y\"}}}, {\"showLink\": false, \"linkText\": \"Export to plot.ly\", \"plotlyServerURL\": \"https://plot.ly\"})});</script>"
      ],
      "text/vnd.plotly.v1+html": [
       "<div id=\"5ad4c228-7f41-4681-b40d-b72da03351e1\" style=\"height: 500px; width: 600px;\" class=\"plotly-graph-div\"></div><script type=\"text/javascript\">require([\"plotly\"], function(Plotly) { window.PLOTLYENV=window.PLOTLYENV || {};window.PLOTLYENV.BASE_URL=\"https://plot.ly\";Plotly.newPlot(\"5ad4c228-7f41-4681-b40d-b72da03351e1\", [{\"name\": \"cube\", \"x\": [0.0, 0.20408163265306123, 0.40816326530612246, 0.6122448979591837, 0.8163265306122449, 1.0204081632653061, 1.2244897959183674, 1.4285714285714286, 1.6326530612244898, 1.836734693877551, 2.0408163265306123, 2.2448979591836737, 2.4489795918367347, 2.6530612244897958, 2.857142857142857, 3.0612244897959187, 3.2653061224489797, 3.4693877551020407, 3.673469387755102, 3.8775510204081636, 4.081632653061225, 4.285714285714286, 4.4897959183673475, 4.6938775510204085, 4.8979591836734695, 5.1020408163265305, 5.3061224489795915, 5.510204081632653, 5.714285714285714, 5.918367346938775, 6.122448979591837, 6.326530612244898, 6.530612244897959, 6.73469387755102, 6.938775510204081, 7.142857142857143, 7.346938775510204, 7.551020408163265, 7.755102040816327, 7.959183673469388, 8.16326530612245, 8.36734693877551, 8.571428571428571, 8.775510204081632, 8.979591836734695, 9.183673469387756, 9.387755102040817, 9.591836734693878, 9.795918367346939, 10.0], \"y\": [0.0, 0.008499859752314088, 0.0679988780185127, 0.22949621331248035, 0.5439910241481016, 1.062482469039261, 1.8359697064998428, 2.915451895043732, 4.351928193184813, 6.1963977594369695, 8.499859752314087, 11.313313330330054, 14.687757651998743, 18.674191875834044, 23.323615160349856, 28.687026664060053, 34.815425545478504, 41.7598109631191, 49.571182075495756, 58.30053804112234, 67.9988780185127, 78.71720116618076, 90.50650664264043, 103.41779360640551, 117.50206121598994, 132.8103086299076, 149.39353500667235, 167.3027395047982, 186.58892128279885, 207.30307949918824, 229.49621331248042, 253.21932188118902, 278.52340436382804, 305.4594599189113, 334.0784877049528, 364.43148688046654, 396.56945660396605, 430.54339603396545, 466.4043043289787, 504.2031806475194, 543.9910241481016, 585.8188339892391, 629.7376093294461, 675.798349327236, 724.0520531411235, 774.5497199296213, 827.3423488512441, 882.4809390645056, 940.0164897279195, 1000.0], \"type\": \"scatter\", \"uid\": \"926d16ba-4093-423c-a9f8-1f15d2aaddf6\"}, {\"name\": \"square\", \"x\": [0.0, 0.20408163265306123, 0.40816326530612246, 0.6122448979591837, 0.8163265306122449, 1.0204081632653061, 1.2244897959183674, 1.4285714285714286, 1.6326530612244898, 1.836734693877551, 2.0408163265306123, 2.2448979591836737, 2.4489795918367347, 2.6530612244897958, 2.857142857142857, 3.0612244897959187, 3.2653061224489797, 3.4693877551020407, 3.673469387755102, 3.8775510204081636, 4.081632653061225, 4.285714285714286, 4.4897959183673475, 4.6938775510204085, 4.8979591836734695, 5.1020408163265305, 5.3061224489795915, 5.510204081632653, 5.714285714285714, 5.918367346938775, 6.122448979591837, 6.326530612244898, 6.530612244897959, 6.73469387755102, 6.938775510204081, 7.142857142857143, 7.346938775510204, 7.551020408163265, 7.755102040816327, 7.959183673469388, 8.16326530612245, 8.36734693877551, 8.571428571428571, 8.775510204081632, 8.979591836734695, 9.183673469387756, 9.387755102040817, 9.591836734693878, 9.795918367346939, 10.0], \"y\": [0.0, 0.04164931278633903, 0.16659725114535612, 0.3748438150770512, 0.6663890045814245, 1.0412328196584757, 1.499375260308205, 2.0408163265306123, 2.665556018325698, 3.3735943356934612, 4.164931278633903, 5.039566847147023, 5.99750104123282, 7.038733860891295, 8.16326530612245, 9.371095376926283, 10.662224073302792, 12.036651395251978, 13.494377342773845, 15.035401915868391, 16.65972511453561, 18.36734693877551, 20.158267388588094, 22.03248646397335, 23.99000416493128, 26.03082049146189, 28.15493544356518, 30.362349021241155, 32.6530612244898, 35.027072053311116, 37.48438150770513, 40.02498958767181, 42.648896293211166, 45.356101624323195, 48.14660558100791, 51.02040816326531, 53.97750937109538, 57.017909204498125, 60.141607663473565, 63.348604748021664, 66.63890045814244, 70.0124947938359, 73.46938775510203, 77.00957934194085, 80.63306955435237, 84.33985839233654, 88.1299458558934, 92.00333194502292, 95.96001665972511, 100.0], \"type\": \"scatter\", \"uid\": \"14eb9ecb-8aaa-4cf2-a8b0-68c3ef1558ff\"}], {\"height\": 500, \"title\": {\"text\": \"my first plotly plot\"}, \"width\": 600, \"xaxis\": {\"title\": {\"text\": \"X\"}}, \"yaxis\": {\"title\": {\"text\": \"Y\"}}}, {\"showLink\": false, \"linkText\": \"Export to plot.ly\", \"plotlyServerURL\": \"https://plot.ly\"})});</script>"
      ]
     },
     "metadata": {},
     "output_type": "display_data"
    }
   ],
   "source": [
    "x = np.linspace(0,10)\n",
    "y1 = x ** 3\n",
    "y2 = x ** 2\n",
    "\n",
    "trace0 = go.Scatter(\n",
    "    x = x,\n",
    "    y = y\n",
    ")\n",
    "\n",
    "# 2nd option:\n",
    "\n",
    "trace0 = dict(\n",
    "    type = 'scatter', \n",
    "    x = x, \n",
    "    y = y1,\n",
    "    name = 'cube'\n",
    ")\n",
    "\n",
    "trace1 = dict(\n",
    "    type = 'scatter', \n",
    "    x = x, \n",
    "    y = y2,\n",
    "    name = 'square'\n",
    ")\n",
    "\n",
    "data = [trace0, trace1]\n",
    "\n",
    "layout = go.Layout(\n",
    "    title='my first plotly plot',\n",
    "    width=600,\n",
    "    height=500,\n",
    "    xaxis = dict(title='X'),\n",
    "    yaxis = dict(title='Y'),\n",
    ")\n",
    "\n",
    "layout = dict(\n",
    "    title='my first plotly plot',\n",
    "    width=600,\n",
    "    height=500,\n",
    "    xaxis = dict(title='X'),\n",
    "    yaxis = dict(title='Y'),\n",
    ")\n",
    "\n",
    "fig = go.Figure(data=data, layout=layout)\n",
    "\n",
    "py.offline.iplot(fig)"
   ]
  },
  {
   "cell_type": "code",
   "execution_count": 30,
   "metadata": {},
   "outputs": [
    {
     "data": {
      "application/vnd.plotly.v1+json": {
       "config": {
        "displaylogo": false,
        "linkText": "Export to plot.ly",
        "modeBarButtonsToRemove": [
         "sendDataToCloud"
        ],
        "plotlyServerURL": "https://plot.ly",
        "showLink": false
       },
       "data": [
        {
         "name": "cube",
         "type": "scatter",
         "uid": "926d16ba-4093-423c-a9f8-1f15d2aaddf6",
         "x": [
          0,
          0.20408163265306123,
          0.40816326530612246,
          0.6122448979591837,
          0.8163265306122449,
          1.0204081632653061,
          1.2244897959183674,
          1.4285714285714286,
          1.6326530612244898,
          1.836734693877551,
          2.0408163265306123,
          2.2448979591836737,
          2.4489795918367347,
          2.6530612244897958,
          2.857142857142857,
          3.0612244897959187,
          3.2653061224489797,
          3.4693877551020407,
          3.673469387755102,
          3.8775510204081636,
          4.081632653061225,
          4.285714285714286,
          4.4897959183673475,
          4.6938775510204085,
          4.8979591836734695,
          5.1020408163265305,
          5.3061224489795915,
          5.510204081632653,
          5.714285714285714,
          5.918367346938775,
          6.122448979591837,
          6.326530612244898,
          6.530612244897959,
          6.73469387755102,
          6.938775510204081,
          7.142857142857143,
          7.346938775510204,
          7.551020408163265,
          7.755102040816327,
          7.959183673469388,
          8.16326530612245,
          8.36734693877551,
          8.571428571428571,
          8.775510204081632,
          8.979591836734695,
          9.183673469387756,
          9.387755102040817,
          9.591836734693878,
          9.795918367346939,
          10
         ],
         "y": [
          0,
          0.008499859752314088,
          0.0679988780185127,
          0.22949621331248035,
          0.5439910241481016,
          1.062482469039261,
          1.8359697064998428,
          2.915451895043732,
          4.351928193184813,
          6.1963977594369695,
          8.499859752314087,
          11.313313330330054,
          14.687757651998743,
          18.674191875834044,
          23.323615160349856,
          28.687026664060053,
          34.815425545478504,
          41.7598109631191,
          49.571182075495756,
          58.30053804112234,
          67.9988780185127,
          78.71720116618076,
          90.50650664264043,
          103.41779360640551,
          117.50206121598994,
          132.8103086299076,
          149.39353500667235,
          167.3027395047982,
          186.58892128279885,
          207.30307949918824,
          229.49621331248042,
          253.21932188118902,
          278.52340436382804,
          305.4594599189113,
          334.0784877049528,
          364.43148688046654,
          396.56945660396605,
          430.54339603396545,
          466.4043043289787,
          504.2031806475194,
          543.9910241481016,
          585.8188339892391,
          629.7376093294461,
          675.798349327236,
          724.0520531411235,
          774.5497199296213,
          827.3423488512441,
          882.4809390645056,
          940.0164897279195,
          1000
         ]
        },
        {
         "name": "square",
         "type": "scatter",
         "uid": "14eb9ecb-8aaa-4cf2-a8b0-68c3ef1558ff",
         "x": [
          0,
          0.20408163265306123,
          0.40816326530612246,
          0.6122448979591837,
          0.8163265306122449,
          1.0204081632653061,
          1.2244897959183674,
          1.4285714285714286,
          1.6326530612244898,
          1.836734693877551,
          2.0408163265306123,
          2.2448979591836737,
          2.4489795918367347,
          2.6530612244897958,
          2.857142857142857,
          3.0612244897959187,
          3.2653061224489797,
          3.4693877551020407,
          3.673469387755102,
          3.8775510204081636,
          4.081632653061225,
          4.285714285714286,
          4.4897959183673475,
          4.6938775510204085,
          4.8979591836734695,
          5.1020408163265305,
          5.3061224489795915,
          5.510204081632653,
          5.714285714285714,
          5.918367346938775,
          6.122448979591837,
          6.326530612244898,
          6.530612244897959,
          6.73469387755102,
          6.938775510204081,
          7.142857142857143,
          7.346938775510204,
          7.551020408163265,
          7.755102040816327,
          7.959183673469388,
          8.16326530612245,
          8.36734693877551,
          8.571428571428571,
          8.775510204081632,
          8.979591836734695,
          9.183673469387756,
          9.387755102040817,
          9.591836734693878,
          9.795918367346939,
          10
         ],
         "y": [
          0,
          0.04164931278633903,
          0.16659725114535612,
          0.3748438150770512,
          0.6663890045814245,
          1.0412328196584757,
          1.499375260308205,
          2.0408163265306123,
          2.665556018325698,
          3.3735943356934612,
          4.164931278633903,
          5.039566847147023,
          5.99750104123282,
          7.038733860891295,
          8.16326530612245,
          9.371095376926283,
          10.662224073302792,
          12.036651395251978,
          13.494377342773845,
          15.035401915868391,
          16.65972511453561,
          18.36734693877551,
          20.158267388588094,
          22.03248646397335,
          23.99000416493128,
          26.03082049146189,
          28.15493544356518,
          30.362349021241155,
          32.6530612244898,
          35.027072053311116,
          37.48438150770513,
          40.02498958767181,
          42.648896293211166,
          45.356101624323195,
          48.14660558100791,
          51.02040816326531,
          53.97750937109538,
          57.017909204498125,
          60.141607663473565,
          63.348604748021664,
          66.63890045814244,
          70.0124947938359,
          73.46938775510203,
          77.00957934194085,
          80.63306955435237,
          84.33985839233654,
          88.1299458558934,
          92.00333194502292,
          95.96001665972511,
          100
         ]
        }
       ],
       "layout": {
        "height": 500,
        "title": {
         "text": "my first plotly plot"
        },
        "width": 600,
        "xaxis": {
         "title": {
          "text": "X"
         }
        },
        "yaxis": {
         "title": {
          "text": "Y"
         }
        }
       }
      },
      "text/html": [
       "<div id=\"6073b636-63c4-4c8f-9d8c-a6b5624b9688\" style=\"height: 500px; width: 600px;\" class=\"plotly-graph-div\"></div><script type=\"text/javascript\">require([\"plotly\"], function(Plotly) { window.PLOTLYENV=window.PLOTLYENV || {};window.PLOTLYENV.BASE_URL=\"https://plot.ly\";Plotly.newPlot(\"6073b636-63c4-4c8f-9d8c-a6b5624b9688\", [{\"name\": \"cube\", \"x\": [0.0, 0.20408163265306123, 0.40816326530612246, 0.6122448979591837, 0.8163265306122449, 1.0204081632653061, 1.2244897959183674, 1.4285714285714286, 1.6326530612244898, 1.836734693877551, 2.0408163265306123, 2.2448979591836737, 2.4489795918367347, 2.6530612244897958, 2.857142857142857, 3.0612244897959187, 3.2653061224489797, 3.4693877551020407, 3.673469387755102, 3.8775510204081636, 4.081632653061225, 4.285714285714286, 4.4897959183673475, 4.6938775510204085, 4.8979591836734695, 5.1020408163265305, 5.3061224489795915, 5.510204081632653, 5.714285714285714, 5.918367346938775, 6.122448979591837, 6.326530612244898, 6.530612244897959, 6.73469387755102, 6.938775510204081, 7.142857142857143, 7.346938775510204, 7.551020408163265, 7.755102040816327, 7.959183673469388, 8.16326530612245, 8.36734693877551, 8.571428571428571, 8.775510204081632, 8.979591836734695, 9.183673469387756, 9.387755102040817, 9.591836734693878, 9.795918367346939, 10.0], \"y\": [0.0, 0.008499859752314088, 0.0679988780185127, 0.22949621331248035, 0.5439910241481016, 1.062482469039261, 1.8359697064998428, 2.915451895043732, 4.351928193184813, 6.1963977594369695, 8.499859752314087, 11.313313330330054, 14.687757651998743, 18.674191875834044, 23.323615160349856, 28.687026664060053, 34.815425545478504, 41.7598109631191, 49.571182075495756, 58.30053804112234, 67.9988780185127, 78.71720116618076, 90.50650664264043, 103.41779360640551, 117.50206121598994, 132.8103086299076, 149.39353500667235, 167.3027395047982, 186.58892128279885, 207.30307949918824, 229.49621331248042, 253.21932188118902, 278.52340436382804, 305.4594599189113, 334.0784877049528, 364.43148688046654, 396.56945660396605, 430.54339603396545, 466.4043043289787, 504.2031806475194, 543.9910241481016, 585.8188339892391, 629.7376093294461, 675.798349327236, 724.0520531411235, 774.5497199296213, 827.3423488512441, 882.4809390645056, 940.0164897279195, 1000.0], \"type\": \"scatter\", \"uid\": \"926d16ba-4093-423c-a9f8-1f15d2aaddf6\"}, {\"name\": \"square\", \"x\": [0.0, 0.20408163265306123, 0.40816326530612246, 0.6122448979591837, 0.8163265306122449, 1.0204081632653061, 1.2244897959183674, 1.4285714285714286, 1.6326530612244898, 1.836734693877551, 2.0408163265306123, 2.2448979591836737, 2.4489795918367347, 2.6530612244897958, 2.857142857142857, 3.0612244897959187, 3.2653061224489797, 3.4693877551020407, 3.673469387755102, 3.8775510204081636, 4.081632653061225, 4.285714285714286, 4.4897959183673475, 4.6938775510204085, 4.8979591836734695, 5.1020408163265305, 5.3061224489795915, 5.510204081632653, 5.714285714285714, 5.918367346938775, 6.122448979591837, 6.326530612244898, 6.530612244897959, 6.73469387755102, 6.938775510204081, 7.142857142857143, 7.346938775510204, 7.551020408163265, 7.755102040816327, 7.959183673469388, 8.16326530612245, 8.36734693877551, 8.571428571428571, 8.775510204081632, 8.979591836734695, 9.183673469387756, 9.387755102040817, 9.591836734693878, 9.795918367346939, 10.0], \"y\": [0.0, 0.04164931278633903, 0.16659725114535612, 0.3748438150770512, 0.6663890045814245, 1.0412328196584757, 1.499375260308205, 2.0408163265306123, 2.665556018325698, 3.3735943356934612, 4.164931278633903, 5.039566847147023, 5.99750104123282, 7.038733860891295, 8.16326530612245, 9.371095376926283, 10.662224073302792, 12.036651395251978, 13.494377342773845, 15.035401915868391, 16.65972511453561, 18.36734693877551, 20.158267388588094, 22.03248646397335, 23.99000416493128, 26.03082049146189, 28.15493544356518, 30.362349021241155, 32.6530612244898, 35.027072053311116, 37.48438150770513, 40.02498958767181, 42.648896293211166, 45.356101624323195, 48.14660558100791, 51.02040816326531, 53.97750937109538, 57.017909204498125, 60.141607663473565, 63.348604748021664, 66.63890045814244, 70.0124947938359, 73.46938775510203, 77.00957934194085, 80.63306955435237, 84.33985839233654, 88.1299458558934, 92.00333194502292, 95.96001665972511, 100.0], \"type\": \"scatter\", \"uid\": \"14eb9ecb-8aaa-4cf2-a8b0-68c3ef1558ff\"}], {\"height\": 500, \"title\": {\"text\": \"my first plotly plot\"}, \"width\": 600, \"xaxis\": {\"title\": {\"text\": \"X\"}}, \"yaxis\": {\"title\": {\"text\": \"Y\"}}}, {\"modeBarButtonsToRemove\": [\"sendDataToCloud\"], \"displaylogo\": false, \"showLink\": false, \"linkText\": \"Export to plot.ly\", \"plotlyServerURL\": \"https://plot.ly\"})});</script>"
      ],
      "text/vnd.plotly.v1+html": [
       "<div id=\"6073b636-63c4-4c8f-9d8c-a6b5624b9688\" style=\"height: 500px; width: 600px;\" class=\"plotly-graph-div\"></div><script type=\"text/javascript\">require([\"plotly\"], function(Plotly) { window.PLOTLYENV=window.PLOTLYENV || {};window.PLOTLYENV.BASE_URL=\"https://plot.ly\";Plotly.newPlot(\"6073b636-63c4-4c8f-9d8c-a6b5624b9688\", [{\"name\": \"cube\", \"x\": [0.0, 0.20408163265306123, 0.40816326530612246, 0.6122448979591837, 0.8163265306122449, 1.0204081632653061, 1.2244897959183674, 1.4285714285714286, 1.6326530612244898, 1.836734693877551, 2.0408163265306123, 2.2448979591836737, 2.4489795918367347, 2.6530612244897958, 2.857142857142857, 3.0612244897959187, 3.2653061224489797, 3.4693877551020407, 3.673469387755102, 3.8775510204081636, 4.081632653061225, 4.285714285714286, 4.4897959183673475, 4.6938775510204085, 4.8979591836734695, 5.1020408163265305, 5.3061224489795915, 5.510204081632653, 5.714285714285714, 5.918367346938775, 6.122448979591837, 6.326530612244898, 6.530612244897959, 6.73469387755102, 6.938775510204081, 7.142857142857143, 7.346938775510204, 7.551020408163265, 7.755102040816327, 7.959183673469388, 8.16326530612245, 8.36734693877551, 8.571428571428571, 8.775510204081632, 8.979591836734695, 9.183673469387756, 9.387755102040817, 9.591836734693878, 9.795918367346939, 10.0], \"y\": [0.0, 0.008499859752314088, 0.0679988780185127, 0.22949621331248035, 0.5439910241481016, 1.062482469039261, 1.8359697064998428, 2.915451895043732, 4.351928193184813, 6.1963977594369695, 8.499859752314087, 11.313313330330054, 14.687757651998743, 18.674191875834044, 23.323615160349856, 28.687026664060053, 34.815425545478504, 41.7598109631191, 49.571182075495756, 58.30053804112234, 67.9988780185127, 78.71720116618076, 90.50650664264043, 103.41779360640551, 117.50206121598994, 132.8103086299076, 149.39353500667235, 167.3027395047982, 186.58892128279885, 207.30307949918824, 229.49621331248042, 253.21932188118902, 278.52340436382804, 305.4594599189113, 334.0784877049528, 364.43148688046654, 396.56945660396605, 430.54339603396545, 466.4043043289787, 504.2031806475194, 543.9910241481016, 585.8188339892391, 629.7376093294461, 675.798349327236, 724.0520531411235, 774.5497199296213, 827.3423488512441, 882.4809390645056, 940.0164897279195, 1000.0], \"type\": \"scatter\", \"uid\": \"926d16ba-4093-423c-a9f8-1f15d2aaddf6\"}, {\"name\": \"square\", \"x\": [0.0, 0.20408163265306123, 0.40816326530612246, 0.6122448979591837, 0.8163265306122449, 1.0204081632653061, 1.2244897959183674, 1.4285714285714286, 1.6326530612244898, 1.836734693877551, 2.0408163265306123, 2.2448979591836737, 2.4489795918367347, 2.6530612244897958, 2.857142857142857, 3.0612244897959187, 3.2653061224489797, 3.4693877551020407, 3.673469387755102, 3.8775510204081636, 4.081632653061225, 4.285714285714286, 4.4897959183673475, 4.6938775510204085, 4.8979591836734695, 5.1020408163265305, 5.3061224489795915, 5.510204081632653, 5.714285714285714, 5.918367346938775, 6.122448979591837, 6.326530612244898, 6.530612244897959, 6.73469387755102, 6.938775510204081, 7.142857142857143, 7.346938775510204, 7.551020408163265, 7.755102040816327, 7.959183673469388, 8.16326530612245, 8.36734693877551, 8.571428571428571, 8.775510204081632, 8.979591836734695, 9.183673469387756, 9.387755102040817, 9.591836734693878, 9.795918367346939, 10.0], \"y\": [0.0, 0.04164931278633903, 0.16659725114535612, 0.3748438150770512, 0.6663890045814245, 1.0412328196584757, 1.499375260308205, 2.0408163265306123, 2.665556018325698, 3.3735943356934612, 4.164931278633903, 5.039566847147023, 5.99750104123282, 7.038733860891295, 8.16326530612245, 9.371095376926283, 10.662224073302792, 12.036651395251978, 13.494377342773845, 15.035401915868391, 16.65972511453561, 18.36734693877551, 20.158267388588094, 22.03248646397335, 23.99000416493128, 26.03082049146189, 28.15493544356518, 30.362349021241155, 32.6530612244898, 35.027072053311116, 37.48438150770513, 40.02498958767181, 42.648896293211166, 45.356101624323195, 48.14660558100791, 51.02040816326531, 53.97750937109538, 57.017909204498125, 60.141607663473565, 63.348604748021664, 66.63890045814244, 70.0124947938359, 73.46938775510203, 77.00957934194085, 80.63306955435237, 84.33985839233654, 88.1299458558934, 92.00333194502292, 95.96001665972511, 100.0], \"type\": \"scatter\", \"uid\": \"14eb9ecb-8aaa-4cf2-a8b0-68c3ef1558ff\"}], {\"height\": 500, \"title\": {\"text\": \"my first plotly plot\"}, \"width\": 600, \"xaxis\": {\"title\": {\"text\": \"X\"}}, \"yaxis\": {\"title\": {\"text\": \"Y\"}}}, {\"modeBarButtonsToRemove\": [\"sendDataToCloud\"], \"displaylogo\": false, \"showLink\": false, \"linkText\": \"Export to plot.ly\", \"plotlyServerURL\": \"https://plot.ly\"})});</script>"
      ]
     },
     "metadata": {},
     "output_type": "display_data"
    }
   ],
   "source": [
    "config = dict(\n",
    "    modeBarButtonsToRemove=['sendDataToCloud'],\n",
    "    displaylogo=False\n",
    ")        \n",
    "\n",
    "py.offline.iplot(fig, \n",
    "    show_link=False, \n",
    "    config=config\n",
    ")"
   ]
  },
  {
   "cell_type": "code",
   "execution_count": null,
   "metadata": {},
   "outputs": [],
   "source": []
  }
 ],
 "metadata": {
  "kernelspec": {
   "display_name": "Python 3",
   "language": "python",
   "name": "python3"
  },
  "language_info": {
   "codemirror_mode": {
    "name": "ipython",
    "version": 3
   },
   "file_extension": ".py",
   "mimetype": "text/x-python",
   "name": "python",
   "nbconvert_exporter": "python",
   "pygments_lexer": "ipython3",
   "version": "3.7.0"
  }
 },
 "nbformat": 4,
 "nbformat_minor": 2
}
