{
 "cells": [
  {
   "cell_type": "markdown",
   "metadata": {
    "slideshow": {
     "slide_type": "slide"
    }
   },
   "source": [
    "<img src='images/plotly-logo-01-stripe@2x.png' width=30%>\n",
    "\n",
    "\n",
    "***<font color=\"grey\">Interactive Data Visualization Using Python</font>***\n",
    "\n",
    "Code accompanying slides at [slides.com ](http://slides.com/chumo/plotly)\n",
    "\n",
    ">Jesús Martínez Blanco\n",
    "><font color=\"red\">Data Scientist, LiveIntent Inc.</font>"
   ]
  },
  {
   "cell_type": "code",
   "execution_count": null,
   "metadata": {
    "ExecuteTime": {
     "end_time": "2017-11-12T12:11:54.642737",
     "start_time": "2017-11-12T12:11:53.056468"
    },
    "collapsed": true,
    "slideshow": {
     "slide_type": "-"
    }
   },
   "outputs": [],
   "source": [
    "# Import the library\n",
    "import plotly as py"
   ]
  },
  {
   "cell_type": "code",
   "execution_count": null,
   "metadata": {
    "ExecuteTime": {
     "end_time": "2017-11-12T12:12:00.250278",
     "start_time": "2017-11-12T12:12:00.244853"
    }
   },
   "outputs": [],
   "source": [
    "# and enable the offline mode in the notebook (not needed in Jupyter Lab)\n",
    "py.offline.init_notebook_mode(connected=True)"
   ]
  },
  {
   "cell_type": "code",
   "execution_count": null,
   "metadata": {
    "ExecuteTime": {
     "end_time": "2017-11-12T12:12:07.576419",
     "start_time": "2017-11-12T12:12:07.573724"
    },
    "collapsed": true
   },
   "outputs": [],
   "source": [
    "# Building blocks of Plotly plots\n",
    "import plotly.graph_objs as go"
   ]
  },
  {
   "cell_type": "code",
   "execution_count": null,
   "metadata": {
    "collapsed": true
   },
   "outputs": [],
   "source": [
    "# Constructing a figure\n",
    "import numpy as np\n",
    "x = np.linspace(0, 2*np.pi)\n",
    "\n",
    "# Traces\n",
    "trace0 = dict(type='scatter', x=x, y=np.sin(x))\n",
    "trace1 = dict(type='scatter', x=x, y=np.cos(x))\n",
    "\n",
    "# Figure\n",
    "fig = go.Figure(data=[trace0, trace1]) "
   ]
  },
  {
   "cell_type": "code",
   "execution_count": null,
   "metadata": {
    "ExecuteTime": {
     "end_time": "2017-11-13T22:24:57.042999",
     "start_time": "2017-11-13T22:24:56.957339"
    },
    "collapsed": true
   },
   "outputs": [],
   "source": [
    "# and now with a Layout\n",
    "x = np.linspace(0, 2*np.pi)\n",
    "\n",
    "# Traces\n",
    "trace0 = dict(type='scatter', x=x, y=np.sin(x), name='sin(x)')\n",
    "trace1 = dict(type='scatter', x=x, y=np.cos(x), name='cos(x)')\n",
    "\n",
    "# Layout\n",
    "layout = dict(title='SIN and COS functions',\n",
    "              xaxis=dict(title='x'),\n",
    "              yaxis=dict(title='f(x)'))\n",
    "\n",
    "# Figure\n",
    "fig = go.Figure(data=[trace0, trace1], layout=layout) "
   ]
  },
  {
   "cell_type": "code",
   "execution_count": null,
   "metadata": {
    "ExecuteTime": {
     "end_time": "2017-11-13T22:24:57.789203",
     "start_time": "2017-11-13T22:24:57.758932"
    }
   },
   "outputs": [],
   "source": [
    "# Display the result within the notebook:\n",
    "py.offline.iplot(fig)"
   ]
  },
  {
   "cell_type": "code",
   "execution_count": null,
   "metadata": {
    "ExecuteTime": {
     "end_time": "2017-11-13T22:46:07.022226",
     "start_time": "2017-11-13T22:46:07.009245"
    }
   },
   "outputs": [],
   "source": [
    "# Remove Plotly links for a cleaner layout\n",
    "config = dict(modeBarButtonsToRemove=['sendDataToCloud'],\n",
    "              displaylogo=False)\n",
    "        \n",
    "py.offline.iplot(fig,\n",
    "                 show_link=False,\n",
    "                 config=config)"
   ]
  },
  {
   "cell_type": "code",
   "execution_count": null,
   "metadata": {
    "ExecuteTime": {
     "end_time": "2017-11-13T22:25:40.079243",
     "start_time": "2017-11-13T22:25:38.858143"
    },
    "collapsed": true
   },
   "outputs": [],
   "source": [
    "# Export it as static image\n",
    "py.plotly.image.save_as(fig, filename='sin_cos.png')"
   ]
  },
  {
   "cell_type": "code",
   "execution_count": null,
   "metadata": {
    "ExecuteTime": {
     "end_time": "2017-11-13T22:26:41.289815",
     "start_time": "2017-11-13T22:26:40.983484"
    }
   },
   "outputs": [],
   "source": [
    "# Create a stand-alone html file \n",
    "py.offline.plot(fig, filename='sin_cos.html') "
   ]
  },
  {
   "cell_type": "code",
   "execution_count": null,
   "metadata": {
    "ExecuteTime": {
     "end_time": "2017-11-13T22:27:13.911896",
     "start_time": "2017-11-13T22:27:13.904308"
    },
    "collapsed": true
   },
   "outputs": [],
   "source": [
    "# or just a <div> element with the plot to embed in your web page\n",
    "div_str = py.offline.plot(fig, output_type='div', include_plotlyjs=False)"
   ]
  },
  {
   "cell_type": "code",
   "execution_count": null,
   "metadata": {
    "ExecuteTime": {
     "end_time": "2017-11-13T22:27:41.144619",
     "start_time": "2017-11-13T22:27:41.138060"
    },
    "collapsed": true
   },
   "outputs": [],
   "source": [
    "with open('sin_cos_as_div.html', 'w') as f:\n",
    "    f.write(div_str)"
   ]
  },
  {
   "cell_type": "code",
   "execution_count": null,
   "metadata": {
    "ExecuteTime": {
     "end_time": "2017-11-13T22:29:47.016024",
     "start_time": "2017-11-13T22:29:47.009300"
    },
    "collapsed": true
   },
   "outputs": [],
   "source": [
    "# To share it via the Plotly cloud, a Plotly account is necessary (possible for free)\n",
    "# and the credentials should be configured:\n",
    "import os\n",
    "PLOTLY_API_KEY = os.environ.get('PLOTLY_API_KEY')\n",
    "py.tools.set_credentials_file(username='jmb.jesus', api_key=PLOTLY_API_KEY)"
   ]
  },
  {
   "cell_type": "code",
   "execution_count": null,
   "metadata": {
    "ExecuteTime": {
     "end_time": "2017-11-13T22:30:38.454564",
     "start_time": "2017-11-13T22:30:36.347582"
    }
   },
   "outputs": [],
   "source": [
    "# Share it via the Plotly cloud\n",
    "py.plotly.plot(fig, filename='sin_cos', sharing='public')"
   ]
  },
  {
   "cell_type": "markdown",
   "metadata": {},
   "source": [
    "### Cufflinks"
   ]
  },
  {
   "cell_type": "code",
   "execution_count": null,
   "metadata": {
    "ExecuteTime": {
     "end_time": "2017-11-14T21:46:47.258782",
     "start_time": "2017-11-14T21:46:45.284009"
    }
   },
   "outputs": [],
   "source": [
    "import cufflinks as cf\n",
    "\n",
    "# Configure it to work offline:\n",
    "cf.go_offline(connected=True)"
   ]
  },
  {
   "cell_type": "code",
   "execution_count": null,
   "metadata": {
    "ExecuteTime": {
     "end_time": "2017-11-14T21:49:48.985151",
     "start_time": "2017-11-14T21:49:48.975186"
    }
   },
   "outputs": [],
   "source": [
    "# A random dataframe as example\n",
    "import pandas as pd\n",
    "\n",
    "df = pd.DataFrame({'Column A':[2,5,3,4,1],\n",
    "                   'Column B':[6,2,4,1,8]})"
   ]
  },
  {
   "cell_type": "code",
   "execution_count": null,
   "metadata": {
    "ExecuteTime": {
     "end_time": "2017-11-14T22:21:39.537653",
     "start_time": "2017-11-14T22:21:39.516860"
    }
   },
   "outputs": [],
   "source": [
    "# Set layout assets individually\n",
    "df.iplot(kind='bar', title='An example', xTitle='index', yTitle='value')"
   ]
  },
  {
   "cell_type": "code",
   "execution_count": null,
   "metadata": {
    "ExecuteTime": {
     "end_time": "2017-11-14T22:25:21.233350",
     "start_time": "2017-11-14T22:25:21.204732"
    }
   },
   "outputs": [],
   "source": [
    "# Set layout as a whole:\n",
    "layout = dict(title='An example',\n",
    "              xaxis=dict(title='index'),\n",
    "              yaxis=dict(title='value'))\n",
    "\n",
    "df.iplot(kind='bar', \n",
    "         layout=layout)"
   ]
  },
  {
   "cell_type": "code",
   "execution_count": null,
   "metadata": {},
   "outputs": [],
   "source": [
    "py.tools.set_credentials_file(username='jmb.jesus', api_key=PLOTLY_API_KEY)"
   ]
  },
  {
   "cell_type": "code",
   "execution_count": null,
   "metadata": {
    "ExecuteTime": {
     "end_time": "2017-11-14T22:26:02.132465",
     "start_time": "2017-11-14T22:25:59.552713"
    }
   },
   "outputs": [],
   "source": [
    "fig = df.iplot(kind='bar',\n",
    "               layout=layout, \n",
    "               asFigure=True)\n",
    "\n",
    "py.plotly.plot(fig, filename='cufflinks_example', sharing='public')"
   ]
  },
  {
   "cell_type": "code",
   "execution_count": null,
   "metadata": {
    "ExecuteTime": {
     "end_time": "2017-11-14T21:55:56.124747",
     "start_time": "2017-11-14T21:55:56.102620"
    }
   },
   "outputs": [],
   "source": [
    "# Use asFigure=True to return a Plotly figure...\n",
    "fig = df.iplot(kind='bar',\n",
    "               layout=layout,\n",
    "               asFigure=True)\n",
    "\n",
    "# ... that can be manipulated as such:\n",
    "div_str = py.offline.plot(fig,\n",
    "                          output_type='div',\n",
    "                          include_plotlyjs=False)"
   ]
  }
 ],
 "metadata": {
  "kernelspec": {
   "display_name": "Python 3",
   "language": "python",
   "name": "python3"
  },
  "language_info": {
   "codemirror_mode": {
    "name": "ipython",
    "version": 3
   },
   "file_extension": ".py",
   "mimetype": "text/x-python",
   "name": "python",
   "nbconvert_exporter": "python",
   "pygments_lexer": "ipython3",
   "version": "3.7.1"
  },
  "toc": {
   "toc_cell": false,
   "toc_number_sections": true,
   "toc_section_display": "block",
   "toc_threshold": 6,
   "toc_window_display": false
  },
  "toc_position": {
   "height": "151px",
   "left": "760.891px",
   "right": "20px",
   "top": "185px",
   "width": "286px"
  },
  "widgets": {
   "state": {},
   "version": "1.1.2"
  }
 },
 "nbformat": 4,
 "nbformat_minor": 2
}
