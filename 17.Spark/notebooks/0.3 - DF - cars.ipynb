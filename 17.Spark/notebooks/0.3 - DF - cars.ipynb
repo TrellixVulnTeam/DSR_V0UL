{
 "cells": [
  {
   "cell_type": "code",
   "execution_count": 1,
   "metadata": {},
   "outputs": [],
   "source": [
    "import pyspark\n",
    "sc = pyspark.SparkContext('local[*]')"
   ]
  },
  {
   "cell_type": "code",
   "execution_count": 2,
   "metadata": {},
   "outputs": [],
   "source": [
    "# needed whenever working with spark dataframes\n",
    "from pyspark.sql import *\n",
    "!rm -rf metastore_db/\n",
    "sqlContext = SQLContext(sc)"
   ]
  },
  {
   "cell_type": "code",
   "execution_count": 3,
   "metadata": {},
   "outputs": [
    {
     "name": "stdout",
     "output_type": "stream",
     "text": [
      "--2019-03-15 14:13:53--  https://ibm.box.com/shared/static/f1dhhjnzjwxmy2c1ys2whvrgz05d1pui.csv\n",
      "Resolving ibm.box.com (ibm.box.com)... 185.235.236.197\n",
      "Connecting to ibm.box.com (ibm.box.com)|185.235.236.197|:443... connected.\n",
      "HTTP request sent, awaiting response... 301 Moved Permanently\n",
      "Location: /public/static/f1dhhjnzjwxmy2c1ys2whvrgz05d1pui.csv [following]\n",
      "--2019-03-15 14:13:54--  https://ibm.box.com/public/static/f1dhhjnzjwxmy2c1ys2whvrgz05d1pui.csv\n",
      "Reusing existing connection to ibm.box.com:443.\n",
      "HTTP request sent, awaiting response... 301 Moved Permanently\n",
      "Location: https://ibm.ent.box.com/public/static/f1dhhjnzjwxmy2c1ys2whvrgz05d1pui.csv [following]\n",
      "--2019-03-15 14:13:55--  https://ibm.ent.box.com/public/static/f1dhhjnzjwxmy2c1ys2whvrgz05d1pui.csv\n",
      "Resolving ibm.ent.box.com (ibm.ent.box.com)... 185.235.236.211\n",
      "Connecting to ibm.ent.box.com (ibm.ent.box.com)|185.235.236.211|:443... connected.\n",
      "HTTP request sent, awaiting response... 302 Found\n",
      "Location: https://public.boxcloud.com/d/1/b1!KxDLZMEsaGETnsaTVwf2ET23qS8NmnQClqqNAl60AAv8slK9kuVB7DPqZBrH0ohCi6OZbYH8YDCwjrKnad0agxCCihj1FaLbGVQAN1XScA-Kq7oygwMi7SRRZ4DKomQc6QK1xXV9T9ECZDAizfU_yajmLhKd_ip4cmrTSxnYxxv21aI-YbgDru1G0w67NoCbJL4q8hDHaL-1Tn6OPY1p3VsYYqgzp5WGXVmUnIYeYRRir1CX7eEGij2shVLvSWOAvRKIXEFwjSgNKURweEFVAxRBh5LoH-mgLIDh9fTqQ_6UySUlvXAsf7DaTICc70kGhaCrJ1wdSiGEhrvg9aX_WKtAzxTCHTMYO3fs96GOBZmDBsd763Tdgtj-CBiTSflMH5K06eDwpKkcLiRY2MKi4m-yeMQ2uGVh5uCtjqLrOj7PlnjtyZSyUpZ8BIw8gK4tWRVQKvwUF9QhLSAAvFrDOe5u6IGXMESQsRzY9ic_978DXjdjK3MU-crZeXSJJAWSWBaOZLDXnDnJbBPUvcyLcuR_t6MU-U12K8pogFzstPhzFNM-ue8sUeL9D-VlGsbohACRbLG9o-4SaUd-jD3CwOhwlTvPhzNlKxaVFzylrbGIL5QpuuhaDTYI0h3FfqLzG8VrYJRcgpbc6_dzWUHis7mmHY_bWV8w35GQViSnX7dNcjGbHxuNgKcDzmEz6Qb8Vsc28H_UvlN7ZVK-8n3VQm__Xf3y4MpJlvzZDbI0seBUa4MfMYcMmozicS7x3YPLt6V-Q7pfWcM3uwNPp2akGqdqzjWU95WaqdSw98qislmDV2lKSuqWXiWrZ9L7stoQiPNqhHNmMAak_UbMYPo-U1iS3XwCjI_0sQlv0I8Hn9KAErC-s5FwchynJWxMisCALXBCvQaNKtHoIlhrjrPs7Y69XE1E1vWG0k9DZpOdPbWC6wmf59u4KW3px_95_ShmkqHjy8H9gBcbwCw6KdATI1ynT5E1M6lOi5CMjMMSHUB5w3ESytIr1wYA0j4uWf5BTdTABFh8oji1dl4u7E3lYl0aiwjxCRNzyFloqKxam3rdFR57JG3AfTRzfTwpWDrx618b3VKcd0vq3VZHDjZ6WIt5-GAx7VGrN4QfcYrCf7ydHchTLOSS53OP4Xyr6S8qMknqXocoZ7nGPKIpgesqlZnfvrGk1x2yH_p2ukqksmjBw2bNxlhcHAI3S61A3f4o43jiHo8bXeDG1QL-AYOt_tPryjnS4LkzP61IJGMH59KfyNTkG3EMylruR1P1aNGm8brsEDcOAO2Xlk1XzXnd5wgb9eAPVkKTmSj_qhwMeNG2OplUBd1bogGLfQsHAgHxQLmmYLga0B1zCQWRmH7wwM1m8VztMWiG2RtIQjBjmyttpEyYbF4KaLGcHFe2cbhy9yKaol21r5ostA2Q_t-oCR0OVgBQHz6dJFuqprSSkwmZxNL_HpkHkZ7j/download [following]\n",
      "--2019-03-15 14:13:56--  https://public.boxcloud.com/d/1/b1!KxDLZMEsaGETnsaTVwf2ET23qS8NmnQClqqNAl60AAv8slK9kuVB7DPqZBrH0ohCi6OZbYH8YDCwjrKnad0agxCCihj1FaLbGVQAN1XScA-Kq7oygwMi7SRRZ4DKomQc6QK1xXV9T9ECZDAizfU_yajmLhKd_ip4cmrTSxnYxxv21aI-YbgDru1G0w67NoCbJL4q8hDHaL-1Tn6OPY1p3VsYYqgzp5WGXVmUnIYeYRRir1CX7eEGij2shVLvSWOAvRKIXEFwjSgNKURweEFVAxRBh5LoH-mgLIDh9fTqQ_6UySUlvXAsf7DaTICc70kGhaCrJ1wdSiGEhrvg9aX_WKtAzxTCHTMYO3fs96GOBZmDBsd763Tdgtj-CBiTSflMH5K06eDwpKkcLiRY2MKi4m-yeMQ2uGVh5uCtjqLrOj7PlnjtyZSyUpZ8BIw8gK4tWRVQKvwUF9QhLSAAvFrDOe5u6IGXMESQsRzY9ic_978DXjdjK3MU-crZeXSJJAWSWBaOZLDXnDnJbBPUvcyLcuR_t6MU-U12K8pogFzstPhzFNM-ue8sUeL9D-VlGsbohACRbLG9o-4SaUd-jD3CwOhwlTvPhzNlKxaVFzylrbGIL5QpuuhaDTYI0h3FfqLzG8VrYJRcgpbc6_dzWUHis7mmHY_bWV8w35GQViSnX7dNcjGbHxuNgKcDzmEz6Qb8Vsc28H_UvlN7ZVK-8n3VQm__Xf3y4MpJlvzZDbI0seBUa4MfMYcMmozicS7x3YPLt6V-Q7pfWcM3uwNPp2akGqdqzjWU95WaqdSw98qislmDV2lKSuqWXiWrZ9L7stoQiPNqhHNmMAak_UbMYPo-U1iS3XwCjI_0sQlv0I8Hn9KAErC-s5FwchynJWxMisCALXBCvQaNKtHoIlhrjrPs7Y69XE1E1vWG0k9DZpOdPbWC6wmf59u4KW3px_95_ShmkqHjy8H9gBcbwCw6KdATI1ynT5E1M6lOi5CMjMMSHUB5w3ESytIr1wYA0j4uWf5BTdTABFh8oji1dl4u7E3lYl0aiwjxCRNzyFloqKxam3rdFR57JG3AfTRzfTwpWDrx618b3VKcd0vq3VZHDjZ6WIt5-GAx7VGrN4QfcYrCf7ydHchTLOSS53OP4Xyr6S8qMknqXocoZ7nGPKIpgesqlZnfvrGk1x2yH_p2ukqksmjBw2bNxlhcHAI3S61A3f4o43jiHo8bXeDG1QL-AYOt_tPryjnS4LkzP61IJGMH59KfyNTkG3EMylruR1P1aNGm8brsEDcOAO2Xlk1XzXnd5wgb9eAPVkKTmSj_qhwMeNG2OplUBd1bogGLfQsHAgHxQLmmYLga0B1zCQWRmH7wwM1m8VztMWiG2RtIQjBjmyttpEyYbF4KaLGcHFe2cbhy9yKaol21r5ostA2Q_t-oCR0OVgBQHz6dJFuqprSSkwmZxNL_HpkHkZ7j/download\n",
      "Resolving public.boxcloud.com (public.boxcloud.com)... 185.235.236.200\n",
      "Connecting to public.boxcloud.com (public.boxcloud.com)|185.235.236.200|:443... connected.\n",
      "HTTP request sent, awaiting response... 200 OK\n",
      "Length: 1697 (1.7K) [text/csv]\n",
      "Saving to: ‘f1dhhjnzjwxmy2c1ys2whvrgz05d1pui.csv’\n",
      "\n",
      "f1dhhjnzjwxmy2c1ys2 100%[===================>]   1.66K  --.-KB/s    in 0s      \n",
      "\n",
      "2019-03-15 14:13:56 (38.6 MB/s) - ‘f1dhhjnzjwxmy2c1ys2whvrgz05d1pui.csv’ saved [1697/1697]\n",
      "\n"
     ]
    }
   ],
   "source": [
    "!wget https://ibm.box.com/shared/static/f1dhhjnzjwxmy2c1ys2whvrgz05d1pui.csv"
   ]
  },
  {
   "cell_type": "code",
   "execution_count": 4,
   "metadata": {},
   "outputs": [],
   "source": [
    "# using inferschema is very handy, but adds a second pass over the data\n",
    "\n",
    "df = sqlContext.read.format('com.databricks.spark.csv')\\\n",
    "                .option('header', 'true')\\\n",
    "                .option('inferschema', 'true')\\\n",
    "                .option('mode', 'DROPMALFORMED')\\\n",
    "                .load('f1dhhjnzjwxmy2c1ys2whvrgz05d1pui.csv')"
   ]
  },
  {
   "cell_type": "code",
   "execution_count": 5,
   "metadata": {},
   "outputs": [
    {
     "data": {
      "text/plain": [
       "32"
      ]
     },
     "execution_count": 5,
     "metadata": {},
     "output_type": "execute_result"
    }
   ],
   "source": [
    "df.count()"
   ]
  },
  {
   "cell_type": "code",
   "execution_count": 6,
   "metadata": {},
   "outputs": [
    {
     "name": "stdout",
     "output_type": "stream",
     "text": [
      "root\n",
      " |-- car: string (nullable = true)\n",
      " |-- mpg: double (nullable = true)\n",
      " |-- cyl: integer (nullable = true)\n",
      " |-- disp: double (nullable = true)\n",
      " |-- hp: integer (nullable = true)\n",
      " |-- drat: double (nullable = true)\n",
      " |-- wt: double (nullable = true)\n",
      " |-- qsec: double (nullable = true)\n",
      " |-- vs: integer (nullable = true)\n",
      " |-- am: integer (nullable = true)\n",
      " |-- gear: integer (nullable = true)\n",
      " |-- carb: integer (nullable = true)\n",
      "\n"
     ]
    }
   ],
   "source": [
    "df.printSchema()"
   ]
  },
  {
   "cell_type": "code",
   "execution_count": 7,
   "metadata": {},
   "outputs": [
    {
     "name": "stdout",
     "output_type": "stream",
     "text": [
      "+-----------------+----+---+-----+---+----+-----+-----+---+---+----+----+\n",
      "|              car| mpg|cyl| disp| hp|drat|   wt| qsec| vs| am|gear|carb|\n",
      "+-----------------+----+---+-----+---+----+-----+-----+---+---+----+----+\n",
      "|        Mazda RX4|21.0|  6|160.0|110| 3.9| 2.62|16.46|  0|  1|   4|   4|\n",
      "|    Mazda RX4 Wag|21.0|  6|160.0|110| 3.9|2.875|17.02|  0|  1|   4|   4|\n",
      "|       Datsun 710|22.8|  4|108.0| 93|3.85| 2.32|18.61|  1|  1|   4|   1|\n",
      "|   Hornet 4 Drive|21.4|  6|258.0|110|3.08|3.215|19.44|  1|  0|   3|   1|\n",
      "|Hornet Sportabout|18.7|  8|360.0|175|3.15| 3.44|17.02|  0|  0|   3|   2|\n",
      "+-----------------+----+---+-----+---+----+-----+-----+---+---+----+----+\n",
      "only showing top 5 rows\n",
      "\n"
     ]
    }
   ],
   "source": [
    "df.show(5)"
   ]
  },
  {
   "cell_type": "code",
   "execution_count": 8,
   "metadata": {},
   "outputs": [
    {
     "name": "stdout",
     "output_type": "stream",
     "text": [
      "+-----------------+----+\n",
      "|              car| mpg|\n",
      "+-----------------+----+\n",
      "|        Mazda RX4|21.0|\n",
      "|    Mazda RX4 Wag|21.0|\n",
      "|       Datsun 710|22.8|\n",
      "|   Hornet 4 Drive|21.4|\n",
      "|Hornet Sportabout|18.7|\n",
      "+-----------------+----+\n",
      "only showing top 5 rows\n",
      "\n"
     ]
    }
   ],
   "source": [
    "df.select('car', 'mpg').show(5)"
   ]
  },
  {
   "cell_type": "code",
   "execution_count": 9,
   "metadata": {},
   "outputs": [
    {
     "name": "stdout",
     "output_type": "stream",
     "text": [
      "+-----------+----+---+-----+---+----+----+-----+---+---+----+----+\n",
      "|        car| mpg|cyl| disp| hp|drat|  wt| qsec| vs| am|gear|carb|\n",
      "+-----------+----+---+-----+---+----+----+-----+---+---+----+----+\n",
      "| Duster 360|14.3|  8|360.0|245|3.21|3.57|15.84|  0|  0|   3|   4|\n",
      "|  Merc 280C|17.8|  6|167.6|123|3.92|3.44| 18.9|  1|  0|   4|   4|\n",
      "| Merc 450SE|16.4|  8|275.8|180|3.07|4.07| 17.4|  0|  0|   3|   3|\n",
      "| Merc 450SL|17.3|  8|275.8|180|3.07|3.73| 17.6|  0|  0|   3|   3|\n",
      "|Merc 450SLC|15.2|  8|275.8|180|3.07|3.78| 18.0|  0|  0|   3|   3|\n",
      "+-----------+----+---+-----+---+----+----+-----+---+---+----+----+\n",
      "only showing top 5 rows\n",
      "\n"
     ]
    }
   ],
   "source": [
    "df.filter(df['mpg'] < 18).show(5)"
   ]
  },
  {
   "cell_type": "code",
   "execution_count": 10,
   "metadata": {},
   "outputs": [
    {
     "name": "stdout",
     "output_type": "stream",
     "text": [
      "+-----------+----+---+-----+---+----+----+-----+---+---+----+----+\n",
      "|        car| mpg|cyl| disp| hp|drat|  wt| qsec| vs| am|gear|carb|\n",
      "+-----------+----+---+-----+---+----+----+-----+---+---+----+----+\n",
      "| Duster 360|14.3|  8|360.0|245|3.21|3.57|15.84|  0|  0|   3|   4|\n",
      "|  Merc 280C|17.8|  6|167.6|123|3.92|3.44| 18.9|  1|  0|   4|   4|\n",
      "| Merc 450SE|16.4|  8|275.8|180|3.07|4.07| 17.4|  0|  0|   3|   3|\n",
      "| Merc 450SL|17.3|  8|275.8|180|3.07|3.73| 17.6|  0|  0|   3|   3|\n",
      "|Merc 450SLC|15.2|  8|275.8|180|3.07|3.78| 18.0|  0|  0|   3|   3|\n",
      "+-----------+----+---+-----+---+----+----+-----+---+---+----+----+\n",
      "only showing top 5 rows\n",
      "\n"
     ]
    }
   ],
   "source": [
    "# the filter can be just like a SQL where clause\n",
    "df.filter('mpg < 18').show(5)"
   ]
  },
  {
   "cell_type": "code",
   "execution_count": 11,
   "metadata": {},
   "outputs": [
    {
     "name": "stdout",
     "output_type": "stream",
     "text": [
      "+-----------------+----+---+-----+---+----+-----+-----+---+---+----+----+-------+\n",
      "|              car| mpg|cyl| disp| hp|drat|   wt| qsec| vs| am|gear|carb|  wtTon|\n",
      "+-----------------+----+---+-----+---+----+-----+-----+---+---+----+----+-------+\n",
      "|        Mazda RX4|21.0|  6|160.0|110| 3.9| 2.62|16.46|  0|  1|   4|   4|  1.179|\n",
      "|    Mazda RX4 Wag|21.0|  6|160.0|110| 3.9|2.875|17.02|  0|  1|   4|   4|1.29375|\n",
      "|       Datsun 710|22.8|  4|108.0| 93|3.85| 2.32|18.61|  1|  1|   4|   1|  1.044|\n",
      "|   Hornet 4 Drive|21.4|  6|258.0|110|3.08|3.215|19.44|  1|  0|   3|   1|1.44675|\n",
      "|Hornet Sportabout|18.7|  8|360.0|175|3.15| 3.44|17.02|  0|  0|   3|   2|  1.548|\n",
      "|          Valiant|18.1|  6|225.0|105|2.76| 3.46|20.22|  1|  0|   3|   1|  1.557|\n",
      "+-----------------+----+---+-----+---+----+-----+-----+---+---+----+----+-------+\n",
      "only showing top 6 rows\n",
      "\n"
     ]
    }
   ],
   "source": [
    "# dataframes are immutable -- withColumn creates a new one\n",
    "df.withColumn('wtTon', df['wt'] * 0.45).show(6)"
   ]
  },
  {
   "cell_type": "code",
   "execution_count": 12,
   "metadata": {},
   "outputs": [
    {
     "name": "stdout",
     "output_type": "stream",
     "text": [
      "+---+------------------+\n",
      "|cyl|           avg(wt)|\n",
      "+---+------------------+\n",
      "|  6| 3.117142857142857|\n",
      "|  4| 2.285727272727273|\n",
      "|  8|3.9992142857142867|\n",
      "+---+------------------+\n",
      "\n"
     ]
    }
   ],
   "source": [
    "df.groupby(['cyl'])\\\n",
    ".agg({\"wt\": \"AVG\"})\\\n",
    ".show(5)"
   ]
  },
  {
   "cell_type": "code",
   "execution_count": 13,
   "metadata": {},
   "outputs": [
    {
     "name": "stdout",
     "output_type": "stream",
     "text": [
      "+---+--------+\n",
      "|cyl|count(1)|\n",
      "+---+--------+\n",
      "|  8|      14|\n",
      "|  4|      11|\n",
      "|  6|       7|\n",
      "+---+--------+\n",
      "\n"
     ]
    }
   ],
   "source": [
    "car_counts = df.groupby(['cyl'])\\\n",
    ".agg({\"*\": \"count\"})\\\n",
    ".sort(\"count(1)\", ascending=False)\\\n",
    ".show(5)"
   ]
  },
  {
   "cell_type": "code",
   "execution_count": 14,
   "metadata": {},
   "outputs": [
    {
     "name": "stdout",
     "output_type": "stream",
     "text": [
      "+----+\n",
      "|gear|\n",
      "+----+\n",
      "|   4|\n",
      "|   4|\n",
      "|   4|\n",
      "|   3|\n",
      "|   3|\n",
      "|   3|\n",
      "+----+\n",
      "only showing top 6 rows\n",
      "\n"
     ]
    }
   ],
   "source": [
    "df.createOrReplaceTempView(\"cars\")\n",
    "\n",
    "# SQL statements can be run by using the sql method\n",
    "highgearcars = sqlContext.sql(\"SELECT gear FROM cars WHERE cyl >= 4 AND cyl <= 9\")\n",
    "highgearcars.show(6)"
   ]
  },
  {
   "cell_type": "markdown",
   "metadata": {
    "collapsed": true
   },
   "source": [
    "## Exercise 1:\n",
    "\n",
    "Step 1: Create a list of tuples (\"john\", 23), (\"mr. bean\", 56), (\"bill clinton\", 70)\n",
    "\n",
    "Step 2: Convert the list to a data frame with two columns\n",
    "\n",
    "Step 3: Filter the people with age < 40\n",
    "\n",
    "Step 4: Get the names ONLY of people smaller than 40\n",
    "\n",
    "Step 5: Register the dataframe as a SQL table\n",
    "\n",
    "Step 6: Select the names only of people whose age < 40\n",
    "\n",
    "Some hints: http://spark.apache.org/docs/latest/sql-programming-guide.html#generic-loadsave-functions\n",
    "\n",
    "## Exercise 2:\n",
    "\n",
    "Step 1: Create a list of tuple (\"john\", \"male\"), (\"hilary\", \"female\")\n",
    "\n",
    "Step 2: Join with the data from the previos exercise and output all males older than 50\n",
    "\n",
    "Hints: https://databricks.com/blog/2015/02/17/introducing-dataframes-in-spark-for-large-scale-data-science.html"
   ]
  },
  {
   "cell_type": "code",
   "execution_count": null,
   "metadata": {
    "collapsed": true
   },
   "outputs": [],
   "source": [
    "sc.stop()"
   ]
  },
  {
   "cell_type": "code",
   "execution_count": null,
   "metadata": {
    "collapsed": true
   },
   "outputs": [],
   "source": []
  }
 ],
 "metadata": {
  "anaconda-cloud": {},
  "kernelspec": {
   "display_name": "Python 3",
   "language": "python",
   "name": "python3"
  },
  "language_info": {
   "codemirror_mode": {
    "name": "ipython",
    "version": 3
   },
   "file_extension": ".py",
   "mimetype": "text/x-python",
   "name": "python",
   "nbconvert_exporter": "python",
   "pygments_lexer": "ipython3",
   "version": "3.6.4"
  }
 },
 "nbformat": 4,
 "nbformat_minor": 1
}
