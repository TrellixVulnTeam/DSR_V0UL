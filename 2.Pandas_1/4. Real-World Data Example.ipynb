{
 "cells": [
  {
   "cell_type": "markdown",
   "metadata": {},
   "source": [
    "Here, we look at a new dataset and try to answer some questions about it."
   ]
  },
  {
   "cell_type": "code",
   "execution_count": 1,
   "metadata": {},
   "outputs": [],
   "source": [
    "import pandas as pd"
   ]
  },
  {
   "cell_type": "code",
   "execution_count": 2,
   "metadata": {},
   "outputs": [],
   "source": [
    "df = pd.read_csv('data/iowa_liquor/Iowa_Liquor_Sales.csv', index_col=0)"
   ]
  },
  {
   "cell_type": "code",
   "execution_count": 3,
   "metadata": {},
   "outputs": [
    {
     "data": {
      "text/html": [
       "<div>\n",
       "<style scoped>\n",
       "    .dataframe tbody tr th:only-of-type {\n",
       "        vertical-align: middle;\n",
       "    }\n",
       "\n",
       "    .dataframe tbody tr th {\n",
       "        vertical-align: top;\n",
       "    }\n",
       "\n",
       "    .dataframe thead th {\n",
       "        text-align: right;\n",
       "    }\n",
       "</style>\n",
       "<table border=\"1\" class=\"dataframe\">\n",
       "  <thead>\n",
       "    <tr style=\"text-align: right;\">\n",
       "      <th></th>\n",
       "      <th>Invoice/Item Number</th>\n",
       "      <th>Date</th>\n",
       "      <th>Store Number</th>\n",
       "      <th>Store Name</th>\n",
       "      <th>Address</th>\n",
       "      <th>City</th>\n",
       "      <th>Zip Code</th>\n",
       "      <th>Store Location</th>\n",
       "      <th>County Number</th>\n",
       "      <th>County</th>\n",
       "      <th>...</th>\n",
       "      <th>Item Number</th>\n",
       "      <th>Item Description</th>\n",
       "      <th>Pack</th>\n",
       "      <th>Bottle Volume (ml)</th>\n",
       "      <th>State Bottle Cost</th>\n",
       "      <th>State Bottle Retail</th>\n",
       "      <th>Bottles Sold</th>\n",
       "      <th>Sale (Dollars)</th>\n",
       "      <th>Volume Sold (Liters)</th>\n",
       "      <th>Volume Sold (Gallons)</th>\n",
       "    </tr>\n",
       "  </thead>\n",
       "  <tbody>\n",
       "    <tr>\n",
       "      <th>0</th>\n",
       "      <td>S29198800001</td>\n",
       "      <td>11/20/2015</td>\n",
       "      <td>2191</td>\n",
       "      <td>Keokuk Spirits</td>\n",
       "      <td>1013 MAIN</td>\n",
       "      <td>KEOKUK</td>\n",
       "      <td>52632</td>\n",
       "      <td>1013 MAIN\\nKEOKUK 52632\\n(40.39978, -91.387531)</td>\n",
       "      <td>56.0</td>\n",
       "      <td>Lee</td>\n",
       "      <td>...</td>\n",
       "      <td>297</td>\n",
       "      <td>Templeton Rye w/Flask</td>\n",
       "      <td>6</td>\n",
       "      <td>750</td>\n",
       "      <td>$18.09</td>\n",
       "      <td>$27.14</td>\n",
       "      <td>6</td>\n",
       "      <td>$162.84</td>\n",
       "      <td>4.50</td>\n",
       "      <td>1.19</td>\n",
       "    </tr>\n",
       "    <tr>\n",
       "      <th>1</th>\n",
       "      <td>S29195400002</td>\n",
       "      <td>11/21/2015</td>\n",
       "      <td>2205</td>\n",
       "      <td>Ding's Honk And Holler</td>\n",
       "      <td>900 E WASHINGTON</td>\n",
       "      <td>CLARINDA</td>\n",
       "      <td>51632</td>\n",
       "      <td>900 E WASHINGTON\\nCLARINDA 51632\\n(40.739238, ...</td>\n",
       "      <td>73.0</td>\n",
       "      <td>Page</td>\n",
       "      <td>...</td>\n",
       "      <td>297</td>\n",
       "      <td>Templeton Rye w/Flask</td>\n",
       "      <td>6</td>\n",
       "      <td>750</td>\n",
       "      <td>$18.09</td>\n",
       "      <td>$27.14</td>\n",
       "      <td>12</td>\n",
       "      <td>$325.68</td>\n",
       "      <td>9.00</td>\n",
       "      <td>2.38</td>\n",
       "    </tr>\n",
       "    <tr>\n",
       "      <th>2</th>\n",
       "      <td>S29050300001</td>\n",
       "      <td>11/16/2015</td>\n",
       "      <td>3549</td>\n",
       "      <td>Quicker Liquor Store</td>\n",
       "      <td>1414 48TH ST</td>\n",
       "      <td>FORT MADISON</td>\n",
       "      <td>52627</td>\n",
       "      <td>1414 48TH ST\\nFORT MADISON 52627\\n(40.624226, ...</td>\n",
       "      <td>56.0</td>\n",
       "      <td>Lee</td>\n",
       "      <td>...</td>\n",
       "      <td>249</td>\n",
       "      <td>Disaronno Amaretto Cavalli Mignon 3-50ml Pack</td>\n",
       "      <td>20</td>\n",
       "      <td>150</td>\n",
       "      <td>$6.40</td>\n",
       "      <td>$9.60</td>\n",
       "      <td>2</td>\n",
       "      <td>$19.20</td>\n",
       "      <td>0.30</td>\n",
       "      <td>0.08</td>\n",
       "    </tr>\n",
       "    <tr>\n",
       "      <th>3</th>\n",
       "      <td>S28867700001</td>\n",
       "      <td>11/04/2015</td>\n",
       "      <td>2513</td>\n",
       "      <td>Hy-Vee Food Store #2 / Iowa City</td>\n",
       "      <td>812  S 1ST AVE</td>\n",
       "      <td>IOWA CITY</td>\n",
       "      <td>52240</td>\n",
       "      <td>812 S 1ST AVE\\nIOWA CITY 52240\\n</td>\n",
       "      <td>52.0</td>\n",
       "      <td>Johnson</td>\n",
       "      <td>...</td>\n",
       "      <td>237</td>\n",
       "      <td>Knob Creek w/ Crystal Decanter</td>\n",
       "      <td>3</td>\n",
       "      <td>1750</td>\n",
       "      <td>$35.55</td>\n",
       "      <td>$53.34</td>\n",
       "      <td>3</td>\n",
       "      <td>$160.02</td>\n",
       "      <td>5.25</td>\n",
       "      <td>1.39</td>\n",
       "    </tr>\n",
       "    <tr>\n",
       "      <th>4</th>\n",
       "      <td>S29050800001</td>\n",
       "      <td>11/17/2015</td>\n",
       "      <td>3942</td>\n",
       "      <td>Twin Town Liquor</td>\n",
       "      <td>104 HIGHWAY 30 WEST</td>\n",
       "      <td>TOLEDO</td>\n",
       "      <td>52342</td>\n",
       "      <td>104 HIGHWAY 30 WEST\\nTOLEDO 52342\\n(41.985887,...</td>\n",
       "      <td>86.0</td>\n",
       "      <td>Tama</td>\n",
       "      <td>...</td>\n",
       "      <td>249</td>\n",
       "      <td>Disaronno Amaretto Cavalli Mignon 3-50ml Pack</td>\n",
       "      <td>20</td>\n",
       "      <td>150</td>\n",
       "      <td>$6.40</td>\n",
       "      <td>$9.60</td>\n",
       "      <td>2</td>\n",
       "      <td>$19.20</td>\n",
       "      <td>0.30</td>\n",
       "      <td>0.08</td>\n",
       "    </tr>\n",
       "  </tbody>\n",
       "</table>\n",
       "<p>5 rows × 24 columns</p>\n",
       "</div>"
      ],
      "text/plain": [
       "  Invoice/Item Number        Date  Store Number  \\\n",
       "0        S29198800001  11/20/2015          2191   \n",
       "1        S29195400002  11/21/2015          2205   \n",
       "2        S29050300001  11/16/2015          3549   \n",
       "3        S28867700001  11/04/2015          2513   \n",
       "4        S29050800001  11/17/2015          3942   \n",
       "\n",
       "                         Store Name              Address          City  \\\n",
       "0                    Keokuk Spirits            1013 MAIN        KEOKUK   \n",
       "1            Ding's Honk And Holler     900 E WASHINGTON      CLARINDA   \n",
       "2              Quicker Liquor Store         1414 48TH ST  FORT MADISON   \n",
       "3  Hy-Vee Food Store #2 / Iowa City       812  S 1ST AVE     IOWA CITY   \n",
       "4                  Twin Town Liquor  104 HIGHWAY 30 WEST        TOLEDO   \n",
       "\n",
       "  Zip Code                                     Store Location  County Number  \\\n",
       "0    52632    1013 MAIN\\nKEOKUK 52632\\n(40.39978, -91.387531)           56.0   \n",
       "1    51632  900 E WASHINGTON\\nCLARINDA 51632\\n(40.739238, ...           73.0   \n",
       "2    52627  1414 48TH ST\\nFORT MADISON 52627\\n(40.624226, ...           56.0   \n",
       "3    52240                   812 S 1ST AVE\\nIOWA CITY 52240\\n           52.0   \n",
       "4    52342  104 HIGHWAY 30 WEST\\nTOLEDO 52342\\n(41.985887,...           86.0   \n",
       "\n",
       "    County          ...           Item Number  \\\n",
       "0      Lee          ...                   297   \n",
       "1     Page          ...                   297   \n",
       "2      Lee          ...                   249   \n",
       "3  Johnson          ...                   237   \n",
       "4     Tama          ...                   249   \n",
       "\n",
       "                                Item Description  Pack Bottle Volume (ml)  \\\n",
       "0                          Templeton Rye w/Flask     6                750   \n",
       "1                          Templeton Rye w/Flask     6                750   \n",
       "2  Disaronno Amaretto Cavalli Mignon 3-50ml Pack    20                150   \n",
       "3                 Knob Creek w/ Crystal Decanter     3               1750   \n",
       "4  Disaronno Amaretto Cavalli Mignon 3-50ml Pack    20                150   \n",
       "\n",
       "   State Bottle Cost State Bottle Retail  Bottles Sold  Sale (Dollars)  \\\n",
       "0             $18.09              $27.14             6         $162.84   \n",
       "1             $18.09              $27.14            12         $325.68   \n",
       "2              $6.40               $9.60             2          $19.20   \n",
       "3             $35.55              $53.34             3         $160.02   \n",
       "4              $6.40               $9.60             2          $19.20   \n",
       "\n",
       "  Volume Sold (Liters) Volume Sold (Gallons)  \n",
       "0                 4.50                  1.19  \n",
       "1                 9.00                  2.38  \n",
       "2                 0.30                  0.08  \n",
       "3                 5.25                  1.39  \n",
       "4                 0.30                  0.08  \n",
       "\n",
       "[5 rows x 24 columns]"
      ]
     },
     "execution_count": 3,
     "metadata": {},
     "output_type": "execute_result"
    }
   ],
   "source": [
    "df.head()"
   ]
  },
  {
   "cell_type": "code",
   "execution_count": 4,
   "metadata": {},
   "outputs": [
    {
     "data": {
      "text/plain": [
       "Index(['Invoice/Item Number', 'Date', 'Store Number', 'Store Name', 'Address',\n",
       "       'City', 'Zip Code', 'Store Location', 'County Number', 'County',\n",
       "       'Category', 'Category Name', 'Vendor Number', 'Vendor Name',\n",
       "       'Item Number', 'Item Description', 'Pack', 'Bottle Volume (ml)',\n",
       "       'State Bottle Cost', 'State Bottle Retail', 'Bottles Sold',\n",
       "       'Sale (Dollars)', 'Volume Sold (Liters)', 'Volume Sold (Gallons)'],\n",
       "      dtype='object')"
      ]
     },
     "execution_count": 4,
     "metadata": {},
     "output_type": "execute_result"
    }
   ],
   "source": [
    "df.columns"
   ]
  },
  {
   "cell_type": "code",
   "execution_count": 5,
   "metadata": {},
   "outputs": [
    {
     "data": {
      "text/plain": [
       "(100000, 24)"
      ]
     },
     "execution_count": 5,
     "metadata": {},
     "output_type": "execute_result"
    }
   ],
   "source": [
    "df.shape"
   ]
  },
  {
   "cell_type": "code",
   "execution_count": 6,
   "metadata": {},
   "outputs": [
    {
     "data": {
      "text/plain": [
       "Invoice/Item Number       object\n",
       "Date                      object\n",
       "Store Number               int64\n",
       "Store Name                object\n",
       "Address                   object\n",
       "City                      object\n",
       "Zip Code                  object\n",
       "Store Location            object\n",
       "County Number            float64\n",
       "County                    object\n",
       "Category                 float64\n",
       "Category Name             object\n",
       "Vendor Number            float64\n",
       "Vendor Name               object\n",
       "Item Number                int64\n",
       "Item Description          object\n",
       "Pack                       int64\n",
       "Bottle Volume (ml)         int64\n",
       "State Bottle Cost         object\n",
       "State Bottle Retail       object\n",
       "Bottles Sold               int64\n",
       "Sale (Dollars)            object\n",
       "Volume Sold (Liters)     float64\n",
       "Volume Sold (Gallons)    float64\n",
       "dtype: object"
      ]
     },
     "execution_count": 6,
     "metadata": {},
     "output_type": "execute_result"
    }
   ],
   "source": [
    "df.dtypes"
   ]
  },
  {
   "cell_type": "code",
   "execution_count": 7,
   "metadata": {},
   "outputs": [],
   "source": [
    "df['Sale (Dollars)'] = df['Sale (Dollars)'].str[1:]\n",
    "df['Sale (Dollars)'] = pd.to_numeric(df['Sale (Dollars)'])"
   ]
  },
  {
   "cell_type": "markdown",
   "metadata": {},
   "source": [
    "Or we can also do it this way:"
   ]
  },
  {
   "cell_type": "code",
   "execution_count": 8,
   "metadata": {},
   "outputs": [],
   "source": [
    "df = df.replace({'\\$': ''}, regex=True)"
   ]
  },
  {
   "cell_type": "code",
   "execution_count": 9,
   "metadata": {},
   "outputs": [
    {
     "data": {
      "text/html": [
       "<div>\n",
       "<style scoped>\n",
       "    .dataframe tbody tr th:only-of-type {\n",
       "        vertical-align: middle;\n",
       "    }\n",
       "\n",
       "    .dataframe tbody tr th {\n",
       "        vertical-align: top;\n",
       "    }\n",
       "\n",
       "    .dataframe thead th {\n",
       "        text-align: right;\n",
       "    }\n",
       "</style>\n",
       "<table border=\"1\" class=\"dataframe\">\n",
       "  <thead>\n",
       "    <tr style=\"text-align: right;\">\n",
       "      <th></th>\n",
       "      <th>Invoice/Item Number</th>\n",
       "      <th>Date</th>\n",
       "      <th>Store Number</th>\n",
       "      <th>Store Name</th>\n",
       "      <th>Address</th>\n",
       "      <th>City</th>\n",
       "      <th>Zip Code</th>\n",
       "      <th>Store Location</th>\n",
       "      <th>County Number</th>\n",
       "      <th>County</th>\n",
       "      <th>...</th>\n",
       "      <th>Item Number</th>\n",
       "      <th>Item Description</th>\n",
       "      <th>Pack</th>\n",
       "      <th>Bottle Volume (ml)</th>\n",
       "      <th>State Bottle Cost</th>\n",
       "      <th>State Bottle Retail</th>\n",
       "      <th>Bottles Sold</th>\n",
       "      <th>Sale (Dollars)</th>\n",
       "      <th>Volume Sold (Liters)</th>\n",
       "      <th>Volume Sold (Gallons)</th>\n",
       "    </tr>\n",
       "  </thead>\n",
       "  <tbody>\n",
       "    <tr>\n",
       "      <th>0</th>\n",
       "      <td>S29198800001</td>\n",
       "      <td>11/20/2015</td>\n",
       "      <td>2191</td>\n",
       "      <td>Keokuk Spirits</td>\n",
       "      <td>1013 MAIN</td>\n",
       "      <td>KEOKUK</td>\n",
       "      <td>52632</td>\n",
       "      <td>1013 MAIN\\nKEOKUK 52632\\n(40.39978, -91.387531)</td>\n",
       "      <td>56.0</td>\n",
       "      <td>Lee</td>\n",
       "      <td>...</td>\n",
       "      <td>297</td>\n",
       "      <td>Templeton Rye w/Flask</td>\n",
       "      <td>6</td>\n",
       "      <td>750</td>\n",
       "      <td>18.09</td>\n",
       "      <td>27.14</td>\n",
       "      <td>6</td>\n",
       "      <td>162.84</td>\n",
       "      <td>4.50</td>\n",
       "      <td>1.19</td>\n",
       "    </tr>\n",
       "    <tr>\n",
       "      <th>1</th>\n",
       "      <td>S29195400002</td>\n",
       "      <td>11/21/2015</td>\n",
       "      <td>2205</td>\n",
       "      <td>Ding's Honk And Holler</td>\n",
       "      <td>900 E WASHINGTON</td>\n",
       "      <td>CLARINDA</td>\n",
       "      <td>51632</td>\n",
       "      <td>900 E WASHINGTON\\nCLARINDA 51632\\n(40.739238, ...</td>\n",
       "      <td>73.0</td>\n",
       "      <td>Page</td>\n",
       "      <td>...</td>\n",
       "      <td>297</td>\n",
       "      <td>Templeton Rye w/Flask</td>\n",
       "      <td>6</td>\n",
       "      <td>750</td>\n",
       "      <td>18.09</td>\n",
       "      <td>27.14</td>\n",
       "      <td>12</td>\n",
       "      <td>325.68</td>\n",
       "      <td>9.00</td>\n",
       "      <td>2.38</td>\n",
       "    </tr>\n",
       "    <tr>\n",
       "      <th>2</th>\n",
       "      <td>S29050300001</td>\n",
       "      <td>11/16/2015</td>\n",
       "      <td>3549</td>\n",
       "      <td>Quicker Liquor Store</td>\n",
       "      <td>1414 48TH ST</td>\n",
       "      <td>FORT MADISON</td>\n",
       "      <td>52627</td>\n",
       "      <td>1414 48TH ST\\nFORT MADISON 52627\\n(40.624226, ...</td>\n",
       "      <td>56.0</td>\n",
       "      <td>Lee</td>\n",
       "      <td>...</td>\n",
       "      <td>249</td>\n",
       "      <td>Disaronno Amaretto Cavalli Mignon 3-50ml Pack</td>\n",
       "      <td>20</td>\n",
       "      <td>150</td>\n",
       "      <td>6.40</td>\n",
       "      <td>9.60</td>\n",
       "      <td>2</td>\n",
       "      <td>19.20</td>\n",
       "      <td>0.30</td>\n",
       "      <td>0.08</td>\n",
       "    </tr>\n",
       "    <tr>\n",
       "      <th>3</th>\n",
       "      <td>S28867700001</td>\n",
       "      <td>11/04/2015</td>\n",
       "      <td>2513</td>\n",
       "      <td>Hy-Vee Food Store #2 / Iowa City</td>\n",
       "      <td>812  S 1ST AVE</td>\n",
       "      <td>IOWA CITY</td>\n",
       "      <td>52240</td>\n",
       "      <td>812 S 1ST AVE\\nIOWA CITY 52240\\n</td>\n",
       "      <td>52.0</td>\n",
       "      <td>Johnson</td>\n",
       "      <td>...</td>\n",
       "      <td>237</td>\n",
       "      <td>Knob Creek w/ Crystal Decanter</td>\n",
       "      <td>3</td>\n",
       "      <td>1750</td>\n",
       "      <td>35.55</td>\n",
       "      <td>53.34</td>\n",
       "      <td>3</td>\n",
       "      <td>160.02</td>\n",
       "      <td>5.25</td>\n",
       "      <td>1.39</td>\n",
       "    </tr>\n",
       "    <tr>\n",
       "      <th>4</th>\n",
       "      <td>S29050800001</td>\n",
       "      <td>11/17/2015</td>\n",
       "      <td>3942</td>\n",
       "      <td>Twin Town Liquor</td>\n",
       "      <td>104 HIGHWAY 30 WEST</td>\n",
       "      <td>TOLEDO</td>\n",
       "      <td>52342</td>\n",
       "      <td>104 HIGHWAY 30 WEST\\nTOLEDO 52342\\n(41.985887,...</td>\n",
       "      <td>86.0</td>\n",
       "      <td>Tama</td>\n",
       "      <td>...</td>\n",
       "      <td>249</td>\n",
       "      <td>Disaronno Amaretto Cavalli Mignon 3-50ml Pack</td>\n",
       "      <td>20</td>\n",
       "      <td>150</td>\n",
       "      <td>6.40</td>\n",
       "      <td>9.60</td>\n",
       "      <td>2</td>\n",
       "      <td>19.20</td>\n",
       "      <td>0.30</td>\n",
       "      <td>0.08</td>\n",
       "    </tr>\n",
       "  </tbody>\n",
       "</table>\n",
       "<p>5 rows × 24 columns</p>\n",
       "</div>"
      ],
      "text/plain": [
       "  Invoice/Item Number        Date  Store Number  \\\n",
       "0        S29198800001  11/20/2015          2191   \n",
       "1        S29195400002  11/21/2015          2205   \n",
       "2        S29050300001  11/16/2015          3549   \n",
       "3        S28867700001  11/04/2015          2513   \n",
       "4        S29050800001  11/17/2015          3942   \n",
       "\n",
       "                         Store Name              Address          City  \\\n",
       "0                    Keokuk Spirits            1013 MAIN        KEOKUK   \n",
       "1            Ding's Honk And Holler     900 E WASHINGTON      CLARINDA   \n",
       "2              Quicker Liquor Store         1414 48TH ST  FORT MADISON   \n",
       "3  Hy-Vee Food Store #2 / Iowa City       812  S 1ST AVE     IOWA CITY   \n",
       "4                  Twin Town Liquor  104 HIGHWAY 30 WEST        TOLEDO   \n",
       "\n",
       "  Zip Code                                     Store Location  County Number  \\\n",
       "0    52632    1013 MAIN\\nKEOKUK 52632\\n(40.39978, -91.387531)           56.0   \n",
       "1    51632  900 E WASHINGTON\\nCLARINDA 51632\\n(40.739238, ...           73.0   \n",
       "2    52627  1414 48TH ST\\nFORT MADISON 52627\\n(40.624226, ...           56.0   \n",
       "3    52240                   812 S 1ST AVE\\nIOWA CITY 52240\\n           52.0   \n",
       "4    52342  104 HIGHWAY 30 WEST\\nTOLEDO 52342\\n(41.985887,...           86.0   \n",
       "\n",
       "    County          ...           Item Number  \\\n",
       "0      Lee          ...                   297   \n",
       "1     Page          ...                   297   \n",
       "2      Lee          ...                   249   \n",
       "3  Johnson          ...                   237   \n",
       "4     Tama          ...                   249   \n",
       "\n",
       "                                Item Description  Pack Bottle Volume (ml)  \\\n",
       "0                          Templeton Rye w/Flask     6                750   \n",
       "1                          Templeton Rye w/Flask     6                750   \n",
       "2  Disaronno Amaretto Cavalli Mignon 3-50ml Pack    20                150   \n",
       "3                 Knob Creek w/ Crystal Decanter     3               1750   \n",
       "4  Disaronno Amaretto Cavalli Mignon 3-50ml Pack    20                150   \n",
       "\n",
       "   State Bottle Cost State Bottle Retail  Bottles Sold  Sale (Dollars)  \\\n",
       "0              18.09               27.14             6          162.84   \n",
       "1              18.09               27.14            12          325.68   \n",
       "2               6.40                9.60             2           19.20   \n",
       "3              35.55               53.34             3          160.02   \n",
       "4               6.40                9.60             2           19.20   \n",
       "\n",
       "  Volume Sold (Liters) Volume Sold (Gallons)  \n",
       "0                 4.50                  1.19  \n",
       "1                 9.00                  2.38  \n",
       "2                 0.30                  0.08  \n",
       "3                 5.25                  1.39  \n",
       "4                 0.30                  0.08  \n",
       "\n",
       "[5 rows x 24 columns]"
      ]
     },
     "execution_count": 9,
     "metadata": {},
     "output_type": "execute_result"
    }
   ],
   "source": [
    "df.head()"
   ]
  },
  {
   "cell_type": "markdown",
   "metadata": {},
   "source": [
    "1) Which store had the highest total dollars of sales?\n",
    "    - Is this the same store that had the highest volume (in liters) of alcohol sold?"
   ]
  },
  {
   "cell_type": "code",
   "execution_count": 10,
   "metadata": {},
   "outputs": [
    {
     "data": {
      "text/plain": [
       "2633"
      ]
     },
     "execution_count": 10,
     "metadata": {},
     "output_type": "execute_result"
    }
   ],
   "source": [
    "df.groupby('Store Number').sum().sort_values(by='Sale (Dollars)', ascending=False).index[0]"
   ]
  },
  {
   "cell_type": "code",
   "execution_count": 11,
   "metadata": {},
   "outputs": [
    {
     "data": {
      "text/plain": [
       "2633"
      ]
     },
     "execution_count": 11,
     "metadata": {},
     "output_type": "execute_result"
    }
   ],
   "source": [
    "df.groupby('Store Number').sum().sort_values(by='Volume Sold (Liters)', ascending=False).index[0]"
   ]
  },
  {
   "cell_type": "markdown",
   "metadata": {},
   "source": [
    "2) Which item has the highest cost per liter?"
   ]
  },
  {
   "cell_type": "code",
   "execution_count": 12,
   "metadata": {},
   "outputs": [
    {
     "data": {
      "text/plain": [
       "'Macallan Sherry Cask 25 Year Old Scotch - HA'"
      ]
     },
     "execution_count": 12,
     "metadata": {},
     "output_type": "execute_result"
    }
   ],
   "source": [
    "items = df.groupby('Item Description').sum()\n",
    "items['cost_per_liter'] = items['Sale (Dollars)'] / items['Volume Sold (Liters)']\n",
    "items.sort_values(by='cost_per_liter', ascending=False).index[0]"
   ]
  },
  {
   "cell_type": "markdown",
   "metadata": {},
   "source": [
    "3) What is the most common pack size?"
   ]
  },
  {
   "cell_type": "code",
   "execution_count": 13,
   "metadata": {},
   "outputs": [
    {
     "data": {
      "text/plain": [
       "12"
      ]
     },
     "execution_count": 13,
     "metadata": {},
     "output_type": "execute_result"
    }
   ],
   "source": [
    "df.groupby('Pack').count().sort_values(by='Invoice/Item Number', ascending=False).index[0]"
   ]
  },
  {
   "cell_type": "markdown",
   "metadata": {},
   "source": [
    "4) What is the most commonly sold item?"
   ]
  },
  {
   "cell_type": "code",
   "execution_count": 14,
   "metadata": {},
   "outputs": [
    {
     "data": {
      "text/plain": [
       "'Black Velvet'"
      ]
     },
     "execution_count": 14,
     "metadata": {},
     "output_type": "execute_result"
    }
   ],
   "source": [
    "df.groupby('Item Description').sum().sort_values(by='Bottles Sold', ascending=False).index[0]"
   ]
  },
  {
   "cell_type": "markdown",
   "metadata": {},
   "source": [
    "5) What day in 2015 was the most money made? (Across all stores)"
   ]
  },
  {
   "cell_type": "code",
   "execution_count": null,
   "metadata": {},
   "outputs": [],
   "source": []
  },
  {
   "cell_type": "code",
   "execution_count": 15,
   "metadata": {},
   "outputs": [],
   "source": [
    "df['Date'] = pd.to_datetime(df['Date'])"
   ]
  },
  {
   "cell_type": "code",
   "execution_count": 16,
   "metadata": {},
   "outputs": [
    {
     "data": {
      "text/html": [
       "<div>\n",
       "<style scoped>\n",
       "    .dataframe tbody tr th:only-of-type {\n",
       "        vertical-align: middle;\n",
       "    }\n",
       "\n",
       "    .dataframe tbody tr th {\n",
       "        vertical-align: top;\n",
       "    }\n",
       "\n",
       "    .dataframe thead th {\n",
       "        text-align: right;\n",
       "    }\n",
       "</style>\n",
       "<table border=\"1\" class=\"dataframe\">\n",
       "  <thead>\n",
       "    <tr style=\"text-align: right;\">\n",
       "      <th></th>\n",
       "      <th>Invoice/Item Number</th>\n",
       "      <th>Store Number</th>\n",
       "      <th>Store Name</th>\n",
       "      <th>Address</th>\n",
       "      <th>City</th>\n",
       "      <th>Zip Code</th>\n",
       "      <th>Store Location</th>\n",
       "      <th>County Number</th>\n",
       "      <th>County</th>\n",
       "      <th>Category</th>\n",
       "      <th>...</th>\n",
       "      <th>Item Number</th>\n",
       "      <th>Item Description</th>\n",
       "      <th>Pack</th>\n",
       "      <th>Bottle Volume (ml)</th>\n",
       "      <th>State Bottle Cost</th>\n",
       "      <th>State Bottle Retail</th>\n",
       "      <th>Bottles Sold</th>\n",
       "      <th>Sale (Dollars)</th>\n",
       "      <th>Volume Sold (Liters)</th>\n",
       "      <th>Volume Sold (Gallons)</th>\n",
       "    </tr>\n",
       "    <tr>\n",
       "      <th>Date</th>\n",
       "      <th></th>\n",
       "      <th></th>\n",
       "      <th></th>\n",
       "      <th></th>\n",
       "      <th></th>\n",
       "      <th></th>\n",
       "      <th></th>\n",
       "      <th></th>\n",
       "      <th></th>\n",
       "      <th></th>\n",
       "      <th></th>\n",
       "      <th></th>\n",
       "      <th></th>\n",
       "      <th></th>\n",
       "      <th></th>\n",
       "      <th></th>\n",
       "      <th></th>\n",
       "      <th></th>\n",
       "      <th></th>\n",
       "      <th></th>\n",
       "      <th></th>\n",
       "    </tr>\n",
       "  </thead>\n",
       "  <tbody>\n",
       "    <tr>\n",
       "      <th>2015-11-20</th>\n",
       "      <td>S29198800001</td>\n",
       "      <td>2191</td>\n",
       "      <td>Keokuk Spirits</td>\n",
       "      <td>1013 MAIN</td>\n",
       "      <td>KEOKUK</td>\n",
       "      <td>52632</td>\n",
       "      <td>1013 MAIN\\nKEOKUK 52632\\n(40.39978, -91.387531)</td>\n",
       "      <td>56.0</td>\n",
       "      <td>Lee</td>\n",
       "      <td>NaN</td>\n",
       "      <td>...</td>\n",
       "      <td>297</td>\n",
       "      <td>Templeton Rye w/Flask</td>\n",
       "      <td>6</td>\n",
       "      <td>750</td>\n",
       "      <td>18.09</td>\n",
       "      <td>27.14</td>\n",
       "      <td>6</td>\n",
       "      <td>162.84</td>\n",
       "      <td>4.50</td>\n",
       "      <td>1.19</td>\n",
       "    </tr>\n",
       "    <tr>\n",
       "      <th>2015-11-21</th>\n",
       "      <td>S29195400002</td>\n",
       "      <td>2205</td>\n",
       "      <td>Ding's Honk And Holler</td>\n",
       "      <td>900 E WASHINGTON</td>\n",
       "      <td>CLARINDA</td>\n",
       "      <td>51632</td>\n",
       "      <td>900 E WASHINGTON\\nCLARINDA 51632\\n(40.739238, ...</td>\n",
       "      <td>73.0</td>\n",
       "      <td>Page</td>\n",
       "      <td>NaN</td>\n",
       "      <td>...</td>\n",
       "      <td>297</td>\n",
       "      <td>Templeton Rye w/Flask</td>\n",
       "      <td>6</td>\n",
       "      <td>750</td>\n",
       "      <td>18.09</td>\n",
       "      <td>27.14</td>\n",
       "      <td>12</td>\n",
       "      <td>325.68</td>\n",
       "      <td>9.00</td>\n",
       "      <td>2.38</td>\n",
       "    </tr>\n",
       "    <tr>\n",
       "      <th>2015-11-16</th>\n",
       "      <td>S29050300001</td>\n",
       "      <td>3549</td>\n",
       "      <td>Quicker Liquor Store</td>\n",
       "      <td>1414 48TH ST</td>\n",
       "      <td>FORT MADISON</td>\n",
       "      <td>52627</td>\n",
       "      <td>1414 48TH ST\\nFORT MADISON 52627\\n(40.624226, ...</td>\n",
       "      <td>56.0</td>\n",
       "      <td>Lee</td>\n",
       "      <td>NaN</td>\n",
       "      <td>...</td>\n",
       "      <td>249</td>\n",
       "      <td>Disaronno Amaretto Cavalli Mignon 3-50ml Pack</td>\n",
       "      <td>20</td>\n",
       "      <td>150</td>\n",
       "      <td>6.40</td>\n",
       "      <td>9.60</td>\n",
       "      <td>2</td>\n",
       "      <td>19.20</td>\n",
       "      <td>0.30</td>\n",
       "      <td>0.08</td>\n",
       "    </tr>\n",
       "    <tr>\n",
       "      <th>2015-11-04</th>\n",
       "      <td>S28867700001</td>\n",
       "      <td>2513</td>\n",
       "      <td>Hy-Vee Food Store #2 / Iowa City</td>\n",
       "      <td>812  S 1ST AVE</td>\n",
       "      <td>IOWA CITY</td>\n",
       "      <td>52240</td>\n",
       "      <td>812 S 1ST AVE\\nIOWA CITY 52240\\n</td>\n",
       "      <td>52.0</td>\n",
       "      <td>Johnson</td>\n",
       "      <td>NaN</td>\n",
       "      <td>...</td>\n",
       "      <td>237</td>\n",
       "      <td>Knob Creek w/ Crystal Decanter</td>\n",
       "      <td>3</td>\n",
       "      <td>1750</td>\n",
       "      <td>35.55</td>\n",
       "      <td>53.34</td>\n",
       "      <td>3</td>\n",
       "      <td>160.02</td>\n",
       "      <td>5.25</td>\n",
       "      <td>1.39</td>\n",
       "    </tr>\n",
       "    <tr>\n",
       "      <th>2015-11-17</th>\n",
       "      <td>S29050800001</td>\n",
       "      <td>3942</td>\n",
       "      <td>Twin Town Liquor</td>\n",
       "      <td>104 HIGHWAY 30 WEST</td>\n",
       "      <td>TOLEDO</td>\n",
       "      <td>52342</td>\n",
       "      <td>104 HIGHWAY 30 WEST\\nTOLEDO 52342\\n(41.985887,...</td>\n",
       "      <td>86.0</td>\n",
       "      <td>Tama</td>\n",
       "      <td>NaN</td>\n",
       "      <td>...</td>\n",
       "      <td>249</td>\n",
       "      <td>Disaronno Amaretto Cavalli Mignon 3-50ml Pack</td>\n",
       "      <td>20</td>\n",
       "      <td>150</td>\n",
       "      <td>6.40</td>\n",
       "      <td>9.60</td>\n",
       "      <td>2</td>\n",
       "      <td>19.20</td>\n",
       "      <td>0.30</td>\n",
       "      <td>0.08</td>\n",
       "    </tr>\n",
       "  </tbody>\n",
       "</table>\n",
       "<p>5 rows × 23 columns</p>\n",
       "</div>"
      ],
      "text/plain": [
       "           Invoice/Item Number  Store Number  \\\n",
       "Date                                           \n",
       "2015-11-20        S29198800001          2191   \n",
       "2015-11-21        S29195400002          2205   \n",
       "2015-11-16        S29050300001          3549   \n",
       "2015-11-04        S28867700001          2513   \n",
       "2015-11-17        S29050800001          3942   \n",
       "\n",
       "                                  Store Name              Address  \\\n",
       "Date                                                                \n",
       "2015-11-20                    Keokuk Spirits            1013 MAIN   \n",
       "2015-11-21            Ding's Honk And Holler     900 E WASHINGTON   \n",
       "2015-11-16              Quicker Liquor Store         1414 48TH ST   \n",
       "2015-11-04  Hy-Vee Food Store #2 / Iowa City       812  S 1ST AVE   \n",
       "2015-11-17                  Twin Town Liquor  104 HIGHWAY 30 WEST   \n",
       "\n",
       "                    City Zip Code  \\\n",
       "Date                                \n",
       "2015-11-20        KEOKUK    52632   \n",
       "2015-11-21      CLARINDA    51632   \n",
       "2015-11-16  FORT MADISON    52627   \n",
       "2015-11-04     IOWA CITY    52240   \n",
       "2015-11-17        TOLEDO    52342   \n",
       "\n",
       "                                               Store Location  County Number  \\\n",
       "Date                                                                           \n",
       "2015-11-20    1013 MAIN\\nKEOKUK 52632\\n(40.39978, -91.387531)           56.0   \n",
       "2015-11-21  900 E WASHINGTON\\nCLARINDA 51632\\n(40.739238, ...           73.0   \n",
       "2015-11-16  1414 48TH ST\\nFORT MADISON 52627\\n(40.624226, ...           56.0   \n",
       "2015-11-04                   812 S 1ST AVE\\nIOWA CITY 52240\\n           52.0   \n",
       "2015-11-17  104 HIGHWAY 30 WEST\\nTOLEDO 52342\\n(41.985887,...           86.0   \n",
       "\n",
       "             County  Category          ...           Item Number  \\\n",
       "Date                                   ...                         \n",
       "2015-11-20      Lee       NaN          ...                   297   \n",
       "2015-11-21     Page       NaN          ...                   297   \n",
       "2015-11-16      Lee       NaN          ...                   249   \n",
       "2015-11-04  Johnson       NaN          ...                   237   \n",
       "2015-11-17     Tama       NaN          ...                   249   \n",
       "\n",
       "                                         Item Description Pack  \\\n",
       "Date                                                             \n",
       "2015-11-20                          Templeton Rye w/Flask    6   \n",
       "2015-11-21                          Templeton Rye w/Flask    6   \n",
       "2015-11-16  Disaronno Amaretto Cavalli Mignon 3-50ml Pack   20   \n",
       "2015-11-04                 Knob Creek w/ Crystal Decanter    3   \n",
       "2015-11-17  Disaronno Amaretto Cavalli Mignon 3-50ml Pack   20   \n",
       "\n",
       "            Bottle Volume (ml) State Bottle Cost  State Bottle Retail  \\\n",
       "Date                                                                    \n",
       "2015-11-20                 750             18.09                27.14   \n",
       "2015-11-21                 750             18.09                27.14   \n",
       "2015-11-16                 150              6.40                 9.60   \n",
       "2015-11-04                1750             35.55                53.34   \n",
       "2015-11-17                 150              6.40                 9.60   \n",
       "\n",
       "            Bottles Sold Sale (Dollars) Volume Sold (Liters)  \\\n",
       "Date                                                           \n",
       "2015-11-20             6         162.84                 4.50   \n",
       "2015-11-21            12         325.68                 9.00   \n",
       "2015-11-16             2          19.20                 0.30   \n",
       "2015-11-04             3         160.02                 5.25   \n",
       "2015-11-17             2          19.20                 0.30   \n",
       "\n",
       "            Volume Sold (Gallons)  \n",
       "Date                               \n",
       "2015-11-20                   1.19  \n",
       "2015-11-21                   2.38  \n",
       "2015-11-16                   0.08  \n",
       "2015-11-04                   1.39  \n",
       "2015-11-17                   0.08  \n",
       "\n",
       "[5 rows x 23 columns]"
      ]
     },
     "execution_count": 16,
     "metadata": {},
     "output_type": "execute_result"
    }
   ],
   "source": [
    "date = df.set_index('Date')\n",
    "date.head()"
   ]
  },
  {
   "cell_type": "code",
   "execution_count": 17,
   "metadata": {},
   "outputs": [],
   "source": [
    "daily_sales = date.groupby([date.index.year, date.index.month, date.index.day]).sum()['Sale (Dollars)']"
   ]
  },
  {
   "cell_type": "code",
   "execution_count": 19,
   "metadata": {},
   "outputs": [
    {
     "data": {
      "text/plain": [
       "(2015, 3, 16)"
      ]
     },
     "execution_count": 19,
     "metadata": {},
     "output_type": "execute_result"
    }
   ],
   "source": [
    "daily_sales.loc[(daily_sales.index.get_level_values(level=0) == 2015)].idxmax()"
   ]
  },
  {
   "cell_type": "markdown",
   "metadata": {},
   "source": [
    "6) Which zip code drinks the most? (in liters)"
   ]
  },
  {
   "cell_type": "code",
   "execution_count": 20,
   "metadata": {},
   "outputs": [
    {
     "data": {
      "text/plain": [
       "'52402'"
      ]
     },
     "execution_count": 20,
     "metadata": {},
     "output_type": "execute_result"
    }
   ],
   "source": [
    "df.groupby(['Zip Code']).sum()['Volume Sold (Liters)'].idxmax()"
   ]
  },
  {
   "cell_type": "markdown",
   "metadata": {},
   "source": [
    "7) Does the data set contain any null values?"
   ]
  },
  {
   "cell_type": "code",
   "execution_count": 21,
   "metadata": {},
   "outputs": [
    {
     "data": {
      "text/plain": [
       "Invoice/Item Number      False\n",
       "Date                     False\n",
       "Store Number             False\n",
       "Store Name               False\n",
       "Address                  False\n",
       "City                     False\n",
       "Zip Code                 False\n",
       "Store Location           False\n",
       "County Number             True\n",
       "County                    True\n",
       "Category                  True\n",
       "Category Name             True\n",
       "Vendor Number            False\n",
       "Vendor Name              False\n",
       "Item Number              False\n",
       "Item Description         False\n",
       "Pack                     False\n",
       "Bottle Volume (ml)       False\n",
       "State Bottle Cost        False\n",
       "State Bottle Retail      False\n",
       "Bottles Sold             False\n",
       "Sale (Dollars)           False\n",
       "Volume Sold (Liters)     False\n",
       "Volume Sold (Gallons)    False\n",
       "dtype: bool"
      ]
     },
     "execution_count": 21,
     "metadata": {},
     "output_type": "execute_result"
    }
   ],
   "source": [
    "df.isnull().any()"
   ]
  },
  {
   "cell_type": "markdown",
   "metadata": {},
   "source": [
    "8) What is the average state bottle cost?\n",
    "    - Max cost?\n",
    "    - Min cost?\n",
    "    - 50%?"
   ]
  },
  {
   "cell_type": "code",
   "execution_count": 22,
   "metadata": {},
   "outputs": [
    {
     "name": "stdout",
     "output_type": "stream",
     "text": [
      "9.4551807\n",
      "563.4\n",
      "0.0\n",
      "7.87\n"
     ]
    }
   ],
   "source": [
    "df['State Bottle Cost'] = pd.to_numeric(df['State Bottle Cost'])\n",
    "print(df['State Bottle Cost'].mean())\n",
    "print(df['State Bottle Cost'].max())\n",
    "print(df['State Bottle Cost'].min())\n",
    "print(df['State Bottle Cost'].median())"
   ]
  },
  {
   "cell_type": "markdown",
   "metadata": {},
   "source": [
    "9) What is the total volume sold in Iowa City in 2013?"
   ]
  },
  {
   "cell_type": "code",
   "execution_count": 36,
   "metadata": {},
   "outputs": [
    {
     "data": {
      "text/plain": [
       "221990.70000000004"
      ]
     },
     "execution_count": 36,
     "metadata": {},
     "output_type": "execute_result"
    }
   ],
   "source": [
    "daily = date.groupby([date.index.year, date.index.month, date.index.day]).sum()\n",
    "daily.loc[(daily.index.get_level_values(level=0) == 2013)].sum()['Volume Sold (Liters)']"
   ]
  },
  {
   "cell_type": "markdown",
   "metadata": {},
   "source": [
    "10) Which month (average, across all years) sees the highest sales?"
   ]
  },
  {
   "cell_type": "code",
   "execution_count": 39,
   "metadata": {},
   "outputs": [
    {
     "ename": "ValueError",
     "evalue": "cannot insert Date, already exists",
     "output_type": "error",
     "traceback": [
      "\u001b[0;31m---------------------------------------------------------------------------\u001b[0m",
      "\u001b[0;31mValueError\u001b[0m                                Traceback (most recent call last)",
      "\u001b[0;32m<ipython-input-39-e3b8cb110260>\u001b[0m in \u001b[0;36m<module>\u001b[0;34m\u001b[0m\n\u001b[0;32m----> 1\u001b[0;31m \u001b[0mdaily\u001b[0m\u001b[0;34m.\u001b[0m\u001b[0mreset_index\u001b[0m\u001b[0;34m(\u001b[0m\u001b[0;34m)\u001b[0m\u001b[0;34m\u001b[0m\u001b[0;34m\u001b[0m\u001b[0m\n\u001b[0m",
      "\u001b[0;32m~/miniconda3/lib/python3.6/site-packages/pandas/core/frame.py\u001b[0m in \u001b[0;36mreset_index\u001b[0;34m(self, level, drop, inplace, col_level, col_fill)\u001b[0m\n\u001b[1;32m   4137\u001b[0m                 \u001b[0;31m# to ndarray and maybe infer different dtype\u001b[0m\u001b[0;34m\u001b[0m\u001b[0;34m\u001b[0m\u001b[0;34m\u001b[0m\u001b[0m\n\u001b[1;32m   4138\u001b[0m                 \u001b[0mlevel_values\u001b[0m \u001b[0;34m=\u001b[0m \u001b[0m_maybe_casted_values\u001b[0m\u001b[0;34m(\u001b[0m\u001b[0mlev\u001b[0m\u001b[0;34m,\u001b[0m \u001b[0mlab\u001b[0m\u001b[0;34m)\u001b[0m\u001b[0;34m\u001b[0m\u001b[0;34m\u001b[0m\u001b[0m\n\u001b[0;32m-> 4139\u001b[0;31m                 \u001b[0mnew_obj\u001b[0m\u001b[0;34m.\u001b[0m\u001b[0minsert\u001b[0m\u001b[0;34m(\u001b[0m\u001b[0;36m0\u001b[0m\u001b[0;34m,\u001b[0m \u001b[0mname\u001b[0m\u001b[0;34m,\u001b[0m \u001b[0mlevel_values\u001b[0m\u001b[0;34m)\u001b[0m\u001b[0;34m\u001b[0m\u001b[0;34m\u001b[0m\u001b[0m\n\u001b[0m\u001b[1;32m   4140\u001b[0m \u001b[0;34m\u001b[0m\u001b[0m\n\u001b[1;32m   4141\u001b[0m         \u001b[0mnew_obj\u001b[0m\u001b[0;34m.\u001b[0m\u001b[0mindex\u001b[0m \u001b[0;34m=\u001b[0m \u001b[0mnew_index\u001b[0m\u001b[0;34m\u001b[0m\u001b[0;34m\u001b[0m\u001b[0m\n",
      "\u001b[0;32m~/miniconda3/lib/python3.6/site-packages/pandas/core/frame.py\u001b[0m in \u001b[0;36minsert\u001b[0;34m(self, loc, column, value, allow_duplicates)\u001b[0m\n\u001b[1;32m   3220\u001b[0m         \u001b[0mvalue\u001b[0m \u001b[0;34m=\u001b[0m \u001b[0mself\u001b[0m\u001b[0;34m.\u001b[0m\u001b[0m_sanitize_column\u001b[0m\u001b[0;34m(\u001b[0m\u001b[0mcolumn\u001b[0m\u001b[0;34m,\u001b[0m \u001b[0mvalue\u001b[0m\u001b[0;34m,\u001b[0m \u001b[0mbroadcast\u001b[0m\u001b[0;34m=\u001b[0m\u001b[0;32mFalse\u001b[0m\u001b[0;34m)\u001b[0m\u001b[0;34m\u001b[0m\u001b[0;34m\u001b[0m\u001b[0m\n\u001b[1;32m   3221\u001b[0m         self._data.insert(loc, column, value,\n\u001b[0;32m-> 3222\u001b[0;31m                           allow_duplicates=allow_duplicates)\n\u001b[0m\u001b[1;32m   3223\u001b[0m \u001b[0;34m\u001b[0m\u001b[0m\n\u001b[1;32m   3224\u001b[0m     \u001b[0;32mdef\u001b[0m \u001b[0massign\u001b[0m\u001b[0;34m(\u001b[0m\u001b[0mself\u001b[0m\u001b[0;34m,\u001b[0m \u001b[0;34m**\u001b[0m\u001b[0mkwargs\u001b[0m\u001b[0;34m)\u001b[0m\u001b[0;34m:\u001b[0m\u001b[0;34m\u001b[0m\u001b[0;34m\u001b[0m\u001b[0m\n",
      "\u001b[0;32m~/miniconda3/lib/python3.6/site-packages/pandas/core/internals.py\u001b[0m in \u001b[0;36minsert\u001b[0;34m(self, loc, item, value, allow_duplicates)\u001b[0m\n\u001b[1;32m   4336\u001b[0m         \u001b[0;32mif\u001b[0m \u001b[0;32mnot\u001b[0m \u001b[0mallow_duplicates\u001b[0m \u001b[0;32mand\u001b[0m \u001b[0mitem\u001b[0m \u001b[0;32min\u001b[0m \u001b[0mself\u001b[0m\u001b[0;34m.\u001b[0m\u001b[0mitems\u001b[0m\u001b[0;34m:\u001b[0m\u001b[0;34m\u001b[0m\u001b[0;34m\u001b[0m\u001b[0m\n\u001b[1;32m   4337\u001b[0m             \u001b[0;31m# Should this be a different kind of error??\u001b[0m\u001b[0;34m\u001b[0m\u001b[0;34m\u001b[0m\u001b[0;34m\u001b[0m\u001b[0m\n\u001b[0;32m-> 4338\u001b[0;31m             \u001b[0;32mraise\u001b[0m \u001b[0mValueError\u001b[0m\u001b[0;34m(\u001b[0m\u001b[0;34m'cannot insert {}, already exists'\u001b[0m\u001b[0;34m.\u001b[0m\u001b[0mformat\u001b[0m\u001b[0;34m(\u001b[0m\u001b[0mitem\u001b[0m\u001b[0;34m)\u001b[0m\u001b[0;34m)\u001b[0m\u001b[0;34m\u001b[0m\u001b[0;34m\u001b[0m\u001b[0m\n\u001b[0m\u001b[1;32m   4339\u001b[0m \u001b[0;34m\u001b[0m\u001b[0m\n\u001b[1;32m   4340\u001b[0m         \u001b[0;32mif\u001b[0m \u001b[0;32mnot\u001b[0m \u001b[0misinstance\u001b[0m\u001b[0;34m(\u001b[0m\u001b[0mloc\u001b[0m\u001b[0;34m,\u001b[0m \u001b[0mint\u001b[0m\u001b[0;34m)\u001b[0m\u001b[0;34m:\u001b[0m\u001b[0;34m\u001b[0m\u001b[0;34m\u001b[0m\u001b[0m\n",
      "\u001b[0;31mValueError\u001b[0m: cannot insert Date, already exists"
     ]
    }
   ],
   "source": [
    "daily.reset_index()"
   ]
  },
  {
   "cell_type": "markdown",
   "metadata": {},
   "source": [
    "11) Which item has the lowest cost per bottle in a pack?"
   ]
  },
  {
   "cell_type": "code",
   "execution_count": null,
   "metadata": {},
   "outputs": [],
   "source": []
  },
  {
   "cell_type": "markdown",
   "metadata": {},
   "source": [
    "12) What is the most popular item at Wilkie Liquors?"
   ]
  },
  {
   "cell_type": "code",
   "execution_count": null,
   "metadata": {},
   "outputs": [],
   "source": []
  },
  {
   "cell_type": "markdown",
   "metadata": {},
   "source": [
    "13) From which item does Wilkie Liquors earn the most of its revenue?"
   ]
  },
  {
   "cell_type": "code",
   "execution_count": null,
   "metadata": {},
   "outputs": [],
   "source": []
  },
  {
   "cell_type": "markdown",
   "metadata": {},
   "source": [
    "14) Do prices for the same item differ across different stores?"
   ]
  },
  {
   "cell_type": "code",
   "execution_count": null,
   "metadata": {},
   "outputs": [],
   "source": []
  },
  {
   "cell_type": "markdown",
   "metadata": {},
   "source": [
    "15) Which store sells the most liquor in the city of Des Moines?"
   ]
  },
  {
   "cell_type": "code",
   "execution_count": null,
   "metadata": {},
   "outputs": [],
   "source": []
  },
  {
   "cell_type": "markdown",
   "metadata": {},
   "source": [
    "16) Make a plot about at least one of these questions:"
   ]
  },
  {
   "cell_type": "code",
   "execution_count": null,
   "metadata": {},
   "outputs": [],
   "source": []
  }
 ],
 "metadata": {
  "kernelspec": {
   "display_name": "Python 3",
   "language": "python",
   "name": "python3"
  },
  "language_info": {
   "codemirror_mode": {
    "name": "ipython",
    "version": 3
   },
   "file_extension": ".py",
   "mimetype": "text/x-python",
   "name": "python",
   "nbconvert_exporter": "python",
   "pygments_lexer": "ipython3",
   "version": "3.6.8"
  }
 },
 "nbformat": 4,
 "nbformat_minor": 2
}
