{
 "cells": [
  {
   "cell_type": "markdown",
   "metadata": {},
   "source": [
    "### Load data"
   ]
  },
  {
   "cell_type": "code",
   "execution_count": 1,
   "metadata": {},
   "outputs": [
    {
     "data": {
      "text/html": [
       "<div>\n",
       "<style scoped>\n",
       "    .dataframe tbody tr th:only-of-type {\n",
       "        vertical-align: middle;\n",
       "    }\n",
       "\n",
       "    .dataframe tbody tr th {\n",
       "        vertical-align: top;\n",
       "    }\n",
       "\n",
       "    .dataframe thead th {\n",
       "        text-align: right;\n",
       "    }\n",
       "</style>\n",
       "<table border=\"1\" class=\"dataframe\">\n",
       "  <thead>\n",
       "    <tr style=\"text-align: right;\">\n",
       "      <th></th>\n",
       "      <th>label</th>\n",
       "      <th>predGbt</th>\n",
       "      <th>predReg</th>\n",
       "      <th>predReg_up</th>\n",
       "    </tr>\n",
       "  </thead>\n",
       "  <tbody>\n",
       "    <tr>\n",
       "      <th>0</th>\n",
       "      <td>0</td>\n",
       "      <td>0.002881</td>\n",
       "      <td>0.000038</td>\n",
       "      <td>0.014922</td>\n",
       "    </tr>\n",
       "    <tr>\n",
       "      <th>1</th>\n",
       "      <td>0</td>\n",
       "      <td>0.003244</td>\n",
       "      <td>0.001715</td>\n",
       "      <td>0.022515</td>\n",
       "    </tr>\n",
       "    <tr>\n",
       "      <th>2</th>\n",
       "      <td>0</td>\n",
       "      <td>0.011212</td>\n",
       "      <td>0.000592</td>\n",
       "      <td>0.054047</td>\n",
       "    </tr>\n",
       "    <tr>\n",
       "      <th>3</th>\n",
       "      <td>0</td>\n",
       "      <td>0.035817</td>\n",
       "      <td>0.002219</td>\n",
       "      <td>0.191879</td>\n",
       "    </tr>\n",
       "    <tr>\n",
       "      <th>4</th>\n",
       "      <td>0</td>\n",
       "      <td>0.004102</td>\n",
       "      <td>0.000024</td>\n",
       "      <td>0.014561</td>\n",
       "    </tr>\n",
       "  </tbody>\n",
       "</table>\n",
       "</div>"
      ],
      "text/plain": [
       "   label   predGbt   predReg  predReg_up\n",
       "0      0  0.002881  0.000038    0.014922\n",
       "1      0  0.003244  0.001715    0.022515\n",
       "2      0  0.011212  0.000592    0.054047\n",
       "3      0  0.035817  0.002219    0.191879\n",
       "4      0  0.004102  0.000024    0.014561"
      ]
     },
     "execution_count": 1,
     "metadata": {},
     "output_type": "execute_result"
    }
   ],
   "source": [
    "import pandas as pd\n",
    "predictions = pd.read_csv(\"./data/predictions_up.csv\")\n",
    "predictions.head()"
   ]
  },
  {
   "cell_type": "markdown",
   "metadata": {},
   "source": [
    "### Calibration error"
   ]
  },
  {
   "cell_type": "code",
   "execution_count": 2,
   "metadata": {},
   "outputs": [],
   "source": [
    "import math\n",
    "def calibrationError(predictions, modelName, bucketSize = 100):\n",
    "    count, sumPrediction, sumLabel = 0, 0, 0\n",
    "    bucketFraudRate = []\n",
    "    bucketPrediction = []\n",
    "    bucketErrors = []\n",
    "    for index, row in predictions.sort_values(by=[modelName]).iterrows():\n",
    "        sumLabel = sumLabel + row[\"label\"]\n",
    "        sumPrediction = sumPrediction + row[modelName]\n",
    "        count = count + 1\n",
    "        if(count == bucketSize):\n",
    "            predMean = sumPrediction / float(bucketSize)\n",
    "            fraudRate = sumLabel / float(bucketSize)\n",
    "            bucketFraudRate.append(fraudRate)\n",
    "            bucketPrediction.append(predMean)\n",
    "            bucketErrors.append(math.sqrt((predMean-fraudRate)*(predMean-fraudRate)))\n",
    "            count, sumPrediction, sumLabel = 0, 0, 0\n",
    "\n",
    "    return (bucketFraudRate, bucketPrediction, sum(bucketErrors) / float(len(bucketErrors)))"
   ]
  },
  {
   "cell_type": "code",
   "execution_count": 3,
   "metadata": {},
   "outputs": [
    {
     "data": {
      "image/png": "[encoded data removed]",
      "text/plain": [
       "<matplotlib.figure.Figure at 0x10dd81be0>"
      ]
     },
     "metadata": {},
     "output_type": "display_data"
    }
   ],
   "source": [
    "fraudRate_gbt, scores_gbt, err_gbt = calibrationError(predictions, \"predGbt\")\n",
    "fraudRate_reg, scores_reg, err_reg = calibrationError(predictions, \"predReg\")\n",
    "fraudRate_regup, scores_regup, err_regup = calibrationError(predictions, \"predReg_up\")\n",
    "%matplotlib inline\n",
    "import matplotlib.pyplot as plt\n",
    "plt.figure()\n",
    "plt.plot([0, 1], [0, 1], label = \"perfect\")\n",
    "plt.plot(scores_gbt, fraudRate_gbt, color = 'g', label = \"gbt_err:{:.3f}\".format(err_gbt))\n",
    "plt.plot(scores_reg, fraudRate_reg, color = 'b', label = \"reg:{:.3f}\".format(err_reg))\n",
    "plt.plot(scores_regup, fraudRate_regup, color = 'r', label = \"reg_up:{:.3f}\".format(err_regup))\n",
    "plt.legend()\n",
    "plt.grid()\n",
    "plt.show()"
   ]
  },
  {
   "cell_type": "code",
   "execution_count": 21,
   "metadata": {},
   "outputs": [
    {
     "name": "stdout",
     "output_type": "stream",
     "text": [
      "Calibration error gbt: 0.011\n",
      "Calibration error logreg: 0.007\n",
      "Calibration error upsampled-logreg: 0.201\n"
     ]
    }
   ],
   "source": [
    "print(\"Calibration error gbt: {:.3f}\".format(err_gbt))\n",
    "print(\"Calibration error logreg: {:.3f}\".format(err_reg))\n",
    "print(\"Calibration error upsampled-logreg: {:.3f}\".format(err_regup))"
   ]
  },
  {
   "cell_type": "markdown",
   "metadata": {},
   "source": [
    "### Calibration algorithm"
   ]
  },
  {
   "cell_type": "code",
   "execution_count": 6,
   "metadata": {},
   "outputs": [],
   "source": [
    "def trainCalibration(predictions, modelName, bucketSize = 100):\n",
    "    count, sumLabel = 0, 0\n",
    "    buckets = []\n",
    "    for index, row in predictions.sort_values(by=[modelName]).iterrows():\n",
    "        sumLabel = sumLabel + row[\"label\"]\n",
    "        count = count + 1\n",
    "        if(count == bucketSize):\n",
    "            fraudRate = sumLabel / float(bucketSize)\n",
    "            buckets.append((row[modelName], fraudRate))\n",
    "            count, sumLabel = 0, 0\n",
    "    \n",
    "    buckets.append((1,1))\n",
    "    return buckets"
   ]
  },
  {
   "cell_type": "code",
   "execution_count": 7,
   "metadata": {},
   "outputs": [],
   "source": [
    "def getCalibratedProb(p, calibBuckets):\n",
    "    i = 0\n",
    "    final_p = 0\n",
    "    while(p > calibBuckets[i][0]):\n",
    "        final_p = calibBuckets[i][1]\n",
    "        i = i+1\n",
    "    return final_p"
   ]
  },
  {
   "cell_type": "code",
   "execution_count": 8,
   "metadata": {},
   "outputs": [],
   "source": [
    " predictions_train = pd.read_csv(\"./data/predictions_train_up.csv\")"
   ]
  },
  {
   "cell_type": "code",
   "execution_count": 15,
   "metadata": {},
   "outputs": [
    {
     "name": "stdout",
     "output_type": "stream",
     "text": [
      "Calibration error calibrated GBT: 0.013468817204301082\n"
     ]
    }
   ],
   "source": [
    "calibGbt = trainCalibration(predictions_train, \"predGbt\")\n",
    "predictions[\"calibGbt\"] = predictions[\"predGbt\"].map(lambda x: getCalibratedProb(x, calibGbt))\n",
    "err = calibrationError(predictions, \"calibGbt\")[2]\n",
    "print(\"Calibration error calibrated GBT: \" + str(err))"
   ]
  },
  {
   "cell_type": "code",
   "execution_count": 16,
   "metadata": {},
   "outputs": [
    {
     "name": "stdout",
     "output_type": "stream",
     "text": [
      "Calibration error calibrated LogReg: 0.010501075268817215\n"
     ]
    }
   ],
   "source": [
    "calibReg = trainCalibration(predictions_train, \"predReg\")\n",
    "predictions[\"calibReg\"] = predictions[\"predReg\"].map(lambda x: getCalibratedProb(x, calibReg))\n",
    "err = calibrationError(predictions, \"calibReg\")[2]\n",
    "print(\"Calibration error calibrated LogReg: \" + str(err))"
   ]
  },
  {
   "cell_type": "code",
   "execution_count": 17,
   "metadata": {},
   "outputs": [
    {
     "name": "stdout",
     "output_type": "stream",
     "text": [
      "Calibration error calibrated upsampled LogReg: 0.021590322580645162\n"
     ]
    }
   ],
   "source": [
    "calibReg_up = trainCalibration(predictions_train, \"predReg_up\")\n",
    "predictions[\"calibReg_up\"] = predictions[\"predReg_up\"].map(lambda x: getCalibratedProb(x, calibReg_up))\n",
    "err = calibrationError(predictions, \"calibReg_up\")[2]\n",
    "print(\"Calibration error calibrated upsampled LogReg: \" + str(err))\n"
   ]
  },
  {
   "cell_type": "code",
   "execution_count": null,
   "metadata": {},
   "outputs": [],
   "source": []
  }
 ],
 "metadata": {
  "kernelspec": {
   "display_name": "Python 3",
   "language": "python",
   "name": "python3"
  },
  "language_info": {
   "codemirror_mode": {
    "name": "ipython",
    "version": 3
   },
   "file_extension": ".py",
   "mimetype": "text/x-python",
   "name": "python",
   "nbconvert_exporter": "python",
   "pygments_lexer": "ipython3",
   "version": "3.5.4"
  }
 },
 "nbformat": 4,
 "nbformat_minor": 2
}
