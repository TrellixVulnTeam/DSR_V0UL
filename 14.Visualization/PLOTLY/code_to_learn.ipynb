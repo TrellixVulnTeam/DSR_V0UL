{
 "cells": [
  {
   "cell_type": "markdown",
   "metadata": {
    "slideshow": {
     "slide_type": "slide"
    }
   },
   "source": [
    "# [plotly](https://plot.ly/feed/)"
   ]
  },
  {
   "cell_type": "markdown",
   "metadata": {},
   "source": [
    "## Line and Scatter plots"
   ]
  },
  {
   "cell_type": "markdown",
   "metadata": {
    "slideshow": {
     "slide_type": "subslide"
    }
   },
   "source": [
    "Example for Figure, Data and Layout Object  "
   ]
  },
  {
   "cell_type": "code",
   "execution_count": 8,
   "metadata": {
    "ExecuteTime": {
     "end_time": "2017-11-14T21:29:26.615146",
     "start_time": "2017-11-14T21:29:24.291462"
    }
   },
   "outputs": [],
   "source": [
    "# Import the library\n",
    "import plotly as py"
   ]
  },
  {
   "cell_type": "code",
   "execution_count": null,
   "metadata": {
    "ExecuteTime": {
     "end_time": "2017-11-14T21:29:26.621586",
     "start_time": "2017-11-14T21:29:26.617072"
    }
   },
   "outputs": [],
   "source": [
    "# and enable the offline mode in the notebook (not needed in Jupyter Lab)\n",
    "py.offline.init_notebook_mode(connected=True)"
   ]
  },
  {
   "cell_type": "code",
   "execution_count": null,
   "metadata": {
    "ExecuteTime": {
     "end_time": "2017-11-14T21:29:26.636579",
     "start_time": "2017-11-14T21:29:26.624658"
    },
    "collapsed": true
   },
   "outputs": [],
   "source": [
    "# Make data and layout objects\n",
    "import plotly.graph_objs as go\n",
    "\n",
    "trace0 = go.Scatter(   # Initialize the scatter trace object                         \n",
    "        x=[1, 2, 3],    # Reference between trace's x coord. and x axis\n",
    "        y=[3, 1, 6],    # Reference between trace's y coord. and y axis\n",
    "        mode='markers') # Mode of the scatter trace object (lines, text)\n",
    "\n",
    "trace1 = go.Scatter(   # Initialze a second scatter trace object\n",
    "        x=[1, 2, 3],\n",
    "        y=[2, 4, 5])    \n",
    "\n",
    "# IMPORTANT: the Scatter objects can also be defined with Python dictionaries instead:\n",
    "# trace0 = dict(\n",
    "#     type='scatter',\n",
    "#        x=[1, 2, 3],\n",
    "#        y=[3, 1, 6],\n",
    "#     mode='markers',\n",
    "# )\n",
    "#\n",
    "# or \n",
    "#\n",
    "# trace0 = {\n",
    "#     'type':'scatter',\n",
    "#        'x':[1, 2, 3],\n",
    "#        'y':[3, 1, 6],\n",
    "#     'mode':'markers',\n",
    "# }\n",
    "\n",
    "data = [trace0, trace1] # Create data list-like object of 2 traces\n",
    " \n",
    "layout = go.Layout(title='Some Experiment') # Set the figures title"
   ]
  },
  {
   "cell_type": "code",
   "execution_count": null,
   "metadata": {
    "ExecuteTime": {
     "end_time": "2017-11-14T21:29:29.290350",
     "start_time": "2017-11-14T21:29:29.286082"
    },
    "collapsed": true
   },
   "outputs": [],
   "source": [
    "# Make Figure object\n",
    "fig = go.Figure(data=data, layout=layout) "
   ]
  },
  {
   "cell_type": "code",
   "execution_count": null,
   "metadata": {
    "ExecuteTime": {
     "end_time": "2017-11-14T21:29:30.433103",
     "start_time": "2017-11-14T21:29:30.426564"
    }
   },
   "outputs": [],
   "source": [
    "#open a plot inside notebook\n",
    "py.offline.iplot(fig)"
   ]
  },
  {
   "cell_type": "code",
   "execution_count": null,
   "metadata": {},
   "outputs": [],
   "source": [
    "# The object 'fig' (of class go.Figure) is represented by a dictionary with keys 'data' and 'layout'\n",
    "fig"
   ]
  },
  {
   "cell_type": "code",
   "execution_count": null,
   "metadata": {},
   "outputs": [],
   "source": [
    "# You can modify any key or subkey of this dictionary using the dot notation\n",
    "fig.data[1].y = [1,5,2]\n",
    "fig.layout.title = 'I just changed the data<br>and this title'\n",
    "\n",
    "py.offline.iplot(fig)"
   ]
  },
  {
   "cell_type": "markdown",
   "metadata": {},
   "source": [
    "**Stand alone html file**"
   ]
  },
  {
   "cell_type": "code",
   "execution_count": null,
   "metadata": {
    "ExecuteTime": {
     "end_time": "2017-07-08T22:27:55.472359",
     "start_time": "2017-07-08T22:27:55.208931"
    },
    "collapsed": true
   },
   "outputs": [],
   "source": [
    "# create HTML and open in browser, store HTML\n",
    "py.offline.plot(fig, filename='first_plot.html') "
   ]
  },
  {
   "cell_type": "markdown",
   "metadata": {
    "ExecuteTime": {
     "end_time": "2016-10-02T15:22:29.525960",
     "start_time": "2016-10-02T15:22:29.523763"
    }
   },
   "source": [
    "**Online mode**"
   ]
  },
  {
   "cell_type": "markdown",
   "metadata": {},
   "source": [
    "It is possible to host your graphs online through plotly.com"
   ]
  },
  {
   "cell_type": "code",
   "execution_count": null,
   "metadata": {
    "ExecuteTime": {
     "end_time": "2017-07-08T22:14:02.760973",
     "start_time": "2017-07-08T22:13:59.353073"
    },
    "collapsed": true
   },
   "outputs": [],
   "source": [
    "import plotly.tools as tls\n",
    "\n",
    "# Get credentials from signin in to Plotly or use the dsr_plotly-account\n",
    "# Username: dsr_plotly passw: 12345 (API calls and views limited)\n",
    "#tls.set_credentials_file(username=\"dsr_plotly\", api_key=\"kdaos95jui\") \n",
    "\n",
    "# We are sending the plot to plotly with the following command\n",
    "py.plotly.plot(fig, filename='first_plot', sharing='public') \n",
    "\n",
    "tls.embed('https://plot.ly/~dsr_plotly/6')"
   ]
  },
  {
   "cell_type": "markdown",
   "metadata": {
    "slideshow": {
     "slide_type": "subslide"
    }
   },
   "source": [
    "[Plot here](https://plot.ly/~dsr_plotly/6/fig-03-some-experiment/)"
   ]
  },
  {
   "cell_type": "markdown",
   "metadata": {
    "slideshow": {
     "slide_type": "subslide"
    }
   },
   "source": [
    "**Axis title** [*Exercise*]: Take the plot from before and change the title of the x-axis to *Some independent variable* and the title of the y-axis to *Some dependent variable*.   \n",
    "Hint: Change the layout-object by adding ```xaxis = dict(title = 'title name')```"
   ]
  },
  {
   "cell_type": "code",
   "execution_count": null,
   "metadata": {},
   "outputs": [],
   "source": [
    "# Execute this cell to see the solution\n",
    "!cat solutions/solution_0.py"
   ]
  },
  {
   "cell_type": "markdown",
   "metadata": {},
   "source": [
    "**Line dash**"
   ]
  },
  {
   "cell_type": "code",
   "execution_count": null,
   "metadata": {
    "ExecuteTime": {
     "end_time": "2017-07-08T22:28:42.975575",
     "start_time": "2017-07-08T22:28:42.949177"
    },
    "collapsed": true
   },
   "outputs": [],
   "source": [
    "# Add data\n",
    "month = ['Jan','Feb','Mar','Apr','May','Jun','Jul','Aug','Sep','Oct','Nov','Dec']\n",
    "high_2000 = [32.5,37.6,49.9,53.0,69.1,75.4,76.5,76.6,70.7,60.6,45.1,29.3]\n",
    "low_2000 = [13.8,22.3,32.5,37.2,49.9,56.1,57.7,58.3,51.2,42.8,31.6,15.9]\n",
    "high_2007 = [36.5,26.6,43.6,52.3,71.5,81.4,80.5,82.2,76.0,67.3,46.1,35.0]\n",
    "low_2007 = [23.6,14.0,27.0,36.8,47.6,57.7,58.9,61.2,53.3,48.5,31.0,23.6]\n",
    "name = ['High 2007','Low 2007','High 2000','Low 2000']\n",
    "color = ['rgb(205,12,24)','rgb(22,96,167)','rgb(205,12,24)','rgb(22,96,167)']\n",
    "\n",
    "# Create and style traces\n",
    "trace0 = go.Scatter(x=month,\n",
    "                    y=high_2007,\n",
    "                    name=name[0],\n",
    "                    line=dict(color=(color[0]),\n",
    "                              width = 4))\n",
    "\n",
    "trace1 = go.Scatter(x=month,\n",
    "                    y=low_2007,\n",
    "                    name=name[1],\n",
    "                    line=dict(color = (color[1]),\n",
    "                                width = 4))\n",
    "\n",
    "trace2 = go.Scatter(x=month,\n",
    "                    y=high_2000,\n",
    "                    name=name[2],\n",
    "                    line = dict(color = (color[2]),\n",
    "                                width = 4,dash = 'dash'))\n",
    "\n",
    "trace3 = go.Scatter(x=month,\n",
    "                    y=low_2000,\n",
    "                    name=name[3],\n",
    "                    line=dict(color = (color[3]),\n",
    "                              width = 4,dash = 'dash'))\n",
    "\n",
    "data = [trace0, trace1, trace2, trace3]\n",
    "\n",
    "# Edit the layout\n",
    "layout = go.Layout(title = 'Average High and Low Temperatures in New York',\n",
    "              xaxis = dict(title = 'Temperature (degrees F)'),\n",
    "              yaxis = dict(title = 'Month'))\n",
    "\n",
    "fig = go.Figure(data=data, layout=layout)"
   ]
  },
  {
   "cell_type": "code",
   "execution_count": null,
   "metadata": {
    "ExecuteTime": {
     "end_time": "2017-07-08T22:28:44.290541",
     "start_time": "2017-07-08T22:28:44.281798"
    },
    "collapsed": true
   },
   "outputs": [],
   "source": [
    "py.offline.iplot(fig)"
   ]
  },
  {
   "cell_type": "markdown",
   "metadata": {},
   "source": [
    "**Marker style and legends**"
   ]
  },
  {
   "cell_type": "code",
   "execution_count": null,
   "metadata": {
    "ExecuteTime": {
     "end_time": "2017-07-08T22:28:54.232457",
     "start_time": "2017-07-08T22:28:54.222837"
    },
    "collapsed": true
   },
   "outputs": [],
   "source": [
    "trace0 = go.Scatter(\n",
    "    x=[1, 2, 3, 4],\n",
    "    y=[10, 11, 12, 13],\n",
    "    mode='markers',\n",
    "    marker=dict(\n",
    "        colorscale='Viridis',\n",
    "        color=[1, 2, 3, 10],\n",
    "        opacity=[1, 0.8, 0.6, 0.4],\n",
    "        size=[40, 60, 80, 100],\n",
    "        showscale=True\n",
    "    )\n",
    ")\n",
    "\n",
    "data = [trace0]\n",
    "\n",
    "layout = go.Layout(\n",
    "    showlegend=False,\n",
    "    height=600,\n",
    "    width=600,\n",
    ")\n",
    "\n",
    "fig = go.Figure(data=data, layout=layout)"
   ]
  },
  {
   "cell_type": "code",
   "execution_count": null,
   "metadata": {
    "ExecuteTime": {
     "end_time": "2017-07-08T22:28:55.604613",
     "start_time": "2017-07-08T22:28:55.598680"
    },
    "collapsed": true
   },
   "outputs": [],
   "source": [
    "py.offline.iplot(fig)"
   ]
  },
  {
   "cell_type": "markdown",
   "metadata": {},
   "source": [
    "**Hover text**"
   ]
  },
  {
   "cell_type": "code",
   "execution_count": null,
   "metadata": {
    "ExecuteTime": {
     "end_time": "2017-07-08T22:29:05.241291",
     "start_time": "2017-07-08T22:29:05.226325"
    },
    "collapsed": true
   },
   "outputs": [],
   "source": [
    "data=[\n",
    "    go.Scatter(\n",
    "        x=[1, 2, 3, 4],\n",
    "        y=[10, 11, 12, 13],\n",
    "        text=['size: 40', 'size: 60', 'size: 80', 'size: 100'],\n",
    "        mode='markers',\n",
    "        marker=dict(\n",
    "            colorscale='Viridis',\n",
    "            color= [120, 125, 130, 135, 140],\n",
    "            opacity=[1, 0.8, 0.6, 0.4],\n",
    "            size=[40, 60, 80, 100],\n",
    "            showscale=True\n",
    "        )\n",
    "    )\n",
    "]\n",
    "\n",
    "layout = go.Layout(\n",
    "    showlegend=False,\n",
    "    height=600,\n",
    "    width=600,\n",
    ")\n",
    "\n",
    "fig = go.Figure(data=data, layout=layout)"
   ]
  },
  {
   "cell_type": "code",
   "execution_count": null,
   "metadata": {
    "ExecuteTime": {
     "end_time": "2017-07-08T22:29:06.069757",
     "start_time": "2017-07-08T22:29:06.063312"
    },
    "collapsed": true
   },
   "outputs": [],
   "source": [
    "py.offline.iplot(fig)"
   ]
  },
  {
   "cell_type": "markdown",
   "metadata": {
    "slideshow": {
     "slide_type": "subslide"
    }
   },
   "source": [
    "## Bar Charts"
   ]
  },
  {
   "cell_type": "code",
   "execution_count": null,
   "metadata": {
    "ExecuteTime": {
     "end_time": "2017-07-08T22:29:12.821045",
     "start_time": "2017-07-08T22:29:12.815272"
    },
    "collapsed": true
   },
   "outputs": [],
   "source": [
    "trace1 = go.Bar(\n",
    "    x=['giraffes', 'orangutans', 'monkeys'],\n",
    "    y=[20, 14, 23],\n",
    "    name='SF Zoo'\n",
    ")\n",
    "\n",
    "data = [trace1]\n",
    "\n",
    "fig = go.Figure(data=data, layout=layout)"
   ]
  },
  {
   "cell_type": "code",
   "execution_count": null,
   "metadata": {
    "ExecuteTime": {
     "end_time": "2017-07-08T22:29:21.359817",
     "start_time": "2017-07-08T22:29:21.354009"
    },
    "collapsed": true
   },
   "outputs": [],
   "source": [
    "py.offline.iplot(fig)"
   ]
  },
  {
   "cell_type": "markdown",
   "metadata": {
    "slideshow": {
     "slide_type": "subslide"
    }
   },
   "source": [
    "**Grouped bar chart** [*Exercise*]: Take the barchart from before:\n",
    "1. Add a second ```trace2``` with the following attributes \n",
    "```python\n",
    "x=['giraffes', 'orangutans', 'monkeys'],\n",
    "y=[12, 18, 29],\n",
    "name='LA Zoo'\n",
    "```\n",
    "2. Add both traces to the list-like data object\n",
    "3. Create a grouped barchart by manipulating the layout graph-object using\n",
    "```python\n",
    "barmode='group'\n",
    "```"
   ]
  },
  {
   "cell_type": "code",
   "execution_count": null,
   "metadata": {},
   "outputs": [],
   "source": [
    "# Execute this cell to see the solution\n",
    "!cat solutions/solution_1.py"
   ]
  },
  {
   "cell_type": "markdown",
   "metadata": {
    "slideshow": {
     "slide_type": "subslide"
    }
   },
   "source": [
    "**Hover Text in Barchart** [*Exercise*]: Take the grouped barchart from before:\n",
    "1. Add a hover text containing the animal names to both traces using\n",
    "```python\n",
    "text=['giraffes', 'orangutans', 'monkeys'],\n",
    "```\n",
    "2. Change the paper background color and chart color to ```rgb(233,233,233)``` using\n",
    "```python\n",
    "paper_bgcolor='rgb(233,233,233)',\n",
    "plot_bgcolor='rgb(233,233,233)'\n",
    "```\n",
    "Think about which graph object should have the attribute background color!"
   ]
  },
  {
   "cell_type": "code",
   "execution_count": null,
   "metadata": {},
   "outputs": [],
   "source": [
    "# Execute this cell to see the solution\n",
    "!cat solutions/solution_2.py"
   ]
  },
  {
   "cell_type": "markdown",
   "metadata": {
    "slideshow": {
     "slide_type": "skip"
    }
   },
   "source": [
    "## Cufflinks: *bind plotly directly to pandas dataframes*"
   ]
  },
  {
   "cell_type": "markdown",
   "metadata": {},
   "source": [
    "Requires the installation of another free library from Plotly:\n",
    "\n",
    "`pip install cufflinks`"
   ]
  },
  {
   "cell_type": "code",
   "execution_count": 1,
   "metadata": {
    "ExecuteTime": {
     "end_time": "2017-07-08T23:10:24.689339",
     "start_time": "2017-07-08T23:10:24.684129"
    }
   },
   "outputs": [],
   "source": [
    "import numpy as np\n",
    "import pandas as pd"
   ]
  },
  {
   "cell_type": "code",
   "execution_count": 2,
   "metadata": {
    "ExecuteTime": {
     "end_time": "2017-07-08T23:10:25.201694",
     "start_time": "2017-07-08T23:10:25.157286"
    }
   },
   "outputs": [],
   "source": [
    "# After importing, new methods are available for pandas dataframes\n",
    "import cufflinks as cf"
   ]
  },
  {
   "cell_type": "code",
   "execution_count": 3,
   "metadata": {
    "ExecuteTime": {
     "end_time": "2017-07-08T23:10:25.717884",
     "start_time": "2017-07-08T23:10:25.632629"
    }
   },
   "outputs": [
    {
     "data": {
      "text/html": [
       "<script type=\"text/javascript\">window.PlotlyConfig = {MathJaxConfig: 'local'};</script><script type=\"text/javascript\">if (window.MathJax) {MathJax.Hub.Config({SVG: {font: \"STIX-Web\"}});}</script><script>requirejs.config({paths: { 'plotly': ['https://cdn.plot.ly/plotly-latest.min']},});if(!window._Plotly) {require(['plotly'],function(plotly) {window._Plotly=plotly;});}</script>"
      ],
      "text/vnd.plotly.v1+html": [
       "<script type=\"text/javascript\">window.PlotlyConfig = {MathJaxConfig: 'local'};</script><script type=\"text/javascript\">if (window.MathJax) {MathJax.Hub.Config({SVG: {font: \"STIX-Web\"}});}</script><script>requirejs.config({paths: { 'plotly': ['https://cdn.plot.ly/plotly-latest.min']},});if(!window._Plotly) {require(['plotly'],function(plotly) {window._Plotly=plotly;});}</script>"
      ]
     },
     "metadata": {},
     "output_type": "display_data"
    }
   ],
   "source": [
    "# Configure it to work offline (plots are not sent to plotly.com)\n",
    "cf.go_offline(connected=True)"
   ]
  },
  {
   "cell_type": "code",
   "execution_count": 4,
   "metadata": {
    "ExecuteTime": {
     "end_time": "2017-07-08T23:10:48.695750",
     "start_time": "2017-07-08T23:10:48.687028"
    }
   },
   "outputs": [],
   "source": [
    "# A random dataframe as example\n",
    "df = pd.DataFrame({'Column A':np.random.rand(5), 'Column B':np.random.rand(5)})"
   ]
  },
  {
   "cell_type": "code",
   "execution_count": 5,
   "metadata": {
    "ExecuteTime": {
     "end_time": "2017-07-08T23:10:50.210853",
     "start_time": "2017-07-08T23:10:50.162643"
    }
   },
   "outputs": [
    {
     "data": {
      "text/html": [
       "<div>\n",
       "<style scoped>\n",
       "    .dataframe tbody tr th:only-of-type {\n",
       "        vertical-align: middle;\n",
       "    }\n",
       "\n",
       "    .dataframe tbody tr th {\n",
       "        vertical-align: top;\n",
       "    }\n",
       "\n",
       "    .dataframe thead th {\n",
       "        text-align: right;\n",
       "    }\n",
       "</style>\n",
       "<table border=\"1\" class=\"dataframe\">\n",
       "  <thead>\n",
       "    <tr style=\"text-align: right;\">\n",
       "      <th></th>\n",
       "      <th>Column A</th>\n",
       "      <th>Column B</th>\n",
       "    </tr>\n",
       "  </thead>\n",
       "  <tbody>\n",
       "    <tr>\n",
       "      <th>0</th>\n",
       "      <td>0.216422</td>\n",
       "      <td>0.487501</td>\n",
       "    </tr>\n",
       "    <tr>\n",
       "      <th>1</th>\n",
       "      <td>0.479580</td>\n",
       "      <td>0.559813</td>\n",
       "    </tr>\n",
       "    <tr>\n",
       "      <th>2</th>\n",
       "      <td>0.840269</td>\n",
       "      <td>0.555495</td>\n",
       "    </tr>\n",
       "    <tr>\n",
       "      <th>3</th>\n",
       "      <td>0.833381</td>\n",
       "      <td>0.697589</td>\n",
       "    </tr>\n",
       "    <tr>\n",
       "      <th>4</th>\n",
       "      <td>0.796980</td>\n",
       "      <td>0.499088</td>\n",
       "    </tr>\n",
       "  </tbody>\n",
       "</table>\n",
       "</div>"
      ],
      "text/plain": [
       "   Column A  Column B\n",
       "0  0.216422  0.487501\n",
       "1  0.479580  0.559813\n",
       "2  0.840269  0.555495\n",
       "3  0.833381  0.697589\n",
       "4  0.796980  0.499088"
      ]
     },
     "execution_count": 5,
     "metadata": {},
     "output_type": "execute_result"
    }
   ],
   "source": [
    "df"
   ]
  },
  {
   "cell_type": "code",
   "execution_count": 6,
   "metadata": {
    "ExecuteTime": {
     "end_time": "2017-07-08T23:11:06.734747",
     "start_time": "2017-07-08T23:11:06.691701"
    }
   },
   "outputs": [
    {
     "data": {
      "application/vnd.plotly.v1+json": {
       "config": {
        "linkText": "Export to plot.ly",
        "plotlyServerURL": "https://plot.ly",
        "showLink": true
       },
       "data": [
        {
         "marker": {
          "color": "rgba(255, 153, 51, 0.6)",
          "line": {
           "color": "rgba(255, 153, 51, 1.0)",
           "width": 1
          }
         },
         "name": "Column A",
         "orientation": "v",
         "text": "",
         "type": "bar",
         "uid": "24250429-679b-4047-876b-c35c063c9301",
         "x": [
          0,
          1,
          2,
          3,
          4
         ],
         "y": [
          0.2164216877888141,
          0.47958046736742477,
          0.8402689083234675,
          0.8333807039622935,
          0.7969798221953855
         ]
        },
        {
         "marker": {
          "color": "rgba(55, 128, 191, 0.6)",
          "line": {
           "color": "rgba(55, 128, 191, 1.0)",
           "width": 1
          }
         },
         "name": "Column B",
         "orientation": "v",
         "text": "",
         "type": "bar",
         "uid": "5b1330c4-a581-4ff7-9da4-dd9da7db38fb",
         "x": [
          0,
          1,
          2,
          3,
          4
         ],
         "y": [
          0.4875009148554379,
          0.5598130200955803,
          0.5554945898066155,
          0.6975889775788051,
          0.4990878315020002
         ]
        }
       ],
       "layout": {
        "legend": {
         "bgcolor": "#F5F6F9",
         "font": {
          "color": "#4D5663"
         }
        },
        "paper_bgcolor": "#F5F6F9",
        "plot_bgcolor": "#F5F6F9",
        "title": {
         "font": {
          "color": "#4D5663"
         },
         "text": "A random example"
        },
        "xaxis": {
         "gridcolor": "#E1E5ED",
         "showgrid": true,
         "tickfont": {
          "color": "#4D5663"
         },
         "title": {
          "font": {
           "color": "#4D5663"
          },
          "text": "index"
         },
         "zerolinecolor": "#E1E5ED"
        },
        "yaxis": {
         "gridcolor": "#E1E5ED",
         "showgrid": true,
         "tickfont": {
          "color": "#4D5663"
         },
         "title": {
          "font": {
           "color": "#4D5663"
          },
          "text": "value"
         },
         "zerolinecolor": "#E1E5ED"
        }
       }
      },
      "text/html": [
       "<div id=\"6b3d2f09-114e-464b-969b-d30badefe993\" style=\"height: 525px; width: 100%;\" class=\"plotly-graph-div\"></div><script type=\"text/javascript\">require([\"plotly\"], function(Plotly) { window.PLOTLYENV=window.PLOTLYENV || {};window.PLOTLYENV.BASE_URL=\"https://plot.ly\";Plotly.newPlot(\"6b3d2f09-114e-464b-969b-d30badefe993\", [{\"marker\": {\"color\": \"rgba(255, 153, 51, 0.6)\", \"line\": {\"color\": \"rgba(255, 153, 51, 1.0)\", \"width\": 1}}, \"name\": \"Column A\", \"orientation\": \"v\", \"text\": \"\", \"x\": [0, 1, 2, 3, 4], \"y\": [0.2164216877888141, 0.47958046736742477, 0.8402689083234675, 0.8333807039622935, 0.7969798221953855], \"type\": \"bar\", \"uid\": \"9a20d4d7-f68c-4682-a2c8-84508dbbdd85\"}, {\"marker\": {\"color\": \"rgba(55, 128, 191, 0.6)\", \"line\": {\"color\": \"rgba(55, 128, 191, 1.0)\", \"width\": 1}}, \"name\": \"Column B\", \"orientation\": \"v\", \"text\": \"\", \"x\": [0, 1, 2, 3, 4], \"y\": [0.4875009148554379, 0.5598130200955803, 0.5554945898066155, 0.6975889775788051, 0.4990878315020002], \"type\": \"bar\", \"uid\": \"556057ca-0428-415e-a3c0-ef6a8156cd91\"}], {\"legend\": {\"bgcolor\": \"#F5F6F9\", \"font\": {\"color\": \"#4D5663\"}}, \"paper_bgcolor\": \"#F5F6F9\", \"plot_bgcolor\": \"#F5F6F9\", \"title\": {\"text\": \"A random example\", \"font\": {\"color\": \"#4D5663\"}}, \"xaxis\": {\"gridcolor\": \"#E1E5ED\", \"showgrid\": true, \"tickfont\": {\"color\": \"#4D5663\"}, \"title\": {\"text\": \"index\", \"font\": {\"color\": \"#4D5663\"}}, \"zerolinecolor\": \"#E1E5ED\"}, \"yaxis\": {\"gridcolor\": \"#E1E5ED\", \"showgrid\": true, \"tickfont\": {\"color\": \"#4D5663\"}, \"title\": {\"text\": \"value\", \"font\": {\"color\": \"#4D5663\"}}, \"zerolinecolor\": \"#E1E5ED\"}}, {\"showLink\": true, \"linkText\": \"Export to plot.ly\", \"plotlyServerURL\": \"https://plot.ly\"})});</script><script type=\"text/javascript\">window.addEventListener(\"resize\", function(){window._Plotly.Plots.resize(document.getElementById(\"6b3d2f09-114e-464b-969b-d30badefe993\"));});</script>"
      ],
      "text/vnd.plotly.v1+html": [
       "<div id=\"6b3d2f09-114e-464b-969b-d30badefe993\" style=\"height: 525px; width: 100%;\" class=\"plotly-graph-div\"></div><script type=\"text/javascript\">require([\"plotly\"], function(Plotly) { window.PLOTLYENV=window.PLOTLYENV || {};window.PLOTLYENV.BASE_URL=\"https://plot.ly\";Plotly.newPlot(\"6b3d2f09-114e-464b-969b-d30badefe993\", [{\"marker\": {\"color\": \"rgba(255, 153, 51, 0.6)\", \"line\": {\"color\": \"rgba(255, 153, 51, 1.0)\", \"width\": 1}}, \"name\": \"Column A\", \"orientation\": \"v\", \"text\": \"\", \"x\": [0, 1, 2, 3, 4], \"y\": [0.2164216877888141, 0.47958046736742477, 0.8402689083234675, 0.8333807039622935, 0.7969798221953855], \"type\": \"bar\", \"uid\": \"9a20d4d7-f68c-4682-a2c8-84508dbbdd85\"}, {\"marker\": {\"color\": \"rgba(55, 128, 191, 0.6)\", \"line\": {\"color\": \"rgba(55, 128, 191, 1.0)\", \"width\": 1}}, \"name\": \"Column B\", \"orientation\": \"v\", \"text\": \"\", \"x\": [0, 1, 2, 3, 4], \"y\": [0.4875009148554379, 0.5598130200955803, 0.5554945898066155, 0.6975889775788051, 0.4990878315020002], \"type\": \"bar\", \"uid\": \"556057ca-0428-415e-a3c0-ef6a8156cd91\"}], {\"legend\": {\"bgcolor\": \"#F5F6F9\", \"font\": {\"color\": \"#4D5663\"}}, \"paper_bgcolor\": \"#F5F6F9\", \"plot_bgcolor\": \"#F5F6F9\", \"title\": {\"text\": \"A random example\", \"font\": {\"color\": \"#4D5663\"}}, \"xaxis\": {\"gridcolor\": \"#E1E5ED\", \"showgrid\": true, \"tickfont\": {\"color\": \"#4D5663\"}, \"title\": {\"text\": \"index\", \"font\": {\"color\": \"#4D5663\"}}, \"zerolinecolor\": \"#E1E5ED\"}, \"yaxis\": {\"gridcolor\": \"#E1E5ED\", \"showgrid\": true, \"tickfont\": {\"color\": \"#4D5663\"}, \"title\": {\"text\": \"value\", \"font\": {\"color\": \"#4D5663\"}}, \"zerolinecolor\": \"#E1E5ED\"}}, {\"showLink\": true, \"linkText\": \"Export to plot.ly\", \"plotlyServerURL\": \"https://plot.ly\"})});</script><script type=\"text/javascript\">window.addEventListener(\"resize\", function(){window._Plotly.Plots.resize(document.getElementById(\"6b3d2f09-114e-464b-969b-d30badefe993\"));});</script>"
      ]
     },
     "metadata": {},
     "output_type": "display_data"
    }
   ],
   "source": [
    "# The Plotly plot can be generated with a one liner directly from the dataframe\n",
    "df.iplot(kind='bar', title='A random example', xTitle='index', yTitle='value')"
   ]
  },
  {
   "cell_type": "code",
   "execution_count": 9,
   "metadata": {
    "ExecuteTime": {
     "end_time": "2017-01-15T22:51:14.679116",
     "start_time": "2017-01-15T22:51:14.175407"
    }
   },
   "outputs": [
    {
     "data": {
      "text/plain": [
       "'file:///Users/falkvandermeirsch/Documents/DSR/14.Visualization/PLOTLY/my_cufflinks_plot.html'"
      ]
     },
     "execution_count": 9,
     "metadata": {},
     "output_type": "execute_result"
    }
   ],
   "source": [
    "# Export it as standalone HTML converting first to plotly figure\n",
    "fig = df.iplot(kind='bar', title='A random example', xTitle='index', yTitle='value', asFigure=True)\n",
    "\n",
    "# and then using the plotly library\n",
    "py.offline.plot(fig, filename='my_cufflinks_plot.html', include_plotlyjs=True)"
   ]
  },
  {
   "cell_type": "markdown",
   "metadata": {},
   "source": [
    "## Subplots"
   ]
  },
  {
   "cell_type": "code",
   "execution_count": null,
   "metadata": {},
   "outputs": [],
   "source": [
    "# Contrary to what we saw so far, the figure object with subplots is defined beforehand:\n",
    "from plotly.tools import make_subplots\n",
    "\n",
    "fig = make_subplots(rows=1, cols=2, subplot_titles=('f(x) = sin(x)', 'f(x) = cos(x)'), shared_yaxes=True)"
   ]
  },
  {
   "cell_type": "code",
   "execution_count": null,
   "metadata": {},
   "outputs": [],
   "source": [
    "# Then we use the method 'append_trace' to append each trace to the indicated subplot\n",
    "x = np.linspace(0, 2*np.pi)\n",
    "trace0 = dict(type='scatter', x=x, y=np.sin(x), name='sin(x)')\n",
    "trace1 = dict(type='scatter', x=x, y=np.cos(x), name='cos(x)')\n",
    "\n",
    "fig.append_trace(trace0, 1, 1)\n",
    "fig.append_trace(trace1, 1, 2)"
   ]
  },
  {
   "cell_type": "code",
   "execution_count": null,
   "metadata": {},
   "outputs": [],
   "source": [
    "py.offline.iplot(fig)"
   ]
  },
  {
   "cell_type": "code",
   "execution_count": null,
   "metadata": {},
   "outputs": [],
   "source": [
    "# The layout can be modified a posteriori,\n",
    "\n",
    "# either accessing each key individually with the dot notation:\n",
    "fig.layout.xaxis1.title = 'x'\n",
    "fig.layout.xaxis2.title = 'x'\n",
    "fig.layout.yaxis1.title = 'f(x)'\n",
    "fig.layout.title = 'Trigonometric functions'\n",
    "fig.layout.showlegend = False\n",
    "\n",
    "# or updating all of them at once with the method 'update':\n",
    "layout = dict(xaxis1=dict(title='x'),\n",
    "              xaxis2=dict(title='x'),\n",
    "              yaxis1=dict(title='f(x)'),\n",
    "              title='Trigonometric functions',\n",
    "              showlegend=False)\n",
    "\n",
    "fig.layout.update(layout)\n",
    "\n",
    "# Note that 'xaxis' and 'yaxis' have now suffixes starting from 1:"
   ]
  },
  {
   "cell_type": "code",
   "execution_count": null,
   "metadata": {},
   "outputs": [],
   "source": [
    "py.offline.iplot(fig)"
   ]
  },
  {
   "cell_type": "markdown",
   "metadata": {
    "slideshow": {
     "slide_type": "slide"
    }
   },
   "source": [
    "## Buttons, Dropdowns and Animations"
   ]
  },
  {
   "cell_type": "code",
   "execution_count": null,
   "metadata": {},
   "outputs": [],
   "source": [
    "# See the Plotly documentation:\n",
    "#    https://plot.ly/python/custom-buttons/\n",
    "#    https://plot.ly/python/dropdowns/\n",
    "#    https://plot.ly/python/animations/\n",
    "#\n",
    "# The following is a simple example"
   ]
  },
  {
   "cell_type": "code",
   "execution_count": null,
   "metadata": {},
   "outputs": [],
   "source": [
    "import plotly as py\n",
    "import plotly.graph_objs as go"
   ]
  },
  {
   "cell_type": "code",
   "execution_count": null,
   "metadata": {
    "ExecuteTime": {
     "end_time": "2017-07-08T22:43:17.323776",
     "start_time": "2017-07-08T22:43:17.296534"
    },
    "collapsed": true
   },
   "outputs": [],
   "source": [
    "data = [{'x': [0, 1], 'y': [0, 1]}]\n",
    "\n",
    "layout = go.Layout(xaxis={'range': [0, 5], 'autorange': False},\n",
    "                   yaxis={'range': [0, 5], 'autorange': False},\n",
    "                   title='Start Title',\n",
    "                   updatemenus=[{'type': 'buttons',\n",
    "                                 'buttons': [{'label': 'Play',\n",
    "                                              'method': 'animate',\n",
    "                                              'args': [None]}]}])\n",
    "\n",
    "frames = [\n",
    "    {'data': [{'x': [1, 2], 'y': [1, 2]}]},\n",
    "    {'data': [{'x': [1, 4], 'y': [1, 4]}]},\n",
    "    {'data': [{'x': [3, 4], 'y': [3, 4]}], 'layout': {'title': 'End Title'}}\n",
    "]\n",
    "\n",
    "fig = go.Figure(data=data, layout=layout, frames=frames)\n",
    "\n",
    "py.offline.iplot(fig)"
   ]
  },
  {
   "cell_type": "markdown",
   "metadata": {
    "slideshow": {
     "slide_type": "subslide"
    }
   },
   "source": [
    "## Other Amazing Stuff\n",
    "\n",
    "1. [Streaming Data](https://plot.ly/python/streaming-tutorial/)\n",
    "2. [Connecting Databases](https://plot.ly/python/#databases)\n",
    "3. [Building Reports](https://plot.ly/python/html-reports/)\n",
    "4. [Plotly Dashboards](https://plot.ly/dashboards/)\n",
    "5. [Dash library](https://medium.com/@plotlygraphs/introducing-dash-5ecf7191b503)"
   ]
  }
 ],
 "metadata": {
  "celltoolbar": "Raw Cell Format",
  "kernelspec": {
   "display_name": "Python 3",
   "language": "python",
   "name": "python3"
  },
  "language_info": {
   "codemirror_mode": {
    "name": "ipython",
    "version": 3
   },
   "file_extension": ".py",
   "mimetype": "text/x-python",
   "name": "python",
   "nbconvert_exporter": "python",
   "pygments_lexer": "ipython3",
   "version": "3.7.0"
  },
  "toc": {
   "toc_cell": false,
   "toc_number_sections": true,
   "toc_section_display": "block",
   "toc_threshold": 6,
   "toc_window_display": false
  },
  "toc_position": {
   "height": "323px",
   "left": "760.885px",
   "right": "20px",
   "top": "185px",
   "width": "328px"
  },
  "widgets": {
   "state": {},
   "version": "1.1.2"
  }
 },
 "nbformat": 4,
 "nbformat_minor": 2
}
